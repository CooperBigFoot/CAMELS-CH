{
 "cells": [
  {
   "cell_type": "markdown",
   "metadata": {},
   "source": [
    "# Choice of attributes:\n",
    "\n",
    "- pr_ann_w5e5 (Average annual precipitation from CHELSA W5E5)\n",
    "- X_ann_cgiar (PET/aridity index from CGIAR)\n",
    "- ai_ann_bio_chelsa (Aridity index from CHELSA)\n",
    "- h_mean (Mean elevation of the basin)\n",
    "- slope (Mean slope in the basin)\n",
    "- area_km2 (The basin area in square kilometres)\n",
    "- lc_X (Copernicus land cover - specifically forest cover)\n",
    "- fs_ann_chelsa (Snow cover fraction from CHELSA)\n",
    "    - Maybe use SWE here\n",
    "- gl_fr (Fraction of glaciated area in total basin area)\n",
    "- tri (Mean Terrain Ruggedness Index)\n",
    "\n"
   ]
  },
  {
   "cell_type": "markdown",
   "metadata": {},
   "source": [
    "### **Fastest (Easy to implement)**\n",
    "1. **`area_km2`** – (Basin Area)  \n",
    "\n",
    "2. **`h_mean`** – (Mean Elevation)  \n",
    "\n",
    "3. **`slope`** – (Mean Slope)  \n",
    "\n",
    "4. **`dominant aspect`** – (Dominant Aspect)  \n",
    "\n",
    "---\n",
    "\n",
    "### **Moderate Effort**\n",
    "4. **`tri`** – (Mean Terrain Ruggedness Index)  \n",
    "\n",
    "\n",
    "5. **`gl_fr`** – (Glaciated Fraction)  \n",
    "\n",
    "\n",
    "6. **`lc_X`** – (Forest Cover from `CGLS_LC100`)  \n",
    "\n",
    "\n",
    "---\n",
    "\n",
    "### **More Involved**\n",
    "7. **`Quantiles of Topographic index by Area`** – (Topographic Index)  \n",
    "\n",
    "8. **`Hypsometric Curve`** → **(Elevation Distribution)**\n",
    "\n",
    "9. **`fs_ann_chelsa`** → **(Replace CHELSA Snow Cover Fraction with ERA5 SWE)**  \n",
    "\n",
    "10. **`ai_ann_bio_chelsa`** → **(Aridity Index from ERA5 & WaPOR PET)**  \n",
    "\n",
    "---\n",
    "\n",
    "### **Final Ordered To-Do List**\n",
    "1. **Extract basic attributes** (`area_km2`, `h_mean`, `slope`).  \n",
    "2. **Compute TRI** from DEM.  \n",
    "3. **Compute glaciated fraction (`gl_fr`)** using glacier polygons.  \n",
    "4. **Extract land cover (`lc_X`)** from `CGLS_LC100`.  \n",
    "5. **Download ERA5 precipitation (`pr_ann_w5e5`)** & extract for basins.  \n",
    "6. **Download WaPOR PET (`X_ann_cgiar`)** & extract for basins.  \n",
    "7. **Compute `fs_ann_chelsa` using ERA5 SWE**.  \n",
    "8. **Compute `ai_ann_bio_chelsa` (Aridity Index from ERA5 & WaPOR PET)**.\n"
   ]
  },
  {
   "cell_type": "code",
   "execution_count": null,
   "metadata": {},
   "outputs": [],
   "source": []
  },
  {
   "cell_type": "code",
   "execution_count": null,
   "metadata": {},
   "outputs": [],
   "source": []
  }
 ],
 "metadata": {
  "kernelspec": {
   "display_name": ".venv",
   "language": "python",
   "name": "python3"
  },
  "language_info": {
   "codemirror_mode": {
    "name": "ipython",
    "version": 3
   },
   "file_extension": ".py",
   "mimetype": "text/x-python",
   "name": "python",
   "nbconvert_exporter": "python",
   "pygments_lexer": "ipython3",
   "version": "3.12.8"
  }
 },
 "nbformat": 4,
 "nbformat_minor": 2
}
