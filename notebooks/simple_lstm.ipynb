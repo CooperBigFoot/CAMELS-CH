{
 "cells": [
  {
   "cell_type": "code",
   "execution_count": 1,
   "metadata": {},
   "outputs": [],
   "source": [
    "import sys\n",
    "from pathlib import Path\n",
    "sys.path.append(str(Path().absolute().parent))\n",
    "import time"
   ]
  },
  {
   "cell_type": "code",
   "execution_count": null,
   "metadata": {},
   "outputs": [],
   "source": [
    "import torch\n",
    "import lightning.pytorch as pl\n",
    "from lightning.pytorch import Trainer\n",
    "from pytorch_forecasting import TemporalFusionTransformer, TimeSeriesDataSet\n",
    "from pytorch_forecasting.metrics import QuantileLoss\n",
    "from pytorch_forecasting.data import GroupNormalizer\n",
    "from lightning.pytorch.callbacks import EarlyStopping, ModelCheckpoint\n",
    "import pandas as pd\n",
    "from io import StringIO\n",
    "import numpy as np\n",
    "import glob \n",
    "from pathlib import Path\n",
    "\n",
    "from src.data_models.camels_ch import CamelsCH, CamelsCHConfig, get_all_gauge_ids\n",
    "from src.data_models.dataset import HydroDataset"
   ]
  },
  {
   "cell_type": "markdown",
   "metadata": {},
   "source": [
    "---"
   ]
  },
  {
   "cell_type": "markdown",
   "metadata": {},
   "source": [
    "## Getting the data"
   ]
  },
  {
   "cell_type": "code",
   "execution_count": null,
   "metadata": {},
   "outputs": [],
   "source": [
    "camels_config = CamelsCHConfig(\n",
    "    timeseries_dir=\"/Users/cooper/Desktop/CAMELS-CH/data/timeseries/observation_based/\",\n",
    "    timeseries_pattern=\"CAMELS_CH_obs_based_*.csv\",\n",
    "    static_attributes_dir=\"/Users/cooper/Desktop/CAMELS-CH/data/static_attributes\",\n",
    "    use_climate=False,\n",
    "    use_geology=False,\n",
    "    use_glacier=False,\n",
    "    use_human_influence=False,\n",
    "    use_hydrogeology=False,\n",
    "    use_hydrology=False,\n",
    "    use_landcover=False,\n",
    "    use_soil=False,\n",
    "    use_topographic=True,\n",
    ")\n",
    "\n",
    "camels = CamelsCH(camels_config)\n",
    "camels.load_stations([\"2018\", \"6005\"]) "
   ]
  },
  {
   "cell_type": "code",
   "execution_count": null,
   "metadata": {},
   "outputs": [],
   "source": [
    "static = camels.get_static_attributes()\n",
    "static"
   ]
  },
  {
   "cell_type": "code",
   "execution_count": null,
   "metadata": {},
   "outputs": [],
   "source": [
    "# Create dataset\n",
    "dataset = HydroDataset(\n",
    "    time_series_df=camels.get_time_series(),\n",
    "    static_df=camels.get_static_attributes(),\n",
    "    input_length=365,\n",
    "    output_length=5,\n",
    "    features=[\"discharge_spec(mm/d)\", \"precipitation(mm/d)\", \"temperature_mean(degC)\"],\n",
    "    target=\"discharge_spec(mm/d)\",\n",
    "    static_features=[\"elev_mean\", \"slope_mean\"],\n",
    ")\n",
    "\n",
    "# Test dataset\n",
    "print(f\"Dataset size: {len(dataset)}\")\n",
    "sample = dataset[0]\n",
    "print(\"\\nSample shapes:\")\n",
    "print(f\"X: {sample['X'].shape}\")\n",
    "print(f\"y: {sample['y'].shape}\")\n",
    "print(f\"static: {sample['static'].shape}\")\n",
    "print(f\"gauge_id: {sample['gauge_id']}\")"
   ]
  },
  {
   "cell_type": "code",
   "execution_count": null,
   "metadata": {},
   "outputs": [],
   "source": [
    "data = camels.get_time_series()\n",
    "data = data[\n",
    "    [\n",
    "        \"date\",\n",
    "        \"discharge_spec(mm/d)\",\n",
    "        \"precipitation(mm/d)\",\n",
    "        \"temperature_mean(degC)\",\n",
    "        \"gauge_id\",\n",
    "    ]\n",
    "]\n",
    "\n",
    "data"
   ]
  },
  {
   "cell_type": "code",
   "execution_count": 5,
   "metadata": {},
   "outputs": [],
   "source": [
    "data = data.dropna(subset=[\"discharge_spec(mm/d)\"])\n",
    "\n",
    "data.loc[:, \"precipitation(mm/d)\"] = data[\"precipitation(mm/d)\"].fillna(0)\n",
    "\n",
    "data.loc[:, \"temperature_mean(degC)\"] = data[\"temperature_mean(degC)\"].fillna(\n",
    "    data[\"temperature_mean(degC)\"].mean()\n",
    ")"
   ]
  },
  {
   "cell_type": "code",
   "execution_count": null,
   "metadata": {},
   "outputs": [],
   "source": [
    "data.loc[:, \"time_idx\"] = data[\"date\"].rank(method=\"dense\").astype(int) - 1"
   ]
  },
  {
   "cell_type": "markdown",
   "metadata": {},
   "source": [
    "## Preparing the data"
   ]
  },
  {
   "cell_type": "code",
   "execution_count": 7,
   "metadata": {},
   "outputs": [],
   "source": [
    "max_encoder_length = 365\n",
    "max_prediction_length = 1\n",
    "\n",
    "training_cutoff = data[\"time_idx\"].max() - max_prediction_length * 365 \n",
    "\n",
    "training = TimeSeriesDataSet(\n",
    "   data[lambda x: x[\"time_idx\"] <= training_cutoff],\n",
    "   time_idx=\"time_idx\",\n",
    "   target=\"discharge_spec(mm/d)\", \n",
    "   group_ids=[\"gauge_id\"],\n",
    "   max_encoder_length=max_encoder_length,\n",
    "   min_encoder_length=max_encoder_length // 2,\n",
    "   max_prediction_length=max_prediction_length,\n",
    "   min_prediction_length=1,\n",
    "   time_varying_known_reals=[\"precipitation(mm/d)\", \"temperature_mean(degC)\"],\n",
    "   time_varying_unknown_reals=[\"discharge_spec(mm/d)\"],\n",
    "   target_normalizer=GroupNormalizer(groups=[\"gauge_id\"]),\n",
    "   add_relative_time_idx=True,\n",
    "   add_target_scales=True,\n",
    "   add_encoder_length=True,\n",
    "   allow_missing_timesteps=True\n",
    ")\n",
    "\n",
    "# Create validation set using last max_prediction_length timesteps\n",
    "validation = TimeSeriesDataSet.from_dataset(\n",
    "   training,\n",
    "   data[lambda x: x[\"time_idx\"] > training_cutoff],\n",
    "   predict=True,\n",
    "   stop_randomization=True\n",
    ")\n",
    "\n",
    "batch_size = 128\n",
    "train_dataloader = training.to_dataloader(train=True, batch_size=batch_size, num_workers=0)\n",
    "val_dataloader = validation.to_dataloader(train=False, batch_size=batch_size, num_workers=0)"
   ]
  },
  {
   "cell_type": "code",
   "execution_count": null,
   "metadata": {},
   "outputs": [],
   "source": [
    "callbacks = [\n",
    "    EarlyStopping(monitor=\"val_loss\", patience=3, mode=\"min\"),\n",
    "    ModelCheckpoint(\n",
    "        monitor=\"val_loss\",\n",
    "        dirpath=\"checkpoints\",\n",
    "        filename=\"tft-{epoch:02d}-{val_loss:.2f}\",\n",
    "        save_top_k=3,\n",
    "        mode=\"min\",\n",
    "    ),\n",
    "]\n",
    "\n",
    "trainer = Trainer(\n",
    "    max_epochs=30,\n",
    "    accelerator=\"cpu\",\n",
    "    devices=[0] if torch.cuda.is_available() else 1,\n",
    "    gradient_clip_val=0.1,\n",
    "    limit_train_batches=50,\n",
    "    enable_checkpointing=True,\n",
    "    logger=True,\n",
    "    callbacks=callbacks,\n",
    ")"
   ]
  },
  {
   "cell_type": "code",
   "execution_count": null,
   "metadata": {},
   "outputs": [],
   "source": [
    "tft = TemporalFusionTransformer.from_dataset(\n",
    "    training,\n",
    "    learning_rate=0.03,\n",
    "    hidden_size=16,\n",
    "    attention_head_size=1,\n",
    "    dropout=0.1,\n",
    "    hidden_continuous_size=8,\n",
    "    output_size=7,\n",
    "    loss=QuantileLoss(),\n",
    "    log_interval=10,\n",
    "    reduce_on_plateau_patience=4,\n",
    "    optimizer=\"adam\",\n",
    ")\n",
    "\n",
    "trainer.fit(tft, train_dataloaders=train_dataloader, val_dataloaders=val_dataloader)"
   ]
  },
  {
   "cell_type": "code",
   "execution_count": null,
   "metadata": {},
   "outputs": [],
   "source": [
    "best_model_path = \"/Users/cooper/Desktop/CAMELS-CH/notebooks/checkpoints/tft-epoch=00-val_loss=0.16.ckpt\"\n",
    "\n",
    "hindcast_cutoff = data[\"time_idx\"].max() - max_prediction_length * 365\n",
    "\n",
    "# Load the best model and set to eval mode\n",
    "best_model = TemporalFusionTransformer.load_from_checkpoint(best_model_path)\n",
    "best_model.eval()\n",
    "\n",
    "# Evaluate on a validation/test dataset (built via from_dataset)\n",
    "predictions = best_model.predict(val_dataloader, return_y=True)\n",
    "# Compute a metric (e.g., SMAPE)\n",
    "smape = SMAPE()(predictions.output, predictions.y)\n",
    "print(\"SMAPE:\", smape.item())\n",
    "\n",
    "# Hindcast example: create a hindcast dataset (using predict_mode=True ensures only the last forecast point is used)\n",
    "hindcast_dataset = TimeSeriesDataSet.from_dataset(\n",
    "    training,\n",
    "    data[lambda x: x[\"time_idx\"] > hindcast_cutoff],\n",
    "    predict=True,\n",
    "    stop_randomization=True\n",
    ")\n",
    "hindcast_dataloader = hindcast_dataset.to_dataloader(train=False, batch_size=128)\n",
    "hindcast_predictions = best_model.predict(hindcast_dataloader)\n",
    "# You can then compare hindcast_predictions with the known historical targets\n",
    "best_model.plot_prediction(hindcast_predictions.x, hindcast_predictions.output, idx=0)\n"
   ]
  }
 ],
 "metadata": {
  "kernelspec": {
   "display_name": ".venv",
   "language": "python",
   "name": "python3"
  },
  "language_info": {
   "codemirror_mode": {
    "name": "ipython",
    "version": 3
   },
   "file_extension": ".py",
   "mimetype": "text/x-python",
   "name": "python",
   "nbconvert_exporter": "python",
   "pygments_lexer": "ipython3",
   "version": "3.12.8"
  }
 },
 "nbformat": 4,
 "nbformat_minor": 2
}
