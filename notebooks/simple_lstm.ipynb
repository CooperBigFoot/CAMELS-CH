{
 "cells": [
  {
   "cell_type": "code",
   "execution_count": 1,
   "metadata": {},
   "outputs": [],
   "source": [
    "import sys\n",
    "from pathlib import Path\n",
    "sys.path.append(str(Path().absolute().parent))\n",
    "import time"
   ]
  },
  {
   "cell_type": "code",
   "execution_count": 2,
   "metadata": {},
   "outputs": [],
   "source": [
    "import pytorch_lightning as pl\n",
    "from pytorch_lightning.callbacks import (\n",
    "    ModelCheckpoint,\n",
    "    EarlyStopping,\n",
    "    LearningRateMonitor,\n",
    ")\n",
    "import torch\n",
    "from torch.nn import MSELoss\n",
    "from torch.optim import Adam\n",
    "import matplotlib.pyplot as plt\n",
    "import numpy as np\n",
    "\n",
    "import matplotlib.pyplot as plt\n",
    "import seaborn as sns\n",
    "\n",
    "import pandas as pd\n",
    "import glob\n",
    "from pathlib import Path\n",
    "\n",
    "from src.data_models.camels_ch import CamelsCH, CamelsCHConfig, get_all_gauge_ids\n",
    "from src.data_models.dataset import HydroDataset\n",
    "from src.data_models.preprocessing import (\n",
    "    scale_time_series,\n",
    "    scale_static_attributes,\n",
    "    inverse_scale_static_attributes,\n",
    "    inverse_scale_time_series,\n",
    ")\n",
    "from src.data_models.caravanify import Caravanify, CaravanifyConfig\n",
    "\n",
    "from utils.metrics import nash_sutcliffe_efficiency\n",
    "from src.data_models.datamodule import HydroDataModule\n",
    "\n",
    "from sklearn.pipeline import Pipeline\n",
    "from sklearn.compose import ColumnTransformer\n",
    "\n",
    "from src.preprocessing.grouped import GroupedTransformer\n",
    "from src.preprocessing.log_scale import LogTransformer\n",
    "from src.preprocessing.standard_scale import StandardScaleTransformer"
   ]
  },
  {
   "cell_type": "markdown",
   "metadata": {},
   "source": [
    "---"
   ]
  },
  {
   "cell_type": "markdown",
   "metadata": {},
   "source": [
    "## Testing Caravanify"
   ]
  },
  {
   "cell_type": "code",
   "execution_count": 3,
   "metadata": {},
   "outputs": [
    {
     "name": "stdout",
     "output_type": "stream",
     "text": [
      "Total number of stations: 3\n"
     ]
    }
   ],
   "source": [
    "config = CaravanifyConfig(\n",
    "    attributes_dir=\"/Users/cooper/Desktop/CAMELS-CH/data/CARAVANIFY/CA/post_processed/attributes\",\n",
    "    timeseries_dir=\"/Users/cooper/Desktop/CAMELS-CH/data/CARAVANIFY/CA/post_processed/timeseries/csv\",\n",
    "    gauge_id_prefix=\"CA\",\n",
    "    use_hydroatlas_attributes=True,\n",
    "    use_caravan_attributes=True,\n",
    "    use_other_attributes=True,\n",
    ")\n",
    "\n",
    "\n",
    "caravan = Caravanify(config)\n",
    "# ids_for_training = [\n",
    "#     \"CA_15016\",\n",
    "#     \"CA_17462\",\n",
    "# ]\n",
    "ids_for_training = caravan.get_all_gauge_ids()[:3]\n",
    "\n",
    "print(f\"Total number of stations: {len(ids_for_training)}\")\n",
    "\n",
    "caravan.load_stations(ids_for_training)\n",
    "\n",
    "\n",
    "# Get data\n",
    "ts_data = caravan.get_time_series()  \n",
    "static_data = caravan.get_static_attributes()  "
   ]
  },
  {
   "cell_type": "code",
   "execution_count": 4,
   "metadata": {},
   "outputs": [
    {
     "data": {
      "text/plain": [
       "Index(['gauge_id', 'date', 'snow_depth_water_equivalent_mean',\n",
       "       'surface_net_solar_radiation_mean',\n",
       "       'surface_net_thermal_radiation_mean', 'surface_pressure_mean',\n",
       "       'temperature_2m_mean', 'dewpoint_temperature_2m_mean',\n",
       "       'u_component_of_wind_10m_mean', 'v_component_of_wind_10m_mean',\n",
       "       'volumetric_soil_water_layer_1_mean',\n",
       "       'volumetric_soil_water_layer_2_mean',\n",
       "       'volumetric_soil_water_layer_3_mean',\n",
       "       'volumetric_soil_water_layer_4_mean', 'snow_depth_water_equivalent_min',\n",
       "       'surface_net_solar_radiation_min', 'surface_net_thermal_radiation_min',\n",
       "       'surface_pressure_min', 'temperature_2m_min',\n",
       "       'dewpoint_temperature_2m_min', 'u_component_of_wind_10m_min',\n",
       "       'v_component_of_wind_10m_min', 'volumetric_soil_water_layer_1_min',\n",
       "       'volumetric_soil_water_layer_2_min',\n",
       "       'volumetric_soil_water_layer_3_min',\n",
       "       'volumetric_soil_water_layer_4_min', 'snow_depth_water_equivalent_max',\n",
       "       'surface_net_solar_radiation_max', 'surface_net_thermal_radiation_max',\n",
       "       'surface_pressure_max', 'temperature_2m_max',\n",
       "       'dewpoint_temperature_2m_max', 'u_component_of_wind_10m_max',\n",
       "       'v_component_of_wind_10m_max', 'volumetric_soil_water_layer_1_max',\n",
       "       'volumetric_soil_water_layer_2_max',\n",
       "       'volumetric_soil_water_layer_3_max',\n",
       "       'volumetric_soil_water_layer_4_max', 'total_precipitation_sum',\n",
       "       'potential_evaporation_sum_ERA5_LAND',\n",
       "       'potential_evaporation_sum_FAO_PENMAN_MONTEITH', 'streamflow'],\n",
       "      dtype='object')"
      ]
     },
     "execution_count": 4,
     "metadata": {},
     "output_type": "execute_result"
    }
   ],
   "source": [
    "ts_data.columns"
   ]
  },
  {
   "cell_type": "code",
   "execution_count": 5,
   "metadata": {},
   "outputs": [],
   "source": [
    "ts_data[\"date\"] = pd.to_datetime(ts_data[\"date\"])\n",
    "\n",
    "# Now we can get the day of year using dt accessor\n",
    "ts_data[\"julian_day\"] = ts_data[\"date\"].dt.dayofyear\n",
    "\n",
    "# Get column names excluding specific columns\n",
    "ts_columns = [\n",
    "    \"potential_evaporation_sum_ERA5_LAND\",\n",
    "    \"potential_evaporation_sum_FAO_PENMAN_MONTEITH\",\n",
    "    \"streamflow\",\n",
    "    # \"julian_day\",\n",
    "    \"temperature_2m_mean\",\n",
    "    \"total_precipitation_sum\",\n",
    "]"
   ]
  },
  {
   "cell_type": "code",
   "execution_count": 6,
   "metadata": {},
   "outputs": [
    {
     "data": {
      "text/html": [
       "<div>\n",
       "<style scoped>\n",
       "    .dataframe tbody tr th:only-of-type {\n",
       "        vertical-align: middle;\n",
       "    }\n",
       "\n",
       "    .dataframe tbody tr th {\n",
       "        vertical-align: top;\n",
       "    }\n",
       "\n",
       "    .dataframe thead th {\n",
       "        text-align: right;\n",
       "    }\n",
       "</style>\n",
       "<table border=\"1\" class=\"dataframe\">\n",
       "  <thead>\n",
       "    <tr style=\"text-align: right;\">\n",
       "      <th></th>\n",
       "      <th>gauge_id</th>\n",
       "      <th>date</th>\n",
       "      <th>snow_depth_water_equivalent_mean</th>\n",
       "      <th>surface_net_solar_radiation_mean</th>\n",
       "      <th>surface_net_thermal_radiation_mean</th>\n",
       "      <th>surface_pressure_mean</th>\n",
       "      <th>temperature_2m_mean</th>\n",
       "      <th>dewpoint_temperature_2m_mean</th>\n",
       "      <th>u_component_of_wind_10m_mean</th>\n",
       "      <th>v_component_of_wind_10m_mean</th>\n",
       "      <th>...</th>\n",
       "      <th>v_component_of_wind_10m_max</th>\n",
       "      <th>volumetric_soil_water_layer_1_max</th>\n",
       "      <th>volumetric_soil_water_layer_2_max</th>\n",
       "      <th>volumetric_soil_water_layer_3_max</th>\n",
       "      <th>volumetric_soil_water_layer_4_max</th>\n",
       "      <th>total_precipitation_sum</th>\n",
       "      <th>potential_evaporation_sum_ERA5_LAND</th>\n",
       "      <th>potential_evaporation_sum_FAO_PENMAN_MONTEITH</th>\n",
       "      <th>streamflow</th>\n",
       "      <th>julian_day</th>\n",
       "    </tr>\n",
       "  </thead>\n",
       "  <tbody>\n",
       "    <tr>\n",
       "      <th>0</th>\n",
       "      <td>CA_15013</td>\n",
       "      <td>2000-01-02</td>\n",
       "      <td>130.25</td>\n",
       "      <td>15.01</td>\n",
       "      <td>-9.28</td>\n",
       "      <td>71.16</td>\n",
       "      <td>-10.18</td>\n",
       "      <td>-13.73</td>\n",
       "      <td>0.95</td>\n",
       "      <td>1.99</td>\n",
       "      <td>...</td>\n",
       "      <td>2.73</td>\n",
       "      <td>0.34</td>\n",
       "      <td>0.35</td>\n",
       "      <td>0.35</td>\n",
       "      <td>0.38</td>\n",
       "      <td>5.97</td>\n",
       "      <td>0.13</td>\n",
       "      <td>0.24</td>\n",
       "      <td>0.63</td>\n",
       "      <td>2</td>\n",
       "    </tr>\n",
       "    <tr>\n",
       "      <th>1</th>\n",
       "      <td>CA_15013</td>\n",
       "      <td>2000-01-03</td>\n",
       "      <td>144.62</td>\n",
       "      <td>10.59</td>\n",
       "      <td>-11.76</td>\n",
       "      <td>71.11</td>\n",
       "      <td>-8.43</td>\n",
       "      <td>-9.87</td>\n",
       "      <td>1.72</td>\n",
       "      <td>0.54</td>\n",
       "      <td>...</td>\n",
       "      <td>1.44</td>\n",
       "      <td>0.34</td>\n",
       "      <td>0.35</td>\n",
       "      <td>0.35</td>\n",
       "      <td>0.38</td>\n",
       "      <td>20.43</td>\n",
       "      <td>-0.00</td>\n",
       "      <td>0.07</td>\n",
       "      <td>0.63</td>\n",
       "      <td>3</td>\n",
       "    </tr>\n",
       "    <tr>\n",
       "      <th>2</th>\n",
       "      <td>CA_15013</td>\n",
       "      <td>2000-01-04</td>\n",
       "      <td>167.69</td>\n",
       "      <td>13.05</td>\n",
       "      <td>-16.00</td>\n",
       "      <td>71.25</td>\n",
       "      <td>-9.37</td>\n",
       "      <td>-11.59</td>\n",
       "      <td>-0.24</td>\n",
       "      <td>0.83</td>\n",
       "      <td>...</td>\n",
       "      <td>1.76</td>\n",
       "      <td>0.34</td>\n",
       "      <td>0.35</td>\n",
       "      <td>0.35</td>\n",
       "      <td>0.38</td>\n",
       "      <td>20.20</td>\n",
       "      <td>0.12</td>\n",
       "      <td>0.03</td>\n",
       "      <td>0.63</td>\n",
       "      <td>4</td>\n",
       "    </tr>\n",
       "    <tr>\n",
       "      <th>3</th>\n",
       "      <td>CA_15013</td>\n",
       "      <td>2000-01-05</td>\n",
       "      <td>176.24</td>\n",
       "      <td>23.73</td>\n",
       "      <td>-41.70</td>\n",
       "      <td>71.20</td>\n",
       "      <td>-10.44</td>\n",
       "      <td>-15.85</td>\n",
       "      <td>-0.68</td>\n",
       "      <td>2.28</td>\n",
       "      <td>...</td>\n",
       "      <td>2.72</td>\n",
       "      <td>0.34</td>\n",
       "      <td>0.35</td>\n",
       "      <td>0.35</td>\n",
       "      <td>0.38</td>\n",
       "      <td>1.24</td>\n",
       "      <td>0.37</td>\n",
       "      <td>0.15</td>\n",
       "      <td>0.63</td>\n",
       "      <td>5</td>\n",
       "    </tr>\n",
       "    <tr>\n",
       "      <th>4</th>\n",
       "      <td>CA_15013</td>\n",
       "      <td>2000-01-06</td>\n",
       "      <td>176.33</td>\n",
       "      <td>25.52</td>\n",
       "      <td>-48.74</td>\n",
       "      <td>71.05</td>\n",
       "      <td>-13.20</td>\n",
       "      <td>-18.98</td>\n",
       "      <td>-0.77</td>\n",
       "      <td>2.42</td>\n",
       "      <td>...</td>\n",
       "      <td>2.93</td>\n",
       "      <td>0.34</td>\n",
       "      <td>0.34</td>\n",
       "      <td>0.35</td>\n",
       "      <td>0.38</td>\n",
       "      <td>0.04</td>\n",
       "      <td>0.28</td>\n",
       "      <td>0.12</td>\n",
       "      <td>0.63</td>\n",
       "      <td>6</td>\n",
       "    </tr>\n",
       "    <tr>\n",
       "      <th>...</th>\n",
       "      <td>...</td>\n",
       "      <td>...</td>\n",
       "      <td>...</td>\n",
       "      <td>...</td>\n",
       "      <td>...</td>\n",
       "      <td>...</td>\n",
       "      <td>...</td>\n",
       "      <td>...</td>\n",
       "      <td>...</td>\n",
       "      <td>...</td>\n",
       "      <td>...</td>\n",
       "      <td>...</td>\n",
       "      <td>...</td>\n",
       "      <td>...</td>\n",
       "      <td>...</td>\n",
       "      <td>...</td>\n",
       "      <td>...</td>\n",
       "      <td>...</td>\n",
       "      <td>...</td>\n",
       "      <td>...</td>\n",
       "      <td>...</td>\n",
       "    </tr>\n",
       "    <tr>\n",
       "      <th>27388</th>\n",
       "      <td>CA_15020</td>\n",
       "      <td>2024-12-27</td>\n",
       "      <td>213.01</td>\n",
       "      <td>20.48</td>\n",
       "      <td>-36.81</td>\n",
       "      <td>67.37</td>\n",
       "      <td>-15.99</td>\n",
       "      <td>-25.31</td>\n",
       "      <td>-0.91</td>\n",
       "      <td>1.94</td>\n",
       "      <td>...</td>\n",
       "      <td>2.52</td>\n",
       "      <td>0.35</td>\n",
       "      <td>0.36</td>\n",
       "      <td>0.36</td>\n",
       "      <td>0.41</td>\n",
       "      <td>0.07</td>\n",
       "      <td>0.03</td>\n",
       "      <td>0.19</td>\n",
       "      <td>NaN</td>\n",
       "      <td>362</td>\n",
       "    </tr>\n",
       "    <tr>\n",
       "      <th>27389</th>\n",
       "      <td>CA_15020</td>\n",
       "      <td>2024-12-28</td>\n",
       "      <td>213.06</td>\n",
       "      <td>23.45</td>\n",
       "      <td>-49.38</td>\n",
       "      <td>67.32</td>\n",
       "      <td>-18.70</td>\n",
       "      <td>-25.35</td>\n",
       "      <td>-0.88</td>\n",
       "      <td>2.01</td>\n",
       "      <td>...</td>\n",
       "      <td>2.61</td>\n",
       "      <td>0.35</td>\n",
       "      <td>0.36</td>\n",
       "      <td>0.36</td>\n",
       "      <td>0.41</td>\n",
       "      <td>0.00</td>\n",
       "      <td>0.00</td>\n",
       "      <td>0.06</td>\n",
       "      <td>NaN</td>\n",
       "      <td>363</td>\n",
       "    </tr>\n",
       "    <tr>\n",
       "      <th>27390</th>\n",
       "      <td>CA_15020</td>\n",
       "      <td>2024-12-29</td>\n",
       "      <td>213.07</td>\n",
       "      <td>23.48</td>\n",
       "      <td>-40.60</td>\n",
       "      <td>67.00</td>\n",
       "      <td>-20.07</td>\n",
       "      <td>-28.59</td>\n",
       "      <td>-1.06</td>\n",
       "      <td>2.73</td>\n",
       "      <td>...</td>\n",
       "      <td>3.10</td>\n",
       "      <td>0.35</td>\n",
       "      <td>0.36</td>\n",
       "      <td>0.36</td>\n",
       "      <td>0.41</td>\n",
       "      <td>0.00</td>\n",
       "      <td>0.01</td>\n",
       "      <td>0.19</td>\n",
       "      <td>NaN</td>\n",
       "      <td>364</td>\n",
       "    </tr>\n",
       "    <tr>\n",
       "      <th>27391</th>\n",
       "      <td>CA_15020</td>\n",
       "      <td>2024-12-30</td>\n",
       "      <td>213.90</td>\n",
       "      <td>19.76</td>\n",
       "      <td>-19.28</td>\n",
       "      <td>66.92</td>\n",
       "      <td>-14.66</td>\n",
       "      <td>-24.10</td>\n",
       "      <td>-0.87</td>\n",
       "      <td>1.90</td>\n",
       "      <td>...</td>\n",
       "      <td>2.56</td>\n",
       "      <td>0.35</td>\n",
       "      <td>0.36</td>\n",
       "      <td>0.36</td>\n",
       "      <td>0.41</td>\n",
       "      <td>1.43</td>\n",
       "      <td>0.01</td>\n",
       "      <td>0.32</td>\n",
       "      <td>NaN</td>\n",
       "      <td>365</td>\n",
       "    </tr>\n",
       "    <tr>\n",
       "      <th>27392</th>\n",
       "      <td>CA_15020</td>\n",
       "      <td>2024-12-31</td>\n",
       "      <td>215.16</td>\n",
       "      <td>22.22</td>\n",
       "      <td>-34.52</td>\n",
       "      <td>66.95</td>\n",
       "      <td>-17.61</td>\n",
       "      <td>-23.57</td>\n",
       "      <td>-0.64</td>\n",
       "      <td>2.06</td>\n",
       "      <td>...</td>\n",
       "      <td>2.69</td>\n",
       "      <td>0.35</td>\n",
       "      <td>0.36</td>\n",
       "      <td>0.36</td>\n",
       "      <td>0.41</td>\n",
       "      <td>1.25</td>\n",
       "      <td>0.01</td>\n",
       "      <td>0.12</td>\n",
       "      <td>NaN</td>\n",
       "      <td>366</td>\n",
       "    </tr>\n",
       "  </tbody>\n",
       "</table>\n",
       "<p>27393 rows × 43 columns</p>\n",
       "</div>"
      ],
      "text/plain": [
       "       gauge_id       date  snow_depth_water_equivalent_mean  \\\n",
       "0      CA_15013 2000-01-02                            130.25   \n",
       "1      CA_15013 2000-01-03                            144.62   \n",
       "2      CA_15013 2000-01-04                            167.69   \n",
       "3      CA_15013 2000-01-05                            176.24   \n",
       "4      CA_15013 2000-01-06                            176.33   \n",
       "...         ...        ...                               ...   \n",
       "27388  CA_15020 2024-12-27                            213.01   \n",
       "27389  CA_15020 2024-12-28                            213.06   \n",
       "27390  CA_15020 2024-12-29                            213.07   \n",
       "27391  CA_15020 2024-12-30                            213.90   \n",
       "27392  CA_15020 2024-12-31                            215.16   \n",
       "\n",
       "       surface_net_solar_radiation_mean  surface_net_thermal_radiation_mean  \\\n",
       "0                                 15.01                               -9.28   \n",
       "1                                 10.59                              -11.76   \n",
       "2                                 13.05                              -16.00   \n",
       "3                                 23.73                              -41.70   \n",
       "4                                 25.52                              -48.74   \n",
       "...                                 ...                                 ...   \n",
       "27388                             20.48                              -36.81   \n",
       "27389                             23.45                              -49.38   \n",
       "27390                             23.48                              -40.60   \n",
       "27391                             19.76                              -19.28   \n",
       "27392                             22.22                              -34.52   \n",
       "\n",
       "       surface_pressure_mean  temperature_2m_mean  \\\n",
       "0                      71.16               -10.18   \n",
       "1                      71.11                -8.43   \n",
       "2                      71.25                -9.37   \n",
       "3                      71.20               -10.44   \n",
       "4                      71.05               -13.20   \n",
       "...                      ...                  ...   \n",
       "27388                  67.37               -15.99   \n",
       "27389                  67.32               -18.70   \n",
       "27390                  67.00               -20.07   \n",
       "27391                  66.92               -14.66   \n",
       "27392                  66.95               -17.61   \n",
       "\n",
       "       dewpoint_temperature_2m_mean  u_component_of_wind_10m_mean  \\\n",
       "0                            -13.73                          0.95   \n",
       "1                             -9.87                          1.72   \n",
       "2                            -11.59                         -0.24   \n",
       "3                            -15.85                         -0.68   \n",
       "4                            -18.98                         -0.77   \n",
       "...                             ...                           ...   \n",
       "27388                        -25.31                         -0.91   \n",
       "27389                        -25.35                         -0.88   \n",
       "27390                        -28.59                         -1.06   \n",
       "27391                        -24.10                         -0.87   \n",
       "27392                        -23.57                         -0.64   \n",
       "\n",
       "       v_component_of_wind_10m_mean  ...  v_component_of_wind_10m_max  \\\n",
       "0                              1.99  ...                         2.73   \n",
       "1                              0.54  ...                         1.44   \n",
       "2                              0.83  ...                         1.76   \n",
       "3                              2.28  ...                         2.72   \n",
       "4                              2.42  ...                         2.93   \n",
       "...                             ...  ...                          ...   \n",
       "27388                          1.94  ...                         2.52   \n",
       "27389                          2.01  ...                         2.61   \n",
       "27390                          2.73  ...                         3.10   \n",
       "27391                          1.90  ...                         2.56   \n",
       "27392                          2.06  ...                         2.69   \n",
       "\n",
       "       volumetric_soil_water_layer_1_max  volumetric_soil_water_layer_2_max  \\\n",
       "0                                   0.34                               0.35   \n",
       "1                                   0.34                               0.35   \n",
       "2                                   0.34                               0.35   \n",
       "3                                   0.34                               0.35   \n",
       "4                                   0.34                               0.34   \n",
       "...                                  ...                                ...   \n",
       "27388                               0.35                               0.36   \n",
       "27389                               0.35                               0.36   \n",
       "27390                               0.35                               0.36   \n",
       "27391                               0.35                               0.36   \n",
       "27392                               0.35                               0.36   \n",
       "\n",
       "       volumetric_soil_water_layer_3_max  volumetric_soil_water_layer_4_max  \\\n",
       "0                                   0.35                               0.38   \n",
       "1                                   0.35                               0.38   \n",
       "2                                   0.35                               0.38   \n",
       "3                                   0.35                               0.38   \n",
       "4                                   0.35                               0.38   \n",
       "...                                  ...                                ...   \n",
       "27388                               0.36                               0.41   \n",
       "27389                               0.36                               0.41   \n",
       "27390                               0.36                               0.41   \n",
       "27391                               0.36                               0.41   \n",
       "27392                               0.36                               0.41   \n",
       "\n",
       "       total_precipitation_sum  potential_evaporation_sum_ERA5_LAND  \\\n",
       "0                         5.97                                 0.13   \n",
       "1                        20.43                                -0.00   \n",
       "2                        20.20                                 0.12   \n",
       "3                         1.24                                 0.37   \n",
       "4                         0.04                                 0.28   \n",
       "...                        ...                                  ...   \n",
       "27388                     0.07                                 0.03   \n",
       "27389                     0.00                                 0.00   \n",
       "27390                     0.00                                 0.01   \n",
       "27391                     1.43                                 0.01   \n",
       "27392                     1.25                                 0.01   \n",
       "\n",
       "       potential_evaporation_sum_FAO_PENMAN_MONTEITH  streamflow  julian_day  \n",
       "0                                               0.24        0.63           2  \n",
       "1                                               0.07        0.63           3  \n",
       "2                                               0.03        0.63           4  \n",
       "3                                               0.15        0.63           5  \n",
       "4                                               0.12        0.63           6  \n",
       "...                                              ...         ...         ...  \n",
       "27388                                           0.19         NaN         362  \n",
       "27389                                           0.06         NaN         363  \n",
       "27390                                           0.19         NaN         364  \n",
       "27391                                           0.32         NaN         365  \n",
       "27392                                           0.12         NaN         366  \n",
       "\n",
       "[27393 rows x 43 columns]"
      ]
     },
     "execution_count": 6,
     "metadata": {},
     "output_type": "execute_result"
    }
   ],
   "source": [
    "ts_data"
   ]
  },
  {
   "cell_type": "code",
   "execution_count": 7,
   "metadata": {},
   "outputs": [],
   "source": [
    "whole_data = ts_columns + [\"gauge_id\", \"date\"]\n",
    "ts_data = ts_data[whole_data]\n",
    "\n",
    "# # Group by gauge_id \n",
    "# grouped = ts_data.groupby(\"gauge_id\")\n",
    "\n",
    "# # Plot time series for each gauge of the ts_columns of the last 5 years\n",
    "# for gauge_id, group in grouped:\n",
    "#     group = group.set_index(\"date\")\n",
    "#     group = group.loc[\"2015-01-01\":\"2020-12-31\"]\n",
    "#     group[ts_columns].plot(subplots=True, figsize=(20, 20), title=gauge_id)\n",
    "#     plt.show()\n",
    "\n"
   ]
  },
  {
   "cell_type": "code",
   "execution_count": null,
   "metadata": {},
   "outputs": [],
   "source": []
  },
  {
   "cell_type": "code",
   "execution_count": 8,
   "metadata": {},
   "outputs": [
    {
     "data": {
      "text/html": [
       "<div>\n",
       "<style scoped>\n",
       "    .dataframe tbody tr th:only-of-type {\n",
       "        vertical-align: middle;\n",
       "    }\n",
       "\n",
       "    .dataframe tbody tr th {\n",
       "        vertical-align: top;\n",
       "    }\n",
       "\n",
       "    .dataframe thead th {\n",
       "        text-align: right;\n",
       "    }\n",
       "</style>\n",
       "<table border=\"1\" class=\"dataframe\">\n",
       "  <thead>\n",
       "    <tr style=\"text-align: right;\">\n",
       "      <th></th>\n",
       "      <th>gauge_id</th>\n",
       "      <th>area</th>\n",
       "      <th>cly_pc_sav</th>\n",
       "      <th>ele_mt_sav</th>\n",
       "      <th>slp_dg_sav</th>\n",
       "      <th>aridity_ERA5_LAND</th>\n",
       "      <th>aridity_FAO_PM</th>\n",
       "      <th>frac_snow</th>\n",
       "      <th>high_prec_dur</th>\n",
       "      <th>high_prec_freq</th>\n",
       "      <th>p_mean</th>\n",
       "    </tr>\n",
       "  </thead>\n",
       "  <tbody>\n",
       "    <tr>\n",
       "      <th>0</th>\n",
       "      <td>CA_15013</td>\n",
       "      <td>254.786460</td>\n",
       "      <td>14.563168</td>\n",
       "      <td>2908.817796</td>\n",
       "      <td>174.240171</td>\n",
       "      <td>0.971101</td>\n",
       "      <td>0.531601</td>\n",
       "      <td>0.378615</td>\n",
       "      <td>1.139241</td>\n",
       "      <td>0.035202</td>\n",
       "      <td>2.243786</td>\n",
       "    </tr>\n",
       "    <tr>\n",
       "      <th>1</th>\n",
       "      <td>CA_15016</td>\n",
       "      <td>330.553623</td>\n",
       "      <td>12.462950</td>\n",
       "      <td>3332.875111</td>\n",
       "      <td>232.965619</td>\n",
       "      <td>0.430305</td>\n",
       "      <td>0.326681</td>\n",
       "      <td>0.445887</td>\n",
       "      <td>1.179641</td>\n",
       "      <td>0.025684</td>\n",
       "      <td>2.835258</td>\n",
       "    </tr>\n",
       "    <tr>\n",
       "      <th>2</th>\n",
       "      <td>CA_15020</td>\n",
       "      <td>310.918652</td>\n",
       "      <td>14.465533</td>\n",
       "      <td>3378.811981</td>\n",
       "      <td>256.956719</td>\n",
       "      <td>0.318642</td>\n",
       "      <td>0.265535</td>\n",
       "      <td>0.438106</td>\n",
       "      <td>1.256944</td>\n",
       "      <td>0.023598</td>\n",
       "      <td>3.604888</td>\n",
       "    </tr>\n",
       "  </tbody>\n",
       "</table>\n",
       "</div>"
      ],
      "text/plain": [
       "   gauge_id        area  cly_pc_sav   ele_mt_sav  slp_dg_sav  \\\n",
       "0  CA_15013  254.786460   14.563168  2908.817796  174.240171   \n",
       "1  CA_15016  330.553623   12.462950  3332.875111  232.965619   \n",
       "2  CA_15020  310.918652   14.465533  3378.811981  256.956719   \n",
       "\n",
       "   aridity_ERA5_LAND  aridity_FAO_PM  frac_snow  high_prec_dur  \\\n",
       "0           0.971101        0.531601   0.378615       1.139241   \n",
       "1           0.430305        0.326681   0.445887       1.179641   \n",
       "2           0.318642        0.265535   0.438106       1.256944   \n",
       "\n",
       "   high_prec_freq    p_mean  \n",
       "0        0.035202  2.243786  \n",
       "1        0.025684  2.835258  \n",
       "2        0.023598  3.604888  "
      ]
     },
     "execution_count": 8,
     "metadata": {},
     "output_type": "execute_result"
    }
   ],
   "source": [
    "statics_to_keep = [\n",
    "    \"gauge_id\",\n",
    "    \"p_mean\",\n",
    "    \"area\",\n",
    "    \"ele_mt_sav\",\n",
    "    \"high_prec_dur\",\n",
    "    \"frac_snow\",\n",
    "    \"high_prec_freq\",\n",
    "    \"slp_dg_sav\",\n",
    "    \"cly_pc_sav\",\n",
    "    \"aridity_ERA5_LAND\",\n",
    "    \"aridity_FAO_PM\",\n",
    "]\n",
    "\n",
    "static_columns = static_data.columns\n",
    "static_columns = [col for col in list(static_columns) if col in statics_to_keep]\n",
    "\n",
    "static_data = static_data[static_columns]\n",
    "static_data"
   ]
  },
  {
   "cell_type": "code",
   "execution_count": 9,
   "metadata": {},
   "outputs": [],
   "source": [
    "features = [\n",
    "    col for col in ts_data.columns if col not in [\"gauge_id\", \"date\", \"streamflow\"]\n",
    "]\n",
    "ts_columns = features + [\"streamflow\"]  # Ensure target is not in features\n"
   ]
  },
  {
   "cell_type": "markdown",
   "metadata": {},
   "source": [
    "# 1. Load and prepare CAMELS-CH data"
   ]
  },
  {
   "cell_type": "code",
   "execution_count": 10,
   "metadata": {},
   "outputs": [],
   "source": [
    "# camels_config = CamelsCHConfig(\n",
    "#     timeseries_dir=\"/Users/cooper/Desktop/CAMELS-CH/data/timeseries/observation_based/\",\n",
    "#     timeseries_pattern=\"CAMELS_CH_obs_based_*.csv\",\n",
    "#     static_attributes_dir=\"/Users/cooper/Desktop/CAMELS-CH/data/static_attributes\",\n",
    "#     use_climate=False,\n",
    "#     use_geology=False,\n",
    "#     use_glacier=False,\n",
    "#     use_human_influence=False,\n",
    "#     use_hydrogeology=False,\n",
    "#     use_hydrology=False,\n",
    "#     use_landcover=False,\n",
    "#     use_soil=False,\n",
    "#     use_topographic=False,\n",
    "# )"
   ]
  },
  {
   "cell_type": "code",
   "execution_count": 11,
   "metadata": {},
   "outputs": [],
   "source": [
    "# all_gauge_ids = get_all_gauge_ids(camels_config)\n",
    "\n",
    "# ids_for_training = all_gauge_ids[:5]\n",
    "\n",
    "# camels = CamelsCH(camels_config)\n",
    "# camels.load_stations(ids_for_training)"
   ]
  },
  {
   "cell_type": "code",
   "execution_count": 12,
   "metadata": {},
   "outputs": [],
   "source": [
    "# data = camels.get_time_series()\n",
    "# data = data[\n",
    "#     [\n",
    "#         \"gauge_id\",\n",
    "#         \"date\",\n",
    "#         \"discharge_spec(mm/d)\",\n",
    "#     ]\n",
    "# ]\n",
    "\n",
    "# data"
   ]
  },
  {
   "cell_type": "code",
   "execution_count": 13,
   "metadata": {},
   "outputs": [],
   "source": [
    "# static = camels.get_static_attributes()\n",
    "# sc = static.columns\n",
    "\n",
    "# # for i in range(len(sc)):\n",
    "# #     print(f\"{i}: {sc[i]}\")\n",
    "# static_attributes = [\n",
    "#     \"gauge_id\",\n",
    "#     \"area\", \n",
    "#     \"elev_mean\",  \n",
    "#     \"slope_mean\",  \n",
    "#     \"aridity\",  \n",
    "#     \"p_seasonality\",  \n",
    "#     \"frac_snow\",  \n",
    "#     \"porosity\",  \n",
    "#     \"conductivity\",  \n",
    "#     \"p_mean\",  \n",
    "#     \"geo_porosity\",  \n",
    "# ]\n",
    "# static = static[static_attributes]\n",
    "# static"
   ]
  },
  {
   "cell_type": "markdown",
   "metadata": {},
   "source": [
    "# 2. Configure preprocessing"
   ]
  },
  {
   "cell_type": "code",
   "execution_count": 22,
   "metadata": {},
   "outputs": [],
   "source": [
    "dynamic_feature_cols = features\n",
    "static_feature_cols = [_ for _ in static_columns if _ != \"gauge_id\"]\n",
    "target_cols = [\"streamflow\"]\n",
    "\n",
    "# Feature pipeline: log + scale\n",
    "feature_pipeline = Pipeline([\n",
    "    (\"log\", LogTransformer(columns=dynamic_feature_cols)),\n",
    "    (\"scaler\", StandardScaleTransformer(columns=dynamic_feature_cols))\n",
    "])\n",
    "\n",
    "# Target pipeline: grouped by basin with log + scale\n",
    "target_pipeline = GroupedTransformer(\n",
    "    Pipeline([\n",
    "        (\"log\", LogTransformer(columns=target_cols)),\n",
    "        (\"scaler\", StandardScaleTransformer(columns=target_cols))\n",
    "    ]),\n",
    "    columns=target_cols,\n",
    "    group_identifier=\"gauge_id\",\n",
    ")\n",
    "\n",
    "# Static feature pipeline: just scaling\n",
    "static_pipeline = Pipeline([\n",
    "    (\"scaler\", StandardScaleTransformer(columns=static_feature_cols))\n",
    "])\n",
    "\n",
    "# Define preprocessing configurations\n",
    "preprocessing_configs = {\n",
    "    \"features\": {\n",
    "        \"pipeline\": feature_pipeline,\n",
    "        \"columns\": dynamic_feature_cols\n",
    "    },\n",
    "    \"target\": {\n",
    "        \"pipeline\": target_pipeline,\n",
    "        \"columns\": target_cols\n",
    "    },\n",
    "    \"static_features\": {\n",
    "        \"pipeline\": static_pipeline,\n",
    "        \"columns\": static_feature_cols\n",
    "    },\n",
    "}"
   ]
  },
  {
   "cell_type": "code",
   "execution_count": 23,
   "metadata": {},
   "outputs": [
    {
     "data": {
      "text/plain": [
       "['area',\n",
       " 'cly_pc_sav',\n",
       " 'ele_mt_sav',\n",
       " 'slp_dg_sav',\n",
       " 'aridity_ERA5_LAND',\n",
       " 'aridity_FAO_PM',\n",
       " 'frac_snow',\n",
       " 'high_prec_dur',\n",
       " 'high_prec_freq',\n",
       " 'p_mean']"
      ]
     },
     "execution_count": 23,
     "metadata": {},
     "output_type": "execute_result"
    }
   ],
   "source": [
    "static_columns"
   ]
  },
  {
   "cell_type": "markdown",
   "metadata": {},
   "source": [
    "# 3. Create DataModule"
   ]
  },
  {
   "cell_type": "code",
   "execution_count": null,
   "metadata": {},
   "outputs": [
    {
     "name": "stdout",
     "output_type": "stream",
     "text": [
      "TS columns: ['potential_evaporation_sum_ERA5_LAND', 'potential_evaporation_sum_FAO_PENMAN_MONTEITH', 'temperature_2m_mean', 'total_precipitation_sum', 'streamflow']\n",
      "Static columns: ['area', 'cly_pc_sav', 'ele_mt_sav', 'slp_dg_sav', 'aridity_ERA5_LAND', 'aridity_FAO_PM', 'frac_snow', 'high_prec_dur', 'high_prec_freq', 'p_mean']\n"
     ]
    }
   ],
   "source": [
    "output_length = 10\n",
    "input_length = 40\n",
    "\n",
    "static_columns = [c for c in static_columns if c not in [\"gauge_id\"]]\n",
    "\n",
    "print(\"TS columns:\", ts_columns)\n",
    "print(\"Static columns:\", static_columns)\n",
    "\n",
    "\n",
    "data_module = HydroDataModule(\n",
    "    time_series_df=ts_data,\n",
    "    static_df=static_data,\n",
    "    # static_df=None,\n",
    "    group_identifier=\"gauge_id\",\n",
    "    preprocessing_config=preprocessing_configs,\n",
    "    batch_size=128,\n",
    "    input_length=input_length,\n",
    "    output_length=output_length,\n",
    "    num_workers=4,\n",
    "    features=ts_columns,\n",
    "    static_features=static_columns,\n",
    "    # static_features=None,\n",
    "    target=\"streamflow\",\n",
    "    min_train_years=2,\n",
    "    val_years=1,\n",
    "    test_years=3,\n",
    "    max_missing_pct=10,\n",
    "    domain_id=\"CA\",\n",
    ")\n",
    "\n",
    "# data_module.prepare_data()\n",
    "# data_module.setup()\n",
    "# train_loader = data_module.test_dataloader()\n",
    "\n",
    "# for i, batch in enumerate(train_loader):\n",
    "#     if i >= 6:  # Look at first 6 batches\n",
    "#         break\n",
    "\n",
    "#     print(f\"Slice indeces: {batch['slice_idx']}\")"
   ]
  },
  {
   "cell_type": "code",
   "execution_count": 25,
   "metadata": {},
   "outputs": [
    {
     "data": {
      "text/plain": [
       "['area',\n",
       " 'cly_pc_sav',\n",
       " 'ele_mt_sav',\n",
       " 'slp_dg_sav',\n",
       " 'aridity_ERA5_LAND',\n",
       " 'aridity_FAO_PM',\n",
       " 'frac_snow',\n",
       " 'high_prec_dur',\n",
       " 'high_prec_freq',\n",
       " 'p_mean']"
      ]
     },
     "execution_count": 25,
     "metadata": {},
     "output_type": "execute_result"
    }
   ],
   "source": [
    "static_columns"
   ]
  },
  {
   "cell_type": "code",
   "execution_count": 26,
   "metadata": {},
   "outputs": [
    {
     "data": {
      "text/plain": [
       "'streamflow'"
      ]
     },
     "execution_count": 26,
     "metadata": {},
     "output_type": "execute_result"
    }
   ],
   "source": [
    "data_module.target"
   ]
  },
  {
   "cell_type": "markdown",
   "metadata": {},
   "source": [
    "## 4. Create model and train"
   ]
  },
  {
   "cell_type": "code",
   "execution_count": 27,
   "metadata": {},
   "outputs": [],
   "source": [
    "from src.models.lstm import LitLSTM\n",
    "from src.models.ealstm import LitEALSTM\n",
    "from src.models.TSMixer import LitTSMixer, TSMixerConfig\n",
    "from src.models.evaluators import TSForecastEvaluator\n",
    "from torch.optim import Adam\n",
    "from torch.nn import MSELoss"
   ]
  },
  {
   "cell_type": "markdown",
   "metadata": {},
   "source": [
    "# 5. Evalue and plot results"
   ]
  },
  {
   "cell_type": "code",
   "execution_count": null,
   "metadata": {},
   "outputs": [
    {
     "name": "stderr",
     "output_type": "stream",
     "text": [
      "GPU available: True (mps), used: False\n",
      "TPU available: False, using: 0 TPU cores\n",
      "HPU available: False, using: 0 HPUs\n",
      "/Users/cooper/Desktop/CAMELS-CH/.venv/lib/python3.12/site-packages/pytorch_lightning/trainer/setup.py:177: GPU available but not used. You can set it by doing `Trainer(accelerator='gpu')`.\n"
     ]
    },
    {
     "name": "stdout",
     "output_type": "stream",
     "text": [
      "Original basins: 3\n",
      "Retained basins: 2\n",
      "Domain CA: Created 13182 valid sequences from 2 catchments\n"
     ]
    },
    {
     "name": "stderr",
     "output_type": "stream",
     "text": [
      "/Users/cooper/Desktop/CAMELS-CH/.venv/lib/python3.12/site-packages/sklearn/pipeline.py:62: FutureWarning: This Pipeline instance is not fitted yet. Call 'fit' with appropriate arguments before using other methods such as transform, predict, etc. This will raise an error in 1.8 instead of the current warning.\n",
      "  warnings.warn(\n",
      "/Users/cooper/Desktop/CAMELS-CH/.venv/lib/python3.12/site-packages/sklearn/pipeline.py:62: FutureWarning: This Pipeline instance is not fitted yet. Call 'fit' with appropriate arguments before using other methods such as transform, predict, etc. This will raise an error in 1.8 instead of the current warning.\n",
      "  warnings.warn(\n",
      "/Users/cooper/Desktop/CAMELS-CH/.venv/lib/python3.12/site-packages/sklearn/pipeline.py:62: FutureWarning: This Pipeline instance is not fitted yet. Call 'fit' with appropriate arguments before using other methods such as transform, predict, etc. This will raise an error in 1.8 instead of the current warning.\n",
      "  warnings.warn(\n",
      "/Users/cooper/Desktop/CAMELS-CH/.venv/lib/python3.12/site-packages/sklearn/pipeline.py:62: FutureWarning: This Pipeline instance is not fitted yet. Call 'fit' with appropriate arguments before using other methods such as transform, predict, etc. This will raise an error in 1.8 instead of the current warning.\n",
      "  warnings.warn(\n",
      "/Users/cooper/Desktop/CAMELS-CH/src/data_models/datamodule.py:358: SettingWithCopyWarning: \n",
      "A value is trying to be set on a copy of a slice from a DataFrame.\n",
      "Try using .loc[row_indexer,col_indexer] = value instead\n",
      "\n",
      "See the caveats in the documentation: https://pandas.pydata.org/pandas-docs/stable/user_guide/indexing.html#returning-a-view-versus-a-copy\n",
      "  self.processed_static[col] = transformed[col]\n",
      "/Users/cooper/Desktop/CAMELS-CH/.venv/lib/python3.12/site-packages/pytorch_lightning/callbacks/model_checkpoint.py:654: Checkpoint directory /Users/cooper/Desktop/CAMELS-CH/notebooks/checkpoints exists and is not empty.\n",
      "\n",
      "  | Name          | Type    | Params | Mode \n",
      "--------------------------------------------------\n",
      "0 | model         | TSMixer | 34.6 K | train\n",
      "1 | mse_criterion | MSELoss | 0      | train\n",
      "--------------------------------------------------\n",
      "34.6 K    Trainable params\n",
      "0         Non-trainable params\n",
      "34.6 K    Total params\n",
      "0.138     Total estimated model params size (MB)\n",
      "97        Modules in train mode\n",
      "0         Modules in eval mode\n"
     ]
    },
    {
     "name": "stdout",
     "output_type": "stream",
     "text": [
      "Domain CA: Created 584 valid sequences from 2 catchments\n"
     ]
    },
    {
     "data": {
      "application/vnd.jupyter.widget-view+json": {
       "model_id": "d25d8ca6bdc94813b4a1bed339af4bcf",
       "version_major": 2,
       "version_minor": 0
      },
      "text/plain": [
       "Sanity Checking: |          | 0/? [00:00<?, ?it/s]"
      ]
     },
     "metadata": {},
     "output_type": "display_data"
    },
    {
     "data": {
      "application/vnd.jupyter.widget-view+json": {
       "model_id": "905e46ce50ca4e3d93d42f778a93c81e",
       "version_major": 2,
       "version_minor": 0
      },
      "text/plain": [
       "Training: |          | 0/? [00:00<?, ?it/s]"
      ]
     },
     "metadata": {},
     "output_type": "display_data"
    },
    {
     "data": {
      "application/vnd.jupyter.widget-view+json": {
       "model_id": "8522260798eb4e0e933510de7b072a79",
       "version_major": 2,
       "version_minor": 0
      },
      "text/plain": [
       "Validation: |          | 0/? [00:00<?, ?it/s]"
      ]
     },
     "metadata": {},
     "output_type": "display_data"
    },
    {
     "data": {
      "application/vnd.jupyter.widget-view+json": {
       "model_id": "dc5ff71ca0a84b58a8694b4a9d89d075",
       "version_major": 2,
       "version_minor": 0
      },
      "text/plain": [
       "Validation: |          | 0/? [00:00<?, ?it/s]"
      ]
     },
     "metadata": {},
     "output_type": "display_data"
    },
    {
     "data": {
      "application/vnd.jupyter.widget-view+json": {
       "model_id": "2c8827dfdbb547518a5a05444cb90854",
       "version_major": 2,
       "version_minor": 0
      },
      "text/plain": [
       "Validation: |          | 0/? [00:00<?, ?it/s]"
      ]
     },
     "metadata": {},
     "output_type": "display_data"
    },
    {
     "data": {
      "application/vnd.jupyter.widget-view+json": {
       "model_id": "94c05327809b49e5b37cfe7c9804465e",
       "version_major": 2,
       "version_minor": 0
      },
      "text/plain": [
       "Validation: |          | 0/? [00:00<?, ?it/s]"
      ]
     },
     "metadata": {},
     "output_type": "display_data"
    },
    {
     "data": {
      "application/vnd.jupyter.widget-view+json": {
       "model_id": "872ac419b63e41a79324aebaa8f38d92",
       "version_major": 2,
       "version_minor": 0
      },
      "text/plain": [
       "Validation: |          | 0/? [00:00<?, ?it/s]"
      ]
     },
     "metadata": {},
     "output_type": "display_data"
    },
    {
     "data": {
      "application/vnd.jupyter.widget-view+json": {
       "model_id": "e979e972abea4215875879b573a8dd13",
       "version_major": 2,
       "version_minor": 0
      },
      "text/plain": [
       "Validation: |          | 0/? [00:00<?, ?it/s]"
      ]
     },
     "metadata": {},
     "output_type": "display_data"
    },
    {
     "data": {
      "application/vnd.jupyter.widget-view+json": {
       "model_id": "6119958cadfa4e839e676b8fd0277cf0",
       "version_major": 2,
       "version_minor": 0
      },
      "text/plain": [
       "Validation: |          | 0/? [00:00<?, ?it/s]"
      ]
     },
     "metadata": {},
     "output_type": "display_data"
    },
    {
     "data": {
      "application/vnd.jupyter.widget-view+json": {
       "model_id": "437b1136cdd74d93a21ee6a67edefaa9",
       "version_major": 2,
       "version_minor": 0
      },
      "text/plain": [
       "Validation: |          | 0/? [00:00<?, ?it/s]"
      ]
     },
     "metadata": {},
     "output_type": "display_data"
    },
    {
     "data": {
      "application/vnd.jupyter.widget-view+json": {
       "model_id": "12f9e9b8bc824d0697b07de381526928",
       "version_major": 2,
       "version_minor": 0
      },
      "text/plain": [
       "Validation: |          | 0/? [00:00<?, ?it/s]"
      ]
     },
     "metadata": {},
     "output_type": "display_data"
    },
    {
     "data": {
      "application/vnd.jupyter.widget-view+json": {
       "model_id": "b438e39981104b8da87fd16b23284c75",
       "version_major": 2,
       "version_minor": 0
      },
      "text/plain": [
       "Validation: |          | 0/? [00:00<?, ?it/s]"
      ]
     },
     "metadata": {},
     "output_type": "display_data"
    },
    {
     "data": {
      "application/vnd.jupyter.widget-view+json": {
       "model_id": "a3842990fb804d5390343576f59ac3b3",
       "version_major": 2,
       "version_minor": 0
      },
      "text/plain": [
       "Validation: |          | 0/? [00:00<?, ?it/s]"
      ]
     },
     "metadata": {},
     "output_type": "display_data"
    },
    {
     "data": {
      "application/vnd.jupyter.widget-view+json": {
       "model_id": "917a40fd4e6f44beb420922afe0de81a",
       "version_major": 2,
       "version_minor": 0
      },
      "text/plain": [
       "Validation: |          | 0/? [00:00<?, ?it/s]"
      ]
     },
     "metadata": {},
     "output_type": "display_data"
    }
   ],
   "source": [
    "# model = LitLSTM(\n",
    "#     input_size=len(ts_columns),\n",
    "#     hidden_size=16,\n",
    "#     num_layers=1,\n",
    "#     output_size=output_length,\n",
    "#     target=data_module.target,\n",
    "# )\n",
    "\n",
    "# model = LitEALSTM(\n",
    "#     input_size_dyn=len(ts_columns),\n",
    "#     input_size_stat=len(static_columns) - 1,\n",
    "#     hidden_size=64,\n",
    "#     output_size=output_length,\n",
    "# )\n",
    "\n",
    "config = TSMixerConfig(\n",
    "    input_len=input_length,\n",
    "    output_len=output_length,\n",
    "    input_size=len(ts_columns),\n",
    "    static_size=len(static_columns),\n",
    "    hidden_size=80,\n",
    "    learning_rate=7e-4,\n",
    "    dropout=0.1,\n",
    "    num_layers=2,\n",
    ")\n",
    "\n",
    "model = LitTSMixer(config)\n",
    "\n",
    "# Configure trainer\n",
    "trainer = pl.Trainer(\n",
    "    max_epochs=15,\n",
    "    accelerator=\"cpu\",\n",
    "    devices=1,\n",
    "    callbacks=[\n",
    "        ModelCheckpoint(\n",
    "            monitor=\"val_loss\",\n",
    "            dirpath=\"checkpoints\",\n",
    "            filename=\"best-checkpoint\",\n",
    "            save_top_k=1,\n",
    "            mode=\"min\",\n",
    "        ),\n",
    "        EarlyStopping(monitor=\"val_loss\", patience=3, mode=\"min\"),\n",
    "        LearningRateMonitor(logging_interval=\"epoch\"),\n",
    "    ],\n",
    ")\n",
    "\n",
    "# Train the model\n",
    "trainer.fit(model, data_module)"
   ]
  },
  {
   "cell_type": "code",
   "execution_count": null,
   "metadata": {},
   "outputs": [],
   "source": [
    "quality_report = data_module.quality_report\n",
    "\n",
    "excluded_basins = list(quality_report[\"excluded_basins\"].keys())\n",
    "excluded_basins\n",
    "\n",
    "ids_for_training = [id for id in ids_for_training if id not in excluded_basins]"
   ]
  },
  {
   "cell_type": "code",
   "execution_count": null,
   "metadata": {},
   "outputs": [],
   "source": [
    "quality_report"
   ]
  },
  {
   "cell_type": "code",
   "execution_count": null,
   "metadata": {},
   "outputs": [],
   "source": [
    "trainer.test(model, data_module)\n",
    "raw_results = model.test_results\n",
    "\n",
    "# Create evaluator and get metrics\n",
    "evaluator = TSForecastEvaluator(\n",
    "    data_module, horizons=list(range(1, model.config.output_len + 1))\n",
    ")\n",
    "results_df, overall_metrics, basin_metrics = evaluator.evaluate(raw_results)\n",
    "\n",
    "# Get overall summary\n",
    "overall_summary = evaluator.summarize_metrics(overall_metrics)\n",
    "\n",
    "# Get per-basin summary\n",
    "basin_summary = evaluator.summarize_metrics(basin_metrics, per_basin=True)"
   ]
  },
  {
   "cell_type": "code",
   "execution_count": null,
   "metadata": {},
   "outputs": [],
   "source": [
    "overall_summary"
   ]
  },
  {
   "cell_type": "code",
   "execution_count": null,
   "metadata": {},
   "outputs": [],
   "source": [
    "basin_summary"
   ]
  },
  {
   "cell_type": "code",
   "execution_count": null,
   "metadata": {},
   "outputs": [],
   "source": [
    "import matplotlib.pyplot as plt\n",
    "import seaborn as sns\n",
    "\n",
    "\n",
    "def plot_metric_summary(\n",
    "    summary_df: pd.DataFrame, metric: str, per_basin: bool = False, figsize=(10, 6)\n",
    "):\n",
    "    plt.figure(figsize=figsize)\n",
    "\n",
    "    if per_basin:\n",
    "        df_plot = summary_df[metric].unstack(level=0)\n",
    "\n",
    "        # Sort basins based on first horizon values\n",
    "        first_horizon_values = df_plot.iloc[0]\n",
    "        sorted_basins = first_horizon_values.sort_values(ascending=False).index\n",
    "        df_plot = df_plot[sorted_basins]\n",
    "\n",
    "        sns.barplot(\n",
    "            data=df_plot.melt(ignore_index=False).reset_index(),\n",
    "            x=\"horizon\",\n",
    "            y=\"value\",\n",
    "            hue=\"basin_id\",\n",
    "            palette=\"Blues\",\n",
    "        )\n",
    "        plt.title(f\"{metric} by Basin and Horizon\")\n",
    "        plt.legend(bbox_to_anchor=(1.05, 1), loc=\"upper left\", title=\"Basin ID\")\n",
    "\n",
    "    else:\n",
    "        ax = sns.barplot(x=summary_df.index, y=summary_df[metric], color=\"steelblue\")\n",
    "        plt.title(f\"Overall {metric} by Horizon\")\n",
    "\n",
    "        for i, v in enumerate(summary_df[metric]):\n",
    "            ax.text(i, v, f\"{v:.2f}\", ha=\"center\", va=\"bottom\")\n",
    "\n",
    "    plt.xlabel(\"Forecast Horizon\")\n",
    "    plt.ylabel(metric)\n",
    "    plt.tight_layout()\n",
    "    sns.despine()\n",
    "    plt.show()\n",
    "\n",
    "\n",
    "# Usage example:\n",
    "plot_metric_summary(overall_summary, \"NSE\")  # Plot overall NSE\n",
    "plot_metric_summary(\n",
    "    basin_summary, \"NSE\", per_basin=True, figsize=(12, 6)\n",
    ")  "
   ]
  },
  {
   "cell_type": "code",
   "execution_count": null,
   "metadata": {},
   "outputs": [],
   "source": []
  },
  {
   "cell_type": "code",
   "execution_count": null,
   "metadata": {},
   "outputs": [],
   "source": []
  }
 ],
 "metadata": {
  "kernelspec": {
   "display_name": ".venv",
   "language": "python",
   "name": "python3"
  },
  "language_info": {
   "codemirror_mode": {
    "name": "ipython",
    "version": 3
   },
   "file_extension": ".py",
   "mimetype": "text/x-python",
   "name": "python",
   "nbconvert_exporter": "python",
   "pygments_lexer": "ipython3",
   "version": "3.12.8"
  }
 },
 "nbformat": 4,
 "nbformat_minor": 2
}
