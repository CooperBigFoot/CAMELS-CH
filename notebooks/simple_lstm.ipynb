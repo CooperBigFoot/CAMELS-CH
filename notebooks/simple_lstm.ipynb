{
 "cells": [
  {
   "cell_type": "code",
   "execution_count": 1,
   "metadata": {},
   "outputs": [],
   "source": [
    "import sys\n",
    "from pathlib import Path\n",
    "sys.path.append(str(Path().absolute().parent))\n",
    "import time"
   ]
  },
  {
   "cell_type": "code",
   "execution_count": 2,
   "metadata": {},
   "outputs": [],
   "source": [
    "import pytorch_lightning as pl\n",
    "from pytorch_lightning.callbacks import ModelCheckpoint, EarlyStopping\n",
    "import torch\n",
    "from torch.nn import MSELoss\n",
    "from torch.optim import Adam\n",
    "import matplotlib.pyplot as plt\n",
    "import numpy as np\n",
    "\n",
    "import matplotlib.pyplot as plt\n",
    "import seaborn as sns\n",
    "\n",
    "import pandas as pd\n",
    "import glob\n",
    "from pathlib import Path\n",
    "\n",
    "from src.data_models.camels_ch import CamelsCH, CamelsCHConfig, get_all_gauge_ids\n",
    "from src.data_models.dataset import HydroDataset\n",
    "from src.data_models.preprocessing import (\n",
    "    scale_time_series,\n",
    "    scale_static_attributes,\n",
    "    inverse_scale_static_attributes,\n",
    "    inverse_scale_time_series,\n",
    ")\n",
    "\n",
    "from utils.metrics import nash_sutcliffe_efficiency\n",
    "from src.data_models.datamodule import HydroDataModule"
   ]
  },
  {
   "cell_type": "markdown",
   "metadata": {},
   "source": [
    "---"
   ]
  },
  {
   "cell_type": "markdown",
   "metadata": {},
   "source": [
    "# 1. Load and prepare CAMELS-CH data"
   ]
  },
  {
   "cell_type": "code",
   "execution_count": 3,
   "metadata": {},
   "outputs": [],
   "source": [
    "camels_config = CamelsCHConfig(\n",
    "    timeseries_dir=\"/Users/cooper/Desktop/CAMELS-CH/data/timeseries/observation_based/\",\n",
    "    timeseries_pattern=\"CAMELS_CH_obs_based_*.csv\",\n",
    "    static_attributes_dir=\"/Users/cooper/Desktop/CAMELS-CH/data/static_attributes\",\n",
    "    use_climate=False,\n",
    "    use_geology=False,\n",
    "    use_glacier=False,\n",
    "    use_human_influence=False,\n",
    "    use_hydrogeology=False,\n",
    "    use_hydrology=False,\n",
    "    use_landcover=False,\n",
    "    use_soil=False,\n",
    "    use_topographic=False,\n",
    ")"
   ]
  },
  {
   "cell_type": "code",
   "execution_count": 4,
   "metadata": {},
   "outputs": [
    {
     "name": "stdout",
     "output_type": "stream",
     "text": [
      "Loaded time series data for 10 stations\n"
     ]
    }
   ],
   "source": [
    "all_gauge_ids = get_all_gauge_ids(camels_config)\n",
    "ids_for_training = all_gauge_ids[:10]\n",
    "\n",
    "\n",
    "camels = CamelsCH(camels_config)\n",
    "camels.load_stations(ids_for_training)"
   ]
  },
  {
   "cell_type": "code",
   "execution_count": 5,
   "metadata": {},
   "outputs": [],
   "source": [
    "# static = camels.get_static_attributes()\n",
    "# # q_mean\trunoff_ratio\tstream_elas\tslope_fdc\tbaseflow_index_landson\thfd_mean\n",
    "# static = static[[\"gauge_id\", \"q_mean\", \"runoff_ratio\", \"stream_elas\", \"slope_fdc\", \"baseflow_index_landson\", \"hfd_mean\"]]\n",
    "# static"
   ]
  },
  {
   "cell_type": "code",
   "execution_count": 6,
   "metadata": {},
   "outputs": [],
   "source": [
    "data = camels.get_time_series()\n",
    "data = data[\n",
    "    [\n",
    "        \"gauge_id\",\n",
    "        \"date\",\n",
    "        \"discharge_spec(mm/d)\",\n",
    "        \"precipitation(mm/d)\",\n",
    "        \"temperature_mean(degC)\",\n",
    "    ]\n",
    "]\n",
    "\n"
   ]
  },
  {
   "cell_type": "markdown",
   "metadata": {},
   "source": [
    "# 2. Configure preprocessing"
   ]
  },
  {
   "cell_type": "code",
   "execution_count": 7,
   "metadata": {},
   "outputs": [],
   "source": [
    "preprocessing_config = {\n",
    "    \"features\": {\n",
    "        \"scale_method\": \"per_basin\",\n",
    "        \"log_transform\": []\n",
    "    },\n",
    "    \"target\": {\n",
    "        \"scale_method\": \"per_basin\",\n",
    "        \"log_transform\": False\n",
    "    },\n",
    "    \"static_features\": {\n",
    "        \"scale_method\": \"global\"\n",
    "    }\n",
    "}"
   ]
  },
  {
   "cell_type": "markdown",
   "metadata": {},
   "source": [
    "# 3. Create DataModule"
   ]
  },
  {
   "cell_type": "code",
   "execution_count": 8,
   "metadata": {},
   "outputs": [],
   "source": [
    "data_module = HydroDataModule(\n",
    "    time_series_df=data,\n",
    "    static_df=None,\n",
    "    preprocessing_config=preprocessing_config,\n",
    "    batch_size=32,\n",
    "    input_length=30,\n",
    "    output_length=5,\n",
    "    num_workers=4,\n",
    "    features=[\"discharge_spec(mm/d)\", \"precipitation(mm/d)\", \"temperature_mean(degC)\"],\n",
    "    target=\"discharge_spec(mm/d)\",\n",
    "    train_years=10,\n",
    "    val_years=1,\n",
    "    min_test_years=1,\n",
    ")"
   ]
  },
  {
   "cell_type": "markdown",
   "metadata": {},
   "source": [
    "## 4. Create model and train"
   ]
  },
  {
   "cell_type": "code",
   "execution_count": 9,
   "metadata": {},
   "outputs": [],
   "source": [
    "from src.models.lstm import LitLSTM\n",
    "from torch.optim import Adam\n",
    "from torch.nn import MSELoss"
   ]
  },
  {
   "cell_type": "markdown",
   "metadata": {},
   "source": [
    "# 5. Evalue and plot results"
   ]
  },
  {
   "cell_type": "code",
   "execution_count": 10,
   "metadata": {},
   "outputs": [
    {
     "name": "stderr",
     "output_type": "stream",
     "text": [
      "GPU available: True (mps), used: False\n",
      "TPU available: False, using: 0 TPU cores\n",
      "HPU available: False, using: 0 HPUs\n",
      "/Users/cooper/Desktop/CAMELS-CH/.venv/lib/python3.12/site-packages/pytorch_lightning/trainer/setup.py:177: GPU available but not used. You can set it by doing `Trainer(accelerator='gpu')`.\n",
      "/Users/cooper/Desktop/CAMELS-CH/.venv/lib/python3.12/site-packages/pytorch_lightning/trainer/connectors/logger_connector/logger_connector.py:76: Starting from v1.9.0, `tensorboardX` has been removed as a dependency of the `pytorch_lightning` package, due to potential conflicts with other packages in the ML ecosystem. For this reason, `logger=True` will use `CSVLogger` as the default logger, unless the `tensorboard` or `tensorboardX` packages are found. Please `pip install lightning[extra]` or one of them to enable TensorBoard support by default\n",
      "/Users/cooper/Desktop/CAMELS-CH/.venv/lib/python3.12/site-packages/pytorch_lightning/callbacks/model_checkpoint.py:654: Checkpoint directory /Users/cooper/Desktop/CAMELS-CH/notebooks/checkpoints exists and is not empty.\n",
      "\n",
      "  | Name      | Type       | Params | Mode \n",
      "-------------------------------------------------\n",
      "0 | model     | SimpleLSTM | 18.0 K | train\n",
      "1 | criterion | MSELoss    | 0      | train\n",
      "-------------------------------------------------\n",
      "18.0 K    Trainable params\n",
      "0         Non-trainable params\n",
      "18.0 K    Total params\n",
      "0.072     Total estimated model params size (MB)\n",
      "4         Modules in train mode\n",
      "0         Modules in eval mode\n"
     ]
    },
    {
     "name": "stdout",
     "output_type": "stream",
     "text": [
      "\n",
      "Quality Check Summary:\n",
      "Original basins: 10\n",
      "Retained basins: 5\n",
      "Excluded basins: 5\n",
      "\n",
      "Data preprocessing completed:\n",
      "- Features scaled using per_basin method\n",
      "- Target scaled using per_basin method\n",
      "- Log transforms applied to: [] and target: False\n",
      "Created 18090 valid sequences.\n",
      "Created 1655 valid sequences.\n",
      "\n",
      "Data split summary:\n",
      "Training: 18260 samples from 5 basins\n",
      "Validation: 1825 samples from 5 basins\n",
      "Testing: 46026 samples from 5 basins\n",
      "Epoch 4: 100%|██████████| 566/566 [00:04<00:00, 118.97it/s, v_num=28]       "
     ]
    },
    {
     "name": "stderr",
     "output_type": "stream",
     "text": [
      "`Trainer.fit` stopped: `max_epochs=5` reached.\n"
     ]
    },
    {
     "name": "stdout",
     "output_type": "stream",
     "text": [
      "Epoch 4: 100%|██████████| 566/566 [00:04<00:00, 118.94it/s, v_num=28]\n"
     ]
    }
   ],
   "source": [
    "model = LitLSTM(\n",
    "    input_size=3,\n",
    "    hidden_size=64,\n",
    "    num_layers=1,\n",
    "    output_size=5,\n",
    "    target=\"discharge_spec(mm/d)\",\n",
    ")\n",
    "\n",
    "\n",
    "# Configure trainer\n",
    "trainer = pl.Trainer(\n",
    "    max_epochs=5,\n",
    "    accelerator=\"gpu\" if torch.cuda.is_available() else \"cpu\",\n",
    "    devices=1,\n",
    "    callbacks=[\n",
    "        ModelCheckpoint(\n",
    "            monitor=\"val_loss\",\n",
    "            dirpath=\"checkpoints\",\n",
    "            filename=\"best-checkpoint\",\n",
    "            save_top_k=1,\n",
    "            mode=\"min\",\n",
    "        ),\n",
    "        EarlyStopping(monitor=\"val_loss\", patience=3, mode=\"min\"),\n",
    "    ],\n",
    ")\n",
    "\n",
    "# Train the model\n",
    "trainer.fit(model, data_module)"
   ]
  },
  {
   "cell_type": "code",
   "execution_count": 11,
   "metadata": {},
   "outputs": [],
   "source": [
    "quality_report = data_module.quality_report\n",
    "\n",
    "excluded_basins = list(quality_report[\"excluded_basins\"].keys())\n",
    "excluded_basins\n",
    "\n",
    "ids_for_training = [id for id in ids_for_training if id not in excluded_basins]"
   ]
  },
  {
   "cell_type": "code",
   "execution_count": null,
   "metadata": {},
   "outputs": [],
   "source": [
    "ids_for_training"
   ]
  },
  {
   "cell_type": "code",
   "execution_count": 13,
   "metadata": {},
   "outputs": [
    {
     "name": "stdout",
     "output_type": "stream",
     "text": [
      "\n",
      "Quality Check Summary:\n",
      "Original basins: 10\n",
      "Retained basins: 5\n",
      "Excluded basins: 5\n",
      "\n",
      "Data preprocessing completed:\n",
      "- Features scaled using per_basin method\n",
      "- Target scaled using per_basin method\n",
      "- Log transforms applied to: [] and target: False\n",
      "Created 45856 valid sequences.\n",
      "\n",
      "Data split summary:\n",
      "Training: 18260 samples from 5 basins\n",
      "Validation: 1825 samples from 5 basins\n",
      "Testing: 46026 samples from 5 basins\n",
      "Testing DataLoader 0: 100%|██████████| 1433/1433 [00:04<00:00, 335.65it/s]\n",
      "────────────────────────────────────────────────────────────────────────────────────────────────────────────────────────\n",
      "       Test metric             DataLoader 0\n",
      "────────────────────────────────────────────────────────────────────────────────────────────────────────────────────────\n",
      "       test_MAE_h1          0.17798486351966858\n",
      "       test_MAE_h2          0.2838926911354065\n",
      "       test_MAE_h3          0.3390244245529175\n",
      "       test_MAE_h4          0.3794221878051758\n",
      "       test_MAE_h5          0.4101080298423767\n",
      "       test_MSE_h1          0.18100348114967346\n",
      "       test_MSE_h2          0.39814430475234985\n",
      "       test_MSE_h3          0.4863263666629791\n",
      "       test_MSE_h4          0.5388624668121338\n",
      "       test_MSE_h5          0.5709047913551331\n",
      "       test_NSE_h1          0.8172187805175781\n",
      "       test_NSE_h2          0.5979263782501221\n",
      "       test_NSE_h3          0.5088475346565247\n",
      "       test_NSE_h4          0.45576179027557373\n",
      "       test_NSE_h5          0.42337191104888916\n",
      "────────────────────────────────────────────────────────────────────────────────────────────────────────────────────────\n"
     ]
    }
   ],
   "source": [
    "trainer.test(model, data_module)\n",
    "test_results = model.test_results"
   ]
  },
  {
   "cell_type": "code",
   "execution_count": 14,
   "metadata": {},
   "outputs": [
    {
     "data": {
      "image/png": "[encoded data removed]",
      "text/plain": [
       "<Figure size 1000x600 with 1 Axes>"
      ]
     },
     "metadata": {},
     "output_type": "display_data"
    }
   ],
   "source": [
    "# Get the results\n",
    "results_df = model.test_results[\"forecast_df\"]\n",
    "horizon_metrics = model.test_results[\"horizon_metrics\"]\n",
    "\n",
    "horizons = []\n",
    "nse_values = []\n",
    "for horizon, metrics in horizon_metrics.items():\n",
    "    horizons.append(horizon)\n",
    "    nse_values.append(metrics[\"NSE\"])\n",
    "\n",
    "# Create bar plot\n",
    "plt.figure(figsize=(10, 6))\n",
    "plt.bar(horizons, nse_values, color=\"#3b82f6\")\n",
    "\n",
    "# Customize plot\n",
    "plt.xlabel(\"Forecast Horizon (Days)\")\n",
    "plt.ylabel(\"Nash-Sutcliffe Efficiency\")\n",
    "plt.title(\"Forecast Skill by Prediction Horizon\")\n",
    "plt.grid(True, linestyle=\"--\", alpha=0.7, color=\"gray\")\n",
    "sns.despine()\n",
    "\n",
    "# Set x-axis ticks to show all horizons\n",
    "plt.xticks(horizons)\n",
    "\n",
    "# Add value labels on top of each bar\n",
    "for i, v in enumerate(nse_values):\n",
    "    plt.text(i + 1, v, f\"{v:.3f}\", ha=\"center\", va=\"bottom\")\n",
    "\n",
    "plt.tight_layout()\n",
    "plt.show()"
   ]
  },
  {
   "cell_type": "code",
   "execution_count": null,
   "metadata": {},
   "outputs": [],
   "source": []
  }
 ],
 "metadata": {
  "kernelspec": {
   "display_name": ".venv",
   "language": "python",
   "name": "python3"
  },
  "language_info": {
   "codemirror_mode": {
    "name": "ipython",
    "version": 3
   },
   "file_extension": ".py",
   "mimetype": "text/x-python",
   "name": "python",
   "nbconvert_exporter": "python",
   "pygments_lexer": "ipython3",
   "version": "3.12.8"
  }
 },
 "nbformat": 4,
 "nbformat_minor": 2
}
