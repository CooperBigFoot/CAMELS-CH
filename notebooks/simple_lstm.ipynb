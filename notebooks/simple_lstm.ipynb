{
 "cells": [
  {
   "cell_type": "code",
   "execution_count": 1,
   "metadata": {},
   "outputs": [],
   "source": [
    "import sys\n",
    "from pathlib import Path\n",
    "sys.path.append(str(Path().absolute().parent))\n",
    "import time"
   ]
  },
  {
   "cell_type": "code",
   "execution_count": 2,
   "metadata": {},
   "outputs": [],
   "source": [
    "import pytorch_lightning as pl\n",
    "from pytorch_lightning.callbacks import ModelCheckpoint, EarlyStopping\n",
    "import torch\n",
    "from torch.nn import MSELoss\n",
    "from torch.optim import Adam\n",
    "import matplotlib.pyplot as plt\n",
    "import numpy as np\n",
    "\n",
    "import matplotlib.pyplot as plt\n",
    "import seaborn as sns\n",
    "\n",
    "import pandas as pd\n",
    "import glob\n",
    "from pathlib import Path\n",
    "\n",
    "from src.data_models.camels_ch import CamelsCH, CamelsCHConfig, get_all_gauge_ids\n",
    "from src.data_models.dataset import HydroDataset\n",
    "from src.data_models.preprocessing import (\n",
    "    scale_time_series,\n",
    "    scale_static_attributes,\n",
    "    inverse_scale_static_attributes,\n",
    "    inverse_scale_time_series,\n",
    ")\n",
    "from src.data_models.caravanify import Caravanify, CaravanifyConfig \n",
    "\n",
    "from utils.metrics import nash_sutcliffe_efficiency\n",
    "from src.data_models.datamodule import HydroDataModule"
   ]
  },
  {
   "cell_type": "markdown",
   "metadata": {},
   "source": [
    "---"
   ]
  },
  {
   "cell_type": "markdown",
   "metadata": {},
   "source": [
    "## Testing Caravanify"
   ]
  },
  {
   "cell_type": "code",
   "execution_count": 3,
   "metadata": {},
   "outputs": [
    {
     "name": "stdout",
     "output_type": "stream",
     "text": [
      "Total number of stations: 5\n"
     ]
    }
   ],
   "source": [
    "config = CaravanifyConfig(\n",
    "    attributes_dir=\"/Users/cooper/Desktop/CAMELS-CH/data/CARAVANIFY/CH/post_processed/attributes\",\n",
    "    timeseries_dir=\"/Users/cooper/Desktop/CAMELS-CH/data/CARAVANIFY/CH/post_processed/timeseries/csv\",\n",
    "    gauge_id_prefix=\"CH\",\n",
    "    use_hydroatlas_attributes=True,\n",
    "    use_caravan_attributes=True,\n",
    "    use_other_attributes=True,\n",
    ")\n",
    "\n",
    "\n",
    "caravan = Caravanify(config)\n",
    "# ids_for_training = [\n",
    "#     \"CH_4011\",\n",
    "#     \"CH_5009\",\n",
    "# ]\n",
    "ids_for_training = caravan.get_all_gauge_ids()[:5]\n",
    "\n",
    "print(f\"Total number of stations: {len(ids_for_training)}\")\n",
    "\n",
    "caravan.load_stations(ids_for_training)\n",
    "\n",
    "\n",
    "# Get data\n",
    "ts_data = caravan.get_time_series()  # MultiIndex: (gauge_id, date)\n",
    "static_data = caravan.get_static_attributes()  # Columns merged from enabled attributes"
   ]
  },
  {
   "cell_type": "code",
   "execution_count": 4,
   "metadata": {},
   "outputs": [],
   "source": [
    "ts_data[\"date\"] = pd.to_datetime(ts_data[\"date\"])\n",
    "\n",
    "# Now we can get the day of year using dt accessor\n",
    "ts_data[\"julian_day\"] = ts_data[\"date\"].dt.dayofyear\n",
    "\n",
    "# Get column names excluding specific columns\n",
    "ts_columns = ts_data.columns\n",
    "ts_columns = [\n",
    "    col for col in list(ts_columns) if col not in [\"gauge_id\", \"date\"]\n",
    "]"
   ]
  },
  {
   "cell_type": "code",
   "execution_count": 5,
   "metadata": {},
   "outputs": [
    {
     "data": {
      "text/html": [
       "<div>\n",
       "<style scoped>\n",
       "    .dataframe tbody tr th:only-of-type {\n",
       "        vertical-align: middle;\n",
       "    }\n",
       "\n",
       "    .dataframe tbody tr th {\n",
       "        vertical-align: top;\n",
       "    }\n",
       "\n",
       "    .dataframe thead th {\n",
       "        text-align: right;\n",
       "    }\n",
       "</style>\n",
       "<table border=\"1\" class=\"dataframe\">\n",
       "  <thead>\n",
       "    <tr style=\"text-align: right;\">\n",
       "      <th></th>\n",
       "      <th>gauge_id</th>\n",
       "      <th>area</th>\n",
       "      <th>cly_pc_sav</th>\n",
       "      <th>ele_mt_sav</th>\n",
       "      <th>slp_dg_sav</th>\n",
       "      <th>aridity_ERA5_LAND</th>\n",
       "      <th>aridity_FAO_PM</th>\n",
       "      <th>frac_snow</th>\n",
       "      <th>high_prec_dur</th>\n",
       "      <th>high_prec_freq</th>\n",
       "      <th>p_mean</th>\n",
       "    </tr>\n",
       "  </thead>\n",
       "  <tbody>\n",
       "    <tr>\n",
       "      <th>0</th>\n",
       "      <td>CH_2009</td>\n",
       "      <td>701.274189</td>\n",
       "      <td>14.506965</td>\n",
       "      <td>1565.340147</td>\n",
       "      <td>248.671068</td>\n",
       "      <td>0.999746</td>\n",
       "      <td>0.258537</td>\n",
       "      <td>0.386329</td>\n",
       "      <td>1.134021</td>\n",
       "      <td>0.030118</td>\n",
       "      <td>4.954752</td>\n",
       "    </tr>\n",
       "    <tr>\n",
       "      <th>1</th>\n",
       "      <td>CH_2011</td>\n",
       "      <td>1566.180595</td>\n",
       "      <td>14.634048</td>\n",
       "      <td>2081.147355</td>\n",
       "      <td>247.628593</td>\n",
       "      <td>0.559558</td>\n",
       "      <td>0.235603</td>\n",
       "      <td>0.479000</td>\n",
       "      <td>1.223587</td>\n",
       "      <td>0.034089</td>\n",
       "      <td>4.197982</td>\n",
       "    </tr>\n",
       "    <tr>\n",
       "      <th>2</th>\n",
       "      <td>CH_2016</td>\n",
       "      <td>811.489711</td>\n",
       "      <td>19.279472</td>\n",
       "      <td>536.226852</td>\n",
       "      <td>65.255587</td>\n",
       "      <td>0.788556</td>\n",
       "      <td>0.401406</td>\n",
       "      <td>0.000000</td>\n",
       "      <td>1.114286</td>\n",
       "      <td>0.029365</td>\n",
       "      <td>3.908174</td>\n",
       "    </tr>\n",
       "    <tr>\n",
       "      <th>3</th>\n",
       "      <td>CH_2018</td>\n",
       "      <td>229.895078</td>\n",
       "      <td>19.096711</td>\n",
       "      <td>489.142185</td>\n",
       "      <td>47.522328</td>\n",
       "      <td>0.761725</td>\n",
       "      <td>0.420621</td>\n",
       "      <td>0.000000</td>\n",
       "      <td>1.146226</td>\n",
       "      <td>0.033267</td>\n",
       "      <td>3.691103</td>\n",
       "    </tr>\n",
       "    <tr>\n",
       "      <th>4</th>\n",
       "      <td>CH_2019</td>\n",
       "      <td>554.489324</td>\n",
       "      <td>12.929081</td>\n",
       "      <td>2130.274450</td>\n",
       "      <td>272.113992</td>\n",
       "      <td>0.462579</td>\n",
       "      <td>0.157501</td>\n",
       "      <td>0.420558</td>\n",
       "      <td>1.206490</td>\n",
       "      <td>0.027996</td>\n",
       "      <td>5.468537</td>\n",
       "    </tr>\n",
       "  </tbody>\n",
       "</table>\n",
       "</div>"
      ],
      "text/plain": [
       "  gauge_id         area  cly_pc_sav   ele_mt_sav  slp_dg_sav  \\\n",
       "0  CH_2009   701.274189   14.506965  1565.340147  248.671068   \n",
       "1  CH_2011  1566.180595   14.634048  2081.147355  247.628593   \n",
       "2  CH_2016   811.489711   19.279472   536.226852   65.255587   \n",
       "3  CH_2018   229.895078   19.096711   489.142185   47.522328   \n",
       "4  CH_2019   554.489324   12.929081  2130.274450  272.113992   \n",
       "\n",
       "   aridity_ERA5_LAND  aridity_FAO_PM  frac_snow  high_prec_dur  \\\n",
       "0           0.999746        0.258537   0.386329       1.134021   \n",
       "1           0.559558        0.235603   0.479000       1.223587   \n",
       "2           0.788556        0.401406   0.000000       1.114286   \n",
       "3           0.761725        0.420621   0.000000       1.146226   \n",
       "4           0.462579        0.157501   0.420558       1.206490   \n",
       "\n",
       "   high_prec_freq    p_mean  \n",
       "0        0.030118  4.954752  \n",
       "1        0.034089  4.197982  \n",
       "2        0.029365  3.908174  \n",
       "3        0.033267  3.691103  \n",
       "4        0.027996  5.468537  "
      ]
     },
     "execution_count": 5,
     "metadata": {},
     "output_type": "execute_result"
    }
   ],
   "source": [
    "statics_to_keep = [\n",
    "    \"gauge_id\",\n",
    "    \"p_mean\",\n",
    "    \"area\",\n",
    "    \"ele_mt_sav\",\n",
    "    \"high_prec_dur\",\n",
    "    \"frac_snow\",\n",
    "    \"high_prec_freq\",\n",
    "    \"slp_dg_sav\",\n",
    "    \"cly_pc_sav\",\n",
    "    \"aridity_ERA5_LAND\",\n",
    "    \"aridity_FAO_PM\",\n",
    "]\n",
    "\n",
    "static_columns = static_data.columns\n",
    "static_columns = [col for col in list(static_columns) if col in statics_to_keep]\n",
    "\n",
    "static_data = static_data[static_columns]\n",
    "static_data"
   ]
  },
  {
   "cell_type": "markdown",
   "metadata": {},
   "source": [
    "# 1. Load and prepare CAMELS-CH data"
   ]
  },
  {
   "cell_type": "code",
   "execution_count": 6,
   "metadata": {},
   "outputs": [],
   "source": [
    "# camels_config = CamelsCHConfig(\n",
    "#     timeseries_dir=\"/Users/cooper/Desktop/CAMELS-CH/data/timeseries/observation_based/\",\n",
    "#     timeseries_pattern=\"CAMELS_CH_obs_based_*.csv\",\n",
    "#     static_attributes_dir=\"/Users/cooper/Desktop/CAMELS-CH/data/static_attributes\",\n",
    "#     use_climate=False,\n",
    "#     use_geology=False,\n",
    "#     use_glacier=False,\n",
    "#     use_human_influence=False,\n",
    "#     use_hydrogeology=False,\n",
    "#     use_hydrology=False,\n",
    "#     use_landcover=False,\n",
    "#     use_soil=False,\n",
    "#     use_topographic=False,\n",
    "# )"
   ]
  },
  {
   "cell_type": "code",
   "execution_count": 7,
   "metadata": {},
   "outputs": [],
   "source": [
    "# all_gauge_ids = get_all_gauge_ids(camels_config)\n",
    "\n",
    "# ids_for_training = all_gauge_ids[:5]\n",
    "\n",
    "# camels = CamelsCH(camels_config)\n",
    "# camels.load_stations(ids_for_training)"
   ]
  },
  {
   "cell_type": "code",
   "execution_count": 8,
   "metadata": {},
   "outputs": [],
   "source": [
    "# data = camels.get_time_series()\n",
    "# data = data[\n",
    "#     [\n",
    "#         \"gauge_id\",\n",
    "#         \"date\",\n",
    "#         \"discharge_spec(mm/d)\",\n",
    "#     ]\n",
    "# ]\n",
    "\n",
    "# data"
   ]
  },
  {
   "cell_type": "code",
   "execution_count": 9,
   "metadata": {},
   "outputs": [],
   "source": [
    "# static = camels.get_static_attributes()\n",
    "# sc = static.columns\n",
    "\n",
    "# # for i in range(len(sc)):\n",
    "# #     print(f\"{i}: {sc[i]}\")\n",
    "# static_attributes = [\n",
    "#     \"gauge_id\",\n",
    "#     \"area\", \n",
    "#     \"elev_mean\",  \n",
    "#     \"slope_mean\",  \n",
    "#     \"aridity\",  \n",
    "#     \"p_seasonality\",  \n",
    "#     \"frac_snow\",  \n",
    "#     \"porosity\",  \n",
    "#     \"conductivity\",  \n",
    "#     \"p_mean\",  \n",
    "#     \"geo_porosity\",  \n",
    "# ]\n",
    "# static = static[static_attributes]\n",
    "# static"
   ]
  },
  {
   "cell_type": "markdown",
   "metadata": {},
   "source": [
    "# 2. Configure preprocessing"
   ]
  },
  {
   "cell_type": "code",
   "execution_count": 10,
   "metadata": {},
   "outputs": [],
   "source": [
    "preprocessing_config = {\n",
    "    \"features\": {\n",
    "        \"scale_method\": \"per_basin\",\n",
    "        \"log_transform\": []\n",
    "    },\n",
    "    \"target\": {\n",
    "        \"scale_method\": \"per_basin\",\n",
    "        \"log_transform\": False\n",
    "    },\n",
    "    \"static_features\": {\n",
    "        \"scale_method\": \"global\"\n",
    "    }\n",
    "}"
   ]
  },
  {
   "cell_type": "markdown",
   "metadata": {},
   "source": [
    "# 3. Create DataModule"
   ]
  },
  {
   "cell_type": "code",
   "execution_count": 11,
   "metadata": {},
   "outputs": [],
   "source": [
    "output_length = 10\n",
    "\n",
    "\n",
    "data_module = HydroDataModule(\n",
    "    time_series_df=ts_data,\n",
    "    static_df=static_data,\n",
    "    group_identifier=\"gauge_id\",\n",
    "    preprocessing_config=preprocessing_config,\n",
    "    batch_size=32,\n",
    "    input_length=30,\n",
    "    output_length=output_length,\n",
    "    num_workers=4,\n",
    "    features=ts_columns,\n",
    "    static_features=static_columns,\n",
    "    target=\"streamflow\",\n",
    "    min_train_years=15,\n",
    "    val_years=5,\n",
    "    test_years=5,\n",
    ")"
   ]
  },
  {
   "cell_type": "code",
   "execution_count": 12,
   "metadata": {},
   "outputs": [
    {
     "data": {
      "text/plain": [
       "'streamflow'"
      ]
     },
     "execution_count": 12,
     "metadata": {},
     "output_type": "execute_result"
    }
   ],
   "source": [
    "data_module.target"
   ]
  },
  {
   "cell_type": "markdown",
   "metadata": {},
   "source": [
    "## 4. Create model and train"
   ]
  },
  {
   "cell_type": "code",
   "execution_count": 13,
   "metadata": {},
   "outputs": [],
   "source": [
    "from src.models.lstm import LitLSTM\n",
    "from src.models.ealstm import LitEALSTM\n",
    "from src.models.TSMixer import LitTSMixer\n",
    "from torch.optim import Adam\n",
    "from torch.nn import MSELoss"
   ]
  },
  {
   "cell_type": "markdown",
   "metadata": {},
   "source": [
    "# 5. Evalue and plot results"
   ]
  },
  {
   "cell_type": "code",
   "execution_count": 14,
   "metadata": {},
   "outputs": [
    {
     "name": "stderr",
     "output_type": "stream",
     "text": [
      "GPU available: True (mps), used: False\n",
      "TPU available: False, using: 0 TPU cores\n",
      "HPU available: False, using: 0 HPUs\n",
      "/Users/cooper/Desktop/CAMELS-CH/.venv/lib/python3.12/site-packages/pytorch_lightning/trainer/setup.py:177: GPU available but not used. You can set it by doing `Trainer(accelerator='gpu')`.\n",
      "/Users/cooper/Desktop/CAMELS-CH/.venv/lib/python3.12/site-packages/pytorch_lightning/trainer/connectors/logger_connector/logger_connector.py:76: Starting from v1.9.0, `tensorboardX` has been removed as a dependency of the `pytorch_lightning` package, due to potential conflicts with other packages in the ML ecosystem. For this reason, `logger=True` will use `CSVLogger` as the default logger, unless the `tensorboard` or `tensorboardX` packages are found. Please `pip install lightning[extra]` or one of them to enable TensorBoard support by default\n"
     ]
    },
    {
     "name": "stdout",
     "output_type": "stream",
     "text": [
      "\n",
      "Quality Check Summary:\n",
      "Original basins: 5\n",
      "Retained basins: 5\n",
      "Excluded basins: 0\n",
      "\n",
      "Data preprocessing completed:\n",
      "- Features scaled using per_basin method\n",
      "- Target scaled using per_basin method\n",
      "- 11 static features scaled\n",
      "- Log transforms applied to: [] and target: False\n"
     ]
    },
    {
     "name": "stderr",
     "output_type": "stream",
     "text": [
      "/Users/cooper/Desktop/CAMELS-CH/.venv/lib/python3.12/site-packages/pytorch_lightning/callbacks/model_checkpoint.py:654: Checkpoint directory /Users/cooper/Desktop/CAMELS-CH/notebooks/checkpoints exists and is not empty.\n",
      "\n",
      "  | Name          | Type    | Params | Mode \n",
      "--------------------------------------------------\n",
      "0 | model         | TSMixer | 255 K  | train\n",
      "1 | mse_criterion | MSELoss | 0      | train\n",
      "2 | nse_criterion | NSELoss | 0      | train\n",
      "--------------------------------------------------\n",
      "255 K     Trainable params\n",
      "0         Non-trainable params\n",
      "255 K     Total params\n",
      "1.023     Total estimated model params size (MB)\n",
      "42        Modules in train mode\n",
      "0         Modules in eval mode\n"
     ]
    },
    {
     "name": "stdout",
     "output_type": "stream",
     "text": [
      "Created 54585 valid sequences\n",
      "Created 8935 valid sequences\n",
      "\n",
      "Data split summary:\n",
      "Training: 54780 samples from 5 basins\n",
      "Validation: 9130 samples from 5 basins\n",
      "Testing: 9135 samples from 5 basins\n"
     ]
    },
    {
     "data": {
      "application/vnd.jupyter.widget-view+json": {
       "model_id": "4821f70aff1f40aaa97ffbc15a313ba1",
       "version_major": 2,
       "version_minor": 0
      },
      "text/plain": [
       "Sanity Checking: |          | 0/? [00:00<?, ?it/s]"
      ]
     },
     "metadata": {},
     "output_type": "display_data"
    },
    {
     "data": {
      "application/vnd.jupyter.widget-view+json": {
       "model_id": "058632fa1d2f4d65bed53fe91075b3f4",
       "version_major": 2,
       "version_minor": 0
      },
      "text/plain": [
       "Training: |          | 0/? [00:00<?, ?it/s]"
      ]
     },
     "metadata": {},
     "output_type": "display_data"
    },
    {
     "data": {
      "application/vnd.jupyter.widget-view+json": {
       "model_id": "ada19a5f9fb44526b45f49fe504112ad",
       "version_major": 2,
       "version_minor": 0
      },
      "text/plain": [
       "Validation: |          | 0/? [00:00<?, ?it/s]"
      ]
     },
     "metadata": {},
     "output_type": "display_data"
    },
    {
     "data": {
      "application/vnd.jupyter.widget-view+json": {
       "model_id": "73ac9fdaca3044bea77b6908f3d96d18",
       "version_major": 2,
       "version_minor": 0
      },
      "text/plain": [
       "Validation: |          | 0/? [00:00<?, ?it/s]"
      ]
     },
     "metadata": {},
     "output_type": "display_data"
    },
    {
     "data": {
      "application/vnd.jupyter.widget-view+json": {
       "model_id": "8611d42e2c5c43afbeb61feff17eaba4",
       "version_major": 2,
       "version_minor": 0
      },
      "text/plain": [
       "Validation: |          | 0/? [00:00<?, ?it/s]"
      ]
     },
     "metadata": {},
     "output_type": "display_data"
    },
    {
     "data": {
      "application/vnd.jupyter.widget-view+json": {
       "model_id": "d584274c7a35466aa232c5b7f71351d9",
       "version_major": 2,
       "version_minor": 0
      },
      "text/plain": [
       "Validation: |          | 0/? [00:00<?, ?it/s]"
      ]
     },
     "metadata": {},
     "output_type": "display_data"
    },
    {
     "data": {
      "application/vnd.jupyter.widget-view+json": {
       "model_id": "06a2653af18347e5a944ae679bac8f8e",
       "version_major": 2,
       "version_minor": 0
      },
      "text/plain": [
       "Validation: |          | 0/? [00:00<?, ?it/s]"
      ]
     },
     "metadata": {},
     "output_type": "display_data"
    },
    {
     "name": "stderr",
     "output_type": "stream",
     "text": [
      "`Trainer.fit` stopped: `max_epochs=5` reached.\n"
     ]
    }
   ],
   "source": [
    "# model = LitLSTM(\n",
    "#     input_size=len(ts_columns),\n",
    "#     hidden_size=16,\n",
    "#     num_layers=1,\n",
    "#     output_size=output_length,\n",
    "#     target=data_module.target,\n",
    "# )\n",
    "\n",
    "# model = LitEALSTM(\n",
    "#     input_size_dyn=len(ts_columns),\n",
    "#     input_size_stat=len(static_columns) - 1,\n",
    "#     hidden_size=64,\n",
    "#     output_size=output_length,\n",
    "#     target=data_module.target,\n",
    "# )\n",
    "\n",
    "model = LitTSMixer(\n",
    "    input_len=30,\n",
    "    output_len=output_length,\n",
    "    input_size=len(ts_columns),\n",
    "    static_size=len(static_columns) - 1,\n",
    "    hidden_size=64,\n",
    "    target=data_module.target,\n",
    ")\n",
    "\n",
    "# Configure trainer\n",
    "trainer = pl.Trainer(\n",
    "    max_epochs=5,\n",
    "    accelerator=\"cpu\",\n",
    "    devices=1,\n",
    "    callbacks=[\n",
    "        ModelCheckpoint(\n",
    "            monitor=\"val_loss\",\n",
    "            dirpath=\"checkpoints\",\n",
    "            filename=\"best-checkpoint\",\n",
    "            save_top_k=1,\n",
    "            mode=\"min\",\n",
    "        ),\n",
    "        EarlyStopping(monitor=\"val_loss\", patience=3, mode=\"min\"),\n",
    "    ],\n",
    ")\n",
    "\n",
    "# Train the model\n",
    "trainer.fit(model, data_module)"
   ]
  },
  {
   "cell_type": "code",
   "execution_count": 15,
   "metadata": {},
   "outputs": [],
   "source": [
    "quality_report = data_module.quality_report\n",
    "\n",
    "excluded_basins = list(quality_report[\"excluded_basins\"].keys())\n",
    "excluded_basins\n",
    "\n",
    "ids_for_training = [id for id in ids_for_training if id not in excluded_basins]"
   ]
  },
  {
   "cell_type": "code",
   "execution_count": 16,
   "metadata": {},
   "outputs": [
    {
     "data": {
      "text/plain": [
       "['CH_2009', 'CH_2011', 'CH_2016', 'CH_2018', 'CH_2019']"
      ]
     },
     "execution_count": 16,
     "metadata": {},
     "output_type": "execute_result"
    }
   ],
   "source": [
    "ids_for_training"
   ]
  },
  {
   "cell_type": "code",
   "execution_count": 17,
   "metadata": {},
   "outputs": [
    {
     "name": "stdout",
     "output_type": "stream",
     "text": [
      "\n",
      "Quality Check Summary:\n",
      "Original basins: 5\n",
      "Retained basins: 5\n",
      "Excluded basins: 0\n",
      "\n",
      "Data preprocessing completed:\n",
      "- Features scaled using per_basin method\n",
      "- Target scaled using per_basin method\n",
      "- 11 static features scaled\n",
      "- Log transforms applied to: [] and target: False\n",
      "Created 8940 valid sequences\n",
      "\n",
      "Data split summary:\n",
      "Training: 54780 samples from 5 basins\n",
      "Validation: 9130 samples from 5 basins\n",
      "Testing: 9135 samples from 5 basins\n"
     ]
    },
    {
     "data": {
      "application/vnd.jupyter.widget-view+json": {
       "model_id": "071c73415d7f404ea842e8e571616d93",
       "version_major": 2,
       "version_minor": 0
      },
      "text/plain": [
       "Testing: |          | 0/? [00:00<?, ?it/s]"
      ]
     },
     "metadata": {},
     "output_type": "display_data"
    },
    {
     "name": "stdout",
     "output_type": "stream",
     "text": [
      "────────────────────────────────────────────────────────────────────────────────────────────────────────────────────────\n",
      "       Test metric             DataLoader 0\n",
      "────────────────────────────────────────────────────────────────────────────────────────────────────────────────────────\n",
      "       test_MAE_h1          0.42840999364852905\n",
      "      test_MAE_h10          0.8247824311256409\n",
      "       test_MAE_h2          0.5236219167709351\n",
      "       test_MAE_h3          0.5974839925765991\n",
      "       test_MAE_h4          0.6482177376747131\n",
      "       test_MAE_h5          0.6844927668571472\n",
      "       test_MAE_h6          0.7178020477294922\n",
      "       test_MAE_h7           0.749270498752594\n",
      "       test_MAE_h8          0.7829302549362183\n",
      "       test_MAE_h9          0.8004623055458069\n",
      "       test_MSE_h1          0.6130281686782837\n",
      "      test_MSE_h10          1.4950190782546997\n",
      "       test_MSE_h2          0.8433874249458313\n",
      "       test_MSE_h3          0.9955002665519714\n",
      "       test_MSE_h4          1.1138908863067627\n",
      "       test_MSE_h5           1.182820200920105\n",
      "       test_MSE_h6          1.2686158418655396\n",
      "       test_MSE_h7           1.334030270576477\n",
      "       test_MSE_h8          1.4071685075759888\n",
      "       test_MSE_h9           1.440804362297058\n",
      "       test_NSE_h1          0.9015247225761414\n",
      "      test_NSE_h10          0.7600273489952087\n",
      "       test_NSE_h2          0.8645243644714355\n",
      "       test_NSE_h3          0.8400837779045105\n",
      "       test_NSE_h4           0.821083664894104\n",
      "       test_NSE_h5          0.8100442886352539\n",
      "       test_NSE_h6          0.7962983846664429\n",
      "       test_NSE_h7          0.7858125567436218\n",
      "       test_NSE_h8          0.7740896940231323\n",
      "       test_NSE_h9          0.7687016129493713\n",
      "────────────────────────────────────────────────────────────────────────────────────────────────────────────────────────\n"
     ]
    }
   ],
   "source": [
    "trainer.test(model, data_module)\n",
    "test_results = model.test_results"
   ]
  },
  {
   "cell_type": "code",
   "execution_count": 18,
   "metadata": {},
   "outputs": [
    {
     "data": {
      "image/png": "[encoded data removed]",
      "text/plain": [
       "<Figure size 1000x600 with 1 Axes>"
      ]
     },
     "metadata": {},
     "output_type": "display_data"
    }
   ],
   "source": [
    "# Get the results\n",
    "results_df = model.test_results[\"forecast_df\"]\n",
    "horizon_metrics = model.test_results[\"horizon_metrics\"]\n",
    "\n",
    "horizons = []\n",
    "nse_values = []\n",
    "for horizon, metrics in horizon_metrics.items():\n",
    "    horizons.append(horizon)\n",
    "    nse_values.append(metrics[\"NSE\"])\n",
    "\n",
    "# Create bar plot\n",
    "plt.figure(figsize=(10, 6))\n",
    "colors = sns.color_palette(\"Blues\", 1)\n",
    "plt.bar(horizons, nse_values, color=colors)\n",
    "\n",
    "# Customize plot\n",
    "plt.xlabel(\"Forecast Horizon (Days)\")\n",
    "plt.ylabel(\"Nash-Sutcliffe Efficiency\")\n",
    "plt.title(\"Forecast Skill by Prediction Horizon\")\n",
    "plt.grid(True, linestyle=\"--\", alpha=0.3)\n",
    "sns.despine()\n",
    "\n",
    "# Set x-axis ticks to show all horizons\n",
    "plt.xticks(horizons)\n",
    "\n",
    "# Add value labels on top of each bar\n",
    "for i, v in enumerate(nse_values):\n",
    "    plt.text(i + 1, v, f\"{v:.2f}\", ha=\"center\", va=\"bottom\")\n",
    "\n",
    "plt.tight_layout()\n",
    "plt.show()"
   ]
  },
  {
   "cell_type": "code",
   "execution_count": 19,
   "metadata": {},
   "outputs": [
    {
     "data": {
      "text/html": [
       "<div>\n",
       "<style scoped>\n",
       "    .dataframe tbody tr th:only-of-type {\n",
       "        vertical-align: middle;\n",
       "    }\n",
       "\n",
       "    .dataframe tbody tr th {\n",
       "        vertical-align: top;\n",
       "    }\n",
       "\n",
       "    .dataframe thead th {\n",
       "        text-align: right;\n",
       "    }\n",
       "</style>\n",
       "<table border=\"1\" class=\"dataframe\">\n",
       "  <thead>\n",
       "    <tr style=\"text-align: right;\">\n",
       "      <th></th>\n",
       "      <th>horizon</th>\n",
       "      <th>prediction</th>\n",
       "      <th>observed</th>\n",
       "      <th>basin_id</th>\n",
       "    </tr>\n",
       "  </thead>\n",
       "  <tbody>\n",
       "    <tr>\n",
       "      <th>0</th>\n",
       "      <td>1</td>\n",
       "      <td>1.219611</td>\n",
       "      <td>1.549368</td>\n",
       "      <td>CH_2009</td>\n",
       "    </tr>\n",
       "    <tr>\n",
       "      <th>1</th>\n",
       "      <td>2</td>\n",
       "      <td>1.799161</td>\n",
       "      <td>2.319609</td>\n",
       "      <td>CH_2009</td>\n",
       "    </tr>\n",
       "    <tr>\n",
       "      <th>2</th>\n",
       "      <td>3</td>\n",
       "      <td>2.001117</td>\n",
       "      <td>2.229560</td>\n",
       "      <td>CH_2009</td>\n",
       "    </tr>\n",
       "    <tr>\n",
       "      <th>3</th>\n",
       "      <td>4</td>\n",
       "      <td>2.033667</td>\n",
       "      <td>2.309961</td>\n",
       "      <td>CH_2009</td>\n",
       "    </tr>\n",
       "    <tr>\n",
       "      <th>4</th>\n",
       "      <td>5</td>\n",
       "      <td>2.061280</td>\n",
       "      <td>2.170063</td>\n",
       "      <td>CH_2009</td>\n",
       "    </tr>\n",
       "    <tr>\n",
       "      <th>5</th>\n",
       "      <td>6</td>\n",
       "      <td>1.925770</td>\n",
       "      <td>2.099310</td>\n",
       "      <td>CH_2009</td>\n",
       "    </tr>\n",
       "    <tr>\n",
       "      <th>6</th>\n",
       "      <td>7</td>\n",
       "      <td>1.623714</td>\n",
       "      <td>1.629769</td>\n",
       "      <td>CH_2009</td>\n",
       "    </tr>\n",
       "    <tr>\n",
       "      <th>7</th>\n",
       "      <td>8</td>\n",
       "      <td>1.351817</td>\n",
       "      <td>1.539720</td>\n",
       "      <td>CH_2009</td>\n",
       "    </tr>\n",
       "    <tr>\n",
       "      <th>8</th>\n",
       "      <td>9</td>\n",
       "      <td>1.824117</td>\n",
       "      <td>2.129863</td>\n",
       "      <td>CH_2009</td>\n",
       "    </tr>\n",
       "    <tr>\n",
       "      <th>9</th>\n",
       "      <td>10</td>\n",
       "      <td>2.078817</td>\n",
       "      <td>2.279408</td>\n",
       "      <td>CH_2009</td>\n",
       "    </tr>\n",
       "  </tbody>\n",
       "</table>\n",
       "</div>"
      ],
      "text/plain": [
       "   horizon  prediction  observed basin_id\n",
       "0        1    1.219611  1.549368  CH_2009\n",
       "1        2    1.799161  2.319609  CH_2009\n",
       "2        3    2.001117  2.229560  CH_2009\n",
       "3        4    2.033667  2.309961  CH_2009\n",
       "4        5    2.061280  2.170063  CH_2009\n",
       "5        6    1.925770  2.099310  CH_2009\n",
       "6        7    1.623714  1.629769  CH_2009\n",
       "7        8    1.351817  1.539720  CH_2009\n",
       "8        9    1.824117  2.129863  CH_2009\n",
       "9       10    2.078817  2.279408  CH_2009"
      ]
     },
     "execution_count": 19,
     "metadata": {},
     "output_type": "execute_result"
    }
   ],
   "source": [
    "results_df.head(10)"
   ]
  },
  {
   "cell_type": "code",
   "execution_count": 20,
   "metadata": {},
   "outputs": [
    {
     "data": {
      "image/png": "[encoded data removed]",
      "text/plain": [
       "<Figure size 1200x600 with 1 Axes>"
      ]
     },
     "metadata": {},
     "output_type": "display_data"
    }
   ],
   "source": [
    "# Process results_df to get NSE by basin and horizon\n",
    "basin_metrics = {}\n",
    "for basin in results_df[\"basin_id\"].unique():\n",
    "    basin_data = results_df[results_df[\"basin_id\"] == basin]\n",
    "    nse_values = []\n",
    "    for horizon in range(1, max(basin_data[\"horizon\"]) + 1):\n",
    "        horizon_data = basin_data[basin_data[\"horizon\"] == horizon]\n",
    "        nse = nash_sutcliffe_efficiency(\n",
    "            horizon_data[\"observed\"].values, horizon_data[\"prediction\"].values\n",
    "        )\n",
    "        nse_values.append(nse)\n",
    "    basin_metrics[basin] = nse_values\n",
    "\n",
    "# Sort basins by NSE at horizon 1\n",
    "sorted_basins = sorted(\n",
    "    basin_metrics.keys(), key=lambda x: basin_metrics[x][0], reverse=True\n",
    ")\n",
    "basin_metrics = {basin: basin_metrics[basin] for basin in sorted_basins}\n",
    "\n",
    "# Plot settings\n",
    "plt.figure(figsize=(12, 6))\n",
    "bar_width = 0.8 / len(basin_metrics)\n",
    "\n",
    "# Create color palette of blue shades\n",
    "colors = sns.color_palette(\"Blues\", len(basin_metrics) + 2)[2:]\n",
    "\n",
    "# Create bars for each basin\n",
    "for i, (basin, nse_values) in enumerate(basin_metrics.items()):\n",
    "    x = np.arange(len(nse_values)) + i * bar_width\n",
    "    plt.bar(x, nse_values, bar_width, label=f\"Basin {basin}\", color=colors[i])\n",
    "\n",
    "# Customize plot\n",
    "plt.xlabel(\"Forecast Horizon (Days)\", fontsize=12)\n",
    "plt.ylabel(\"Nash-Sutcliffe Efficiency\", fontsize=12)\n",
    "plt.title(\"Forecast Skill by Basin and Horizon\", fontsize=14, pad=20)\n",
    "plt.grid(True, linestyle=\"--\", alpha=0.3)\n",
    "plt.legend(title=\"Basin ID\", title_fontsize=10, fontsize=10)\n",
    "sns.despine()\n",
    "\n",
    "# Set x-axis ticks in middle of grouped bars\n",
    "plt.xticks(\n",
    "    np.arange(len(next(iter(basin_metrics.values()))))\n",
    "    + bar_width * (len(basin_metrics) - 1) / 2,\n",
    "    np.arange(1, len(next(iter(basin_metrics.values()))) + 1),\n",
    ")\n",
    "\n",
    "# Remove top and right spines\n",
    "sns.despine()\n",
    "\n",
    "plt.tight_layout()\n",
    "plt.show()"
   ]
  },
  {
   "cell_type": "code",
   "execution_count": 21,
   "metadata": {},
   "outputs": [
    {
     "data": {
      "text/plain": [
       "0.16"
      ]
     },
     "execution_count": 21,
     "metadata": {},
     "output_type": "execute_result"
    }
   ],
   "source": [
    "bar_width"
   ]
  },
  {
   "cell_type": "code",
   "execution_count": 22,
   "metadata": {},
   "outputs": [
    {
     "ename": "ZeroDivisionError",
     "evalue": "division by zero",
     "output_type": "error",
     "traceback": [
      "\u001b[0;31m---------------------------------------------------------------------------\u001b[0m",
      "\u001b[0;31mZeroDivisionError\u001b[0m                         Traceback (most recent call last)",
      "Cell \u001b[0;32mIn[22], line 56\u001b[0m\n\u001b[1;32m     52\u001b[0m     plt\u001b[38;5;241m.\u001b[39mshow()\n\u001b[1;32m     55\u001b[0m \u001b[38;5;66;03m# Example usage:\u001b[39;00m\n\u001b[0;32m---> 56\u001b[0m \u001b[43mplot_predictions\u001b[49m\u001b[43m(\u001b[49m\u001b[43mresults_df\u001b[49m\u001b[43m,\u001b[49m\u001b[43m \u001b[49m\u001b[43mn_timesteps\u001b[49m\u001b[38;5;241;43m=\u001b[39;49m\u001b[38;5;241;43m200\u001b[39;49m\u001b[43m)\u001b[49m \n",
      "Cell \u001b[0;32mIn[22], line 27\u001b[0m, in \u001b[0;36mplot_predictions\u001b[0;34m(results_df, n_timesteps)\u001b[0m\n\u001b[1;32m     24\u001b[0m basin_data \u001b[38;5;241m=\u001b[39m horizon_1_data[horizon_1_data[\u001b[38;5;124m\"\u001b[39m\u001b[38;5;124mbasin_id\u001b[39m\u001b[38;5;124m\"\u001b[39m] \u001b[38;5;241m==\u001b[39m basin]\n\u001b[1;32m     25\u001b[0m ax \u001b[38;5;241m=\u001b[39m axes[idx]\n\u001b[0;32m---> 27\u001b[0m nse \u001b[38;5;241m=\u001b[39m \u001b[43mnash_sutcliffe_efficiency\u001b[49m\u001b[43m(\u001b[49m\n\u001b[1;32m     28\u001b[0m \u001b[43m    \u001b[49m\u001b[43mbasin_data\u001b[49m\u001b[43m[\u001b[49m\u001b[38;5;124;43m\"\u001b[39;49m\u001b[38;5;124;43mobserved\u001b[39;49m\u001b[38;5;124;43m\"\u001b[39;49m\u001b[43m]\u001b[49m\u001b[38;5;241;43m.\u001b[39;49m\u001b[43mvalues\u001b[49m\u001b[43m,\u001b[49m\u001b[43m \u001b[49m\u001b[43mbasin_data\u001b[49m\u001b[43m[\u001b[49m\u001b[38;5;124;43m\"\u001b[39;49m\u001b[38;5;124;43mprediction\u001b[39;49m\u001b[38;5;124;43m\"\u001b[39;49m\u001b[43m]\u001b[49m\u001b[38;5;241;43m.\u001b[39;49m\u001b[43mvalues\u001b[49m\n\u001b[1;32m     29\u001b[0m \u001b[43m\u001b[49m\u001b[43m)\u001b[49m\n\u001b[1;32m     31\u001b[0m x \u001b[38;5;241m=\u001b[39m np\u001b[38;5;241m.\u001b[39marange(\u001b[38;5;28mlen\u001b[39m(basin_data))\n\u001b[1;32m     32\u001b[0m ax\u001b[38;5;241m.\u001b[39mplot(x, basin_data[\u001b[38;5;124m\"\u001b[39m\u001b[38;5;124mobserved\u001b[39m\u001b[38;5;124m\"\u001b[39m], label\u001b[38;5;241m=\u001b[39m\u001b[38;5;124m\"\u001b[39m\u001b[38;5;124mObserved\u001b[39m\u001b[38;5;124m\"\u001b[39m, color\u001b[38;5;241m=\u001b[39m\u001b[38;5;124m\"\u001b[39m\u001b[38;5;124m#1d4ed8\u001b[39m\u001b[38;5;124m\"\u001b[39m)\n",
      "File \u001b[0;32m~/Desktop/CAMELS-CH/utils/metrics.py:21\u001b[0m, in \u001b[0;36mnash_sutcliffe_efficiency\u001b[0;34m(observed, simulated)\u001b[0m\n\u001b[1;32m     18\u001b[0m \u001b[38;5;28;01mif\u001b[39;00m \u001b[38;5;28mlen\u001b[39m(observed) \u001b[38;5;241m!=\u001b[39m \u001b[38;5;28mlen\u001b[39m(simulated):\n\u001b[1;32m     19\u001b[0m     \u001b[38;5;28;01mraise\u001b[39;00m \u001b[38;5;167;01mValueError\u001b[39;00m(\u001b[38;5;124m\"\u001b[39m\u001b[38;5;124mThe length of observed and simulated data must be the same.\u001b[39m\u001b[38;5;124m\"\u001b[39m)\n\u001b[0;32m---> 21\u001b[0m mean_obs \u001b[38;5;241m=\u001b[39m \u001b[38;5;28;43msum\u001b[39;49m\u001b[43m(\u001b[49m\u001b[43mobserved\u001b[49m\u001b[43m)\u001b[49m\u001b[43m \u001b[49m\u001b[38;5;241;43m/\u001b[39;49m\u001b[43m \u001b[49m\u001b[38;5;28;43mlen\u001b[39;49m\u001b[43m(\u001b[49m\u001b[43mobserved\u001b[49m\u001b[43m)\u001b[49m\n\u001b[1;32m     22\u001b[0m numerator \u001b[38;5;241m=\u001b[39m \u001b[38;5;28msum\u001b[39m((o \u001b[38;5;241m-\u001b[39m s) \u001b[38;5;241m*\u001b[39m\u001b[38;5;241m*\u001b[39m \u001b[38;5;241m2\u001b[39m \u001b[38;5;28;01mfor\u001b[39;00m o, s \u001b[38;5;129;01min\u001b[39;00m \u001b[38;5;28mzip\u001b[39m(observed, simulated))\n\u001b[1;32m     23\u001b[0m denominator \u001b[38;5;241m=\u001b[39m \u001b[38;5;28msum\u001b[39m((o \u001b[38;5;241m-\u001b[39m mean_obs) \u001b[38;5;241m*\u001b[39m\u001b[38;5;241m*\u001b[39m \u001b[38;5;241m2\u001b[39m \u001b[38;5;28;01mfor\u001b[39;00m o \u001b[38;5;129;01min\u001b[39;00m observed)\n",
      "\u001b[0;31mZeroDivisionError\u001b[0m: division by zero"
     ]
    },
    {
     "data": {
      "image/png": "[encoded data removed]",
      "text/plain": [
       "<Figure size 1500x1500 with 6 Axes>"
      ]
     },
     "metadata": {},
     "output_type": "display_data"
    }
   ],
   "source": [
    "import matplotlib.pyplot as plt\n",
    "import seaborn as sns\n",
    "\n",
    "\n",
    "def plot_predictions(results_df, n_timesteps=None):\n",
    "    # Filter for horizon 1\n",
    "    horizon_1_data = results_df[results_df[\"horizon\"] == 1]\n",
    "\n",
    "    if n_timesteps:\n",
    "        # Get last n_timesteps for each basin\n",
    "        horizon_1_data = (\n",
    "            horizon_1_data.groupby(\"basin_id\").tail(n_timesteps).reset_index(drop=True)\n",
    "        )\n",
    "\n",
    "    n_basins = len(horizon_1_data[\"basin_id\"].unique())\n",
    "    n_cols = 2\n",
    "    n_rows = (n_basins + 1) // 2\n",
    "\n",
    "    fig, axes = plt.subplots(n_rows, n_cols, figsize=(15, 5 * n_rows))\n",
    "    axes = axes.flatten()\n",
    "\n",
    "    # for idx, basin in enumerate(horizon_1_data[\"basin_id\"].unique()):\n",
    "    for idx, basin in enumerate([\"CH_4011\"]):\n",
    "        basin_data = horizon_1_data[horizon_1_data[\"basin_id\"] == basin]\n",
    "        ax = axes[idx]\n",
    "\n",
    "        nse = nash_sutcliffe_efficiency(\n",
    "            basin_data[\"observed\"].values, basin_data[\"prediction\"].values\n",
    "        )\n",
    "\n",
    "        x = np.arange(len(basin_data))\n",
    "        ax.plot(x, basin_data[\"observed\"], label=\"Observed\", color=\"#1d4ed8\")\n",
    "        ax.plot(\n",
    "            x,\n",
    "            basin_data[\"prediction\"],\n",
    "            label=\"Predicted\",\n",
    "            color=\"#dc2626\",\n",
    "            alpha=0.8,\n",
    "        )\n",
    "\n",
    "        ax.set_title(f\"Basin {basin} (NSE: {nse:.3f})\", fontsize=12)\n",
    "        ax.set_xlabel(\"Time Step\", fontsize=10)\n",
    "        ax.set_ylabel(\"Discharge\", fontsize=10)\n",
    "        ax.grid(True, linestyle=\"--\", alpha=0.3)\n",
    "        ax.legend(fontsize=9)\n",
    "        sns.despine(ax=ax)\n",
    "\n",
    "    for idx in range(n_basins, len(axes)):\n",
    "        fig.delaxes(axes[idx])\n",
    "\n",
    "    plt.tight_layout()\n",
    "    plt.show()\n",
    "\n",
    "\n",
    "# Example usage:\n",
    "plot_predictions(results_df, n_timesteps=200) "
   ]
  },
  {
   "cell_type": "code",
   "execution_count": 23,
   "metadata": {},
   "outputs": [
    {
     "name": "stdout",
     "output_type": "stream",
     "text": [
      "Test results available: True\n",
      "\n",
      "Keys in test_results: dict_keys(['forecast_df', 'horizon_metrics'])\n"
     ]
    }
   ],
   "source": [
    "print(\"Test results available:\", hasattr(model, 'test_results'))\n",
    "if hasattr(model, 'test_results'):\n",
    "    print(\"\\nKeys in test_results:\", model.test_results.keys())"
   ]
  },
  {
   "cell_type": "code",
   "execution_count": 24,
   "metadata": {},
   "outputs": [
    {
     "name": "stdout",
     "output_type": "stream",
     "text": [
      "\n",
      "Basin CH_2009:\n",
      "Total samples: 17880\n",
      "Missing values: 0\n",
      "Observed std: 1.633057\n",
      "\n",
      "Basin CH_2011:\n",
      "Total samples: 17880\n",
      "Missing values: 0\n",
      "Observed std: 2.009274\n",
      "\n",
      "Basin CH_2016:\n",
      "Total samples: 17880\n",
      "Missing values: 0\n",
      "Observed std: 1.009534\n",
      "\n",
      "Basin CH_2018:\n",
      "Total samples: 17880\n",
      "Missing values: 0\n",
      "Observed std: 1.744016\n",
      "\n",
      "Basin CH_2019:\n",
      "Total samples: 17880\n",
      "Missing values: 0\n",
      "Observed std: 3.616541\n"
     ]
    }
   ],
   "source": [
    "def analyze_basin_data(forecast_df):\n",
    "    for basin in forecast_df['basin_id'].unique():\n",
    "        basin_data = forecast_df[forecast_df['basin_id'] == basin]\n",
    "        \n",
    "        # Check for gaps\n",
    "        missing_mask = basin_data['observed'].isna() | basin_data['prediction'].isna()\n",
    "        n_missing = missing_mask.sum()\n",
    "        \n",
    "        # Check for constant values\n",
    "        obs_std = basin_data['observed'].std()\n",
    "        \n",
    "        print(f\"\\nBasin {basin}:\")\n",
    "        print(f\"Total samples: {len(basin_data)}\")\n",
    "        print(f\"Missing values: {n_missing}\")\n",
    "        print(f\"Observed std: {obs_std:.6f}\")\n",
    "        if n_missing > 0:\n",
    "            print(\"Gap locations:\")\n",
    "            gap_starts = basin_data[missing_mask]['horizon'].values\n",
    "            for gap in gap_starts:\n",
    "                print(f\"  Horizon: {gap}\")\n",
    "\n",
    "analyze_basin_data(model.test_results['forecast_df'])"
   ]
  },
  {
   "cell_type": "code",
   "execution_count": null,
   "metadata": {},
   "outputs": [],
   "source": [
    "test_results"
   ]
  },
  {
   "cell_type": "code",
   "execution_count": null,
   "metadata": {},
   "outputs": [],
   "source": []
  }
 ],
 "metadata": {
  "kernelspec": {
   "display_name": ".venv",
   "language": "python",
   "name": "python3"
  },
  "language_info": {
   "codemirror_mode": {
    "name": "ipython",
    "version": 3
   },
   "file_extension": ".py",
   "mimetype": "text/x-python",
   "name": "python",
   "nbconvert_exporter": "python",
   "pygments_lexer": "ipython3",
   "version": "3.12.8"
  }
 },
 "nbformat": 4,
 "nbformat_minor": 2
}
