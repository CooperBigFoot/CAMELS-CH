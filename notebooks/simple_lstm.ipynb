{
 "cells": [
  {
   "cell_type": "code",
   "execution_count": 1,
   "metadata": {},
   "outputs": [],
   "source": [
    "import sys\n",
    "from pathlib import Path\n",
    "sys.path.append(str(Path().absolute().parent))\n",
    "import time"
   ]
  },
  {
   "cell_type": "code",
   "execution_count": 2,
   "metadata": {},
   "outputs": [
    {
     "name": "stderr",
     "output_type": "stream",
     "text": [
      "/Users/cooper/Desktop/CAMELS-CH/.venv/lib/python3.12/site-packages/pytorch_forecasting/models/base_model.py:27: TqdmWarning: IProgress not found. Please update jupyter and ipywidgets. See https://ipywidgets.readthedocs.io/en/stable/user_install.html\n",
      "  from tqdm.autonotebook import tqdm\n"
     ]
    }
   ],
   "source": [
    "import torch\n",
    "import lightning.pytorch as pl\n",
    "from lightning.pytorch import Trainer\n",
    "from pytorch_forecasting import TemporalFusionTransformer, TimeSeriesDataSet\n",
    "from pytorch_forecasting.metrics import QuantileLoss\n",
    "from pytorch_forecasting.data import GroupNormalizer\n",
    "from lightning.pytorch.callbacks import EarlyStopping, ModelCheckpoint\n",
    "import pandas as pd\n",
    "from io import StringIO\n",
    "import numpy as np\n",
    "import glob\n",
    "from pathlib import Path\n",
    "\n",
    "from src.data_models.camels_ch import CamelsCH, CamelsCHConfig, get_all_gauge_ids\n",
    "from src.data_models.dataset import HydroDataset\n",
    "from src.data_models.preprocessing import (\n",
    "    scale_time_series,\n",
    "    scale_static_attributes,\n",
    "    inverse_scale_static_attributes,\n",
    ")"
   ]
  },
  {
   "cell_type": "markdown",
   "metadata": {},
   "source": [
    "---"
   ]
  },
  {
   "cell_type": "markdown",
   "metadata": {},
   "source": [
    "## Getting the data"
   ]
  },
  {
   "cell_type": "code",
   "execution_count": 3,
   "metadata": {},
   "outputs": [
    {
     "name": "stdout",
     "output_type": "stream",
     "text": [
      "Loaded time series data for 3 stations\n",
      "Loading hydrology attributes\n",
      "Loaded static attributes for 3 stations\n"
     ]
    }
   ],
   "source": [
    "camels_config = CamelsCHConfig(\n",
    "    timeseries_dir=\"/Users/cooper/Desktop/CAMELS-CH/data/timeseries/observation_based/\",\n",
    "    timeseries_pattern=\"CAMELS_CH_obs_based_*.csv\",\n",
    "    static_attributes_dir=\"/Users/cooper/Desktop/CAMELS-CH/data/static_attributes\",\n",
    "    use_climate=False,\n",
    "    use_geology=False,\n",
    "    use_glacier=False,\n",
    "    use_human_influence=False,\n",
    "    use_hydrogeology=False,\n",
    "    use_hydrology=True,\n",
    "    use_landcover=False,\n",
    "    use_soil=False,\n",
    "    use_topographic=False,\n",
    ")\n",
    "\n",
    "camels = CamelsCH(camels_config)\n",
    "camels.load_stations([\"2018\", \"2019\", \"2020\"])"
   ]
  },
  {
   "cell_type": "code",
   "execution_count": 4,
   "metadata": {},
   "outputs": [
    {
     "data": {
      "text/html": [
       "<div>\n",
       "<style scoped>\n",
       "    .dataframe tbody tr th:only-of-type {\n",
       "        vertical-align: middle;\n",
       "    }\n",
       "\n",
       "    .dataframe tbody tr th {\n",
       "        vertical-align: top;\n",
       "    }\n",
       "\n",
       "    .dataframe thead th {\n",
       "        text-align: right;\n",
       "    }\n",
       "</style>\n",
       "<table border=\"1\" class=\"dataframe\">\n",
       "  <thead>\n",
       "    <tr style=\"text-align: right;\">\n",
       "      <th></th>\n",
       "      <th>gauge_id</th>\n",
       "      <th>q_mean</th>\n",
       "      <th>runoff_ratio</th>\n",
       "      <th>stream_elas</th>\n",
       "      <th>slope_fdc</th>\n",
       "      <th>baseflow_index_landson</th>\n",
       "      <th>hfd_mean</th>\n",
       "    </tr>\n",
       "  </thead>\n",
       "  <tbody>\n",
       "    <tr>\n",
       "      <th>0</th>\n",
       "      <td>2018</td>\n",
       "      <td>3.556</td>\n",
       "      <td>0.817</td>\n",
       "      <td>1.045</td>\n",
       "      <td>1.781</td>\n",
       "      <td>0.767</td>\n",
       "      <td>237.410</td>\n",
       "    </tr>\n",
       "    <tr>\n",
       "      <th>1</th>\n",
       "      <td>2019</td>\n",
       "      <td>5.671</td>\n",
       "      <td>1.119</td>\n",
       "      <td>0.589</td>\n",
       "      <td>2.332</td>\n",
       "      <td>0.754</td>\n",
       "      <td>255.538</td>\n",
       "    </tr>\n",
       "    <tr>\n",
       "      <th>2</th>\n",
       "      <td>2020</td>\n",
       "      <td>3.692</td>\n",
       "      <td>0.811</td>\n",
       "      <td>1.013</td>\n",
       "      <td>1.694</td>\n",
       "      <td>0.683</td>\n",
       "      <td>223.718</td>\n",
       "    </tr>\n",
       "  </tbody>\n",
       "</table>\n",
       "</div>"
      ],
      "text/plain": [
       "  gauge_id  q_mean  runoff_ratio  stream_elas  slope_fdc  \\\n",
       "0     2018   3.556         0.817        1.045      1.781   \n",
       "1     2019   5.671         1.119        0.589      2.332   \n",
       "2     2020   3.692         0.811        1.013      1.694   \n",
       "\n",
       "   baseflow_index_landson  hfd_mean  \n",
       "0                   0.767   237.410  \n",
       "1                   0.754   255.538  \n",
       "2                   0.683   223.718  "
      ]
     },
     "execution_count": 4,
     "metadata": {},
     "output_type": "execute_result"
    }
   ],
   "source": [
    "static = camels.get_static_attributes()\n",
    "# q_mean\trunoff_ratio\tstream_elas\tslope_fdc\tbaseflow_index_landson\thfd_mean\n",
    "static = static[[\"gauge_id\", \"q_mean\", \"runoff_ratio\", \"stream_elas\", \"slope_fdc\", \"baseflow_index_landson\", \"hfd_mean\"]]\n",
    "static"
   ]
  },
  {
   "cell_type": "markdown",
   "metadata": {},
   "source": [
    "## Preprocessing"
   ]
  },
  {
   "cell_type": "code",
   "execution_count": 5,
   "metadata": {},
   "outputs": [],
   "source": [
    "data = camels.get_time_series()\n",
    "data = data[\n",
    "    [\n",
    "        \"gauge_id\",\n",
    "        \"date\",\n",
    "        \"discharge_spec(mm/d)\",\n",
    "        \"precipitation(mm/d)\",\n",
    "        \"temperature_mean(degC)\",\n",
    "    ]\n",
    "]\n",
    "\n",
    "# Split into train/test\n",
    "df_train = data.iloc[:240]  # 80 samples per basin\n",
    "df_test = data.iloc[240:]  # 20 samples per basin\n",
    "\n",
    "# Scale by basin\n",
    "scaled_train, scaled_test, params = scale_time_series(\n",
    "    df_train,\n",
    "    df_test,\n",
    "    features=[\"discharge_spec(mm/d)\", \"precipitation(mm/d)\", \"temperature_mean(degC)\"],\n",
    "    by_basin=True,  # Set False for global scaling\n",
    ")"
   ]
  },
  {
   "cell_type": "code",
   "execution_count": 6,
   "metadata": {},
   "outputs": [
    {
     "data": {
      "text/html": [
       "<div>\n",
       "<style scoped>\n",
       "    .dataframe tbody tr th:only-of-type {\n",
       "        vertical-align: middle;\n",
       "    }\n",
       "\n",
       "    .dataframe tbody tr th {\n",
       "        vertical-align: top;\n",
       "    }\n",
       "\n",
       "    .dataframe thead th {\n",
       "        text-align: right;\n",
       "    }\n",
       "</style>\n",
       "<table border=\"1\" class=\"dataframe\">\n",
       "  <thead>\n",
       "    <tr style=\"text-align: right;\">\n",
       "      <th></th>\n",
       "      <th>gauge_id</th>\n",
       "      <th>date</th>\n",
       "      <th>discharge_spec(mm/d)</th>\n",
       "      <th>precipitation(mm/d)</th>\n",
       "      <th>temperature_mean(degC)</th>\n",
       "    </tr>\n",
       "  </thead>\n",
       "  <tbody>\n",
       "    <tr>\n",
       "      <th>0</th>\n",
       "      <td>2018</td>\n",
       "      <td>1981-01-01</td>\n",
       "      <td>1.303</td>\n",
       "      <td>4.27</td>\n",
       "      <td>-1.91</td>\n",
       "    </tr>\n",
       "    <tr>\n",
       "      <th>1</th>\n",
       "      <td>2018</td>\n",
       "      <td>1981-01-02</td>\n",
       "      <td>1.307</td>\n",
       "      <td>8.07</td>\n",
       "      <td>-3.47</td>\n",
       "    </tr>\n",
       "    <tr>\n",
       "      <th>2</th>\n",
       "      <td>2018</td>\n",
       "      <td>1981-01-03</td>\n",
       "      <td>1.354</td>\n",
       "      <td>26.46</td>\n",
       "      <td>1.05</td>\n",
       "    </tr>\n",
       "    <tr>\n",
       "      <th>3</th>\n",
       "      <td>2018</td>\n",
       "      <td>1981-01-04</td>\n",
       "      <td>3.062</td>\n",
       "      <td>31.43</td>\n",
       "      <td>-1.67</td>\n",
       "    </tr>\n",
       "    <tr>\n",
       "      <th>4</th>\n",
       "      <td>2018</td>\n",
       "      <td>1981-01-05</td>\n",
       "      <td>2.549</td>\n",
       "      <td>6.18</td>\n",
       "      <td>-6.32</td>\n",
       "    </tr>\n",
       "  </tbody>\n",
       "</table>\n",
       "</div>"
      ],
      "text/plain": [
       "  gauge_id       date  discharge_spec(mm/d)  precipitation(mm/d)  \\\n",
       "0     2018 1981-01-01                 1.303                 4.27   \n",
       "1     2018 1981-01-02                 1.307                 8.07   \n",
       "2     2018 1981-01-03                 1.354                26.46   \n",
       "3     2018 1981-01-04                 3.062                31.43   \n",
       "4     2018 1981-01-05                 2.549                 6.18   \n",
       "\n",
       "   temperature_mean(degC)  \n",
       "0                   -1.91  \n",
       "1                   -3.47  \n",
       "2                    1.05  \n",
       "3                   -1.67  \n",
       "4                   -6.32  "
      ]
     },
     "execution_count": 6,
     "metadata": {},
     "output_type": "execute_result"
    }
   ],
   "source": [
    "df_train.head() "
   ]
  },
  {
   "cell_type": "code",
   "execution_count": 7,
   "metadata": {},
   "outputs": [
    {
     "data": {
      "text/html": [
       "<div>\n",
       "<style scoped>\n",
       "    .dataframe tbody tr th:only-of-type {\n",
       "        vertical-align: middle;\n",
       "    }\n",
       "\n",
       "    .dataframe tbody tr th {\n",
       "        vertical-align: top;\n",
       "    }\n",
       "\n",
       "    .dataframe thead th {\n",
       "        text-align: right;\n",
       "    }\n",
       "</style>\n",
       "<table border=\"1\" class=\"dataframe\">\n",
       "  <thead>\n",
       "    <tr style=\"text-align: right;\">\n",
       "      <th></th>\n",
       "      <th>gauge_id</th>\n",
       "      <th>date</th>\n",
       "      <th>discharge_spec(mm/d)</th>\n",
       "      <th>precipitation(mm/d)</th>\n",
       "      <th>temperature_mean(degC)</th>\n",
       "    </tr>\n",
       "  </thead>\n",
       "  <tbody>\n",
       "    <tr>\n",
       "      <th>0</th>\n",
       "      <td>2018</td>\n",
       "      <td>1981-01-01</td>\n",
       "      <td>-1.426150</td>\n",
       "      <td>-0.055622</td>\n",
       "      <td>-0.945363</td>\n",
       "    </tr>\n",
       "    <tr>\n",
       "      <th>1</th>\n",
       "      <td>2018</td>\n",
       "      <td>1981-01-02</td>\n",
       "      <td>-1.424359</td>\n",
       "      <td>0.403326</td>\n",
       "      <td>-1.154683</td>\n",
       "    </tr>\n",
       "    <tr>\n",
       "      <th>2</th>\n",
       "      <td>2018</td>\n",
       "      <td>1981-01-03</td>\n",
       "      <td>-1.403311</td>\n",
       "      <td>2.624393</td>\n",
       "      <td>-0.548191</td>\n",
       "    </tr>\n",
       "    <tr>\n",
       "      <th>3</th>\n",
       "      <td>2018</td>\n",
       "      <td>1981-01-04</td>\n",
       "      <td>-0.638420</td>\n",
       "      <td>3.224649</td>\n",
       "      <td>-0.913160</td>\n",
       "    </tr>\n",
       "    <tr>\n",
       "      <th>4</th>\n",
       "      <td>2018</td>\n",
       "      <td>1981-01-05</td>\n",
       "      <td>-0.868156</td>\n",
       "      <td>0.175060</td>\n",
       "      <td>-1.537095</td>\n",
       "    </tr>\n",
       "  </tbody>\n",
       "</table>\n",
       "</div>"
      ],
      "text/plain": [
       "  gauge_id       date  discharge_spec(mm/d)  precipitation(mm/d)  \\\n",
       "0     2018 1981-01-01             -1.426150            -0.055622   \n",
       "1     2018 1981-01-02             -1.424359             0.403326   \n",
       "2     2018 1981-01-03             -1.403311             2.624393   \n",
       "3     2018 1981-01-04             -0.638420             3.224649   \n",
       "4     2018 1981-01-05             -0.868156             0.175060   \n",
       "\n",
       "   temperature_mean(degC)  \n",
       "0               -0.945363  \n",
       "1               -1.154683  \n",
       "2               -0.548191  \n",
       "3               -0.913160  \n",
       "4               -1.537095  "
      ]
     },
     "execution_count": 7,
     "metadata": {},
     "output_type": "execute_result"
    }
   ],
   "source": [
    "scaled_train.head()"
   ]
  },
  {
   "cell_type": "code",
   "execution_count": null,
   "metadata": {},
   "outputs": [],
   "source": []
  },
  {
   "cell_type": "code",
   "execution_count": 8,
   "metadata": {},
   "outputs": [
    {
     "name": "stdout",
     "output_type": "stream",
     "text": [
      "\n",
      "Original values:\n",
      "  gauge_id  q_mean  runoff_ratio  stream_elas  slope_fdc  \\\n",
      "0     2018   3.556         0.817        1.045      1.781   \n",
      "1     2019   5.671         1.119        0.589      2.332   \n",
      "2     2020   3.692         0.811        1.013      1.694   \n",
      "\n",
      "   baseflow_index_landson  hfd_mean  \n",
      "0                   0.767   237.410  \n",
      "1                   0.754   255.538  \n",
      "2                   0.683   223.718  \n",
      "\n",
      "Scaled values:\n",
      "   baseflow_index_landson  hfd_mean    q_mean  runoff_ratio  slope_fdc  \\\n",
      "0               -0.457515  2.215087 -0.426016     -0.456950  -0.446063   \n",
      "1               -0.457662  2.419821 -0.402130     -0.453539  -0.439840   \n",
      "2               -0.458463  2.060452 -0.424480     -0.457018  -0.447045   \n",
      "\n",
      "   stream_elas gauge_id  \n",
      "0    -0.454375     2018  \n",
      "1    -0.459525     2019  \n",
      "2    -0.454737     2020  \n",
      "\n",
      "Inverse scaled values:\n",
      "   baseflow_index_landson  hfd_mean  q_mean  runoff_ratio  slope_fdc  \\\n",
      "0                   0.767   237.410   3.556         0.817      1.781   \n",
      "1                   0.754   255.538   5.671         1.119      2.332   \n",
      "2                   0.683   223.718   3.692         0.811      1.694   \n",
      "\n",
      "   stream_elas gauge_id  \n",
      "0        1.045     2018  \n",
      "1        0.589     2019  \n",
      "2        1.013     2020  \n",
      "\n",
      "Verification passed: Original and inverse-scaled values match!\n"
     ]
    }
   ],
   "source": [
    "attributes = [col for col in static.columns if col != 'gauge_id']\n",
    "\n",
    "# Scale the attributes\n",
    "scaled_df, scaling_params = scale_static_attributes(static, attributes)\n",
    "\n",
    "# Add back gauge_id if needed\n",
    "scaled_df['gauge_id'] = static['gauge_id']\n",
    "\n",
    "# Inverse scale to verify\n",
    "original_df = inverse_scale_static_attributes(scaled_df[attributes], scaling_params)\n",
    "original_df['gauge_id'] = static['gauge_id']\n",
    "\n",
    "# Print results\n",
    "print(\"\\nOriginal values:\")\n",
    "print(static)\n",
    "print(\"\\nScaled values:\")\n",
    "print(scaled_df)\n",
    "print(\"\\nInverse scaled values:\")\n",
    "print(original_df)\n",
    "\n",
    "# Verify the scaling worked correctly\n",
    "np.testing.assert_array_almost_equal(\n",
    "    static[attributes].values,\n",
    "    original_df[attributes].values\n",
    ")\n",
    "print(\"\\nVerification passed: Original and inverse-scaled values match!\")"
   ]
  },
  {
   "cell_type": "code",
   "execution_count": null,
   "metadata": {},
   "outputs": [],
   "source": []
  },
  {
   "cell_type": "markdown",
   "metadata": {},
   "source": [
    "## Wrap the data in a PyTorch dataset"
   ]
  },
  {
   "cell_type": "code",
   "execution_count": null,
   "metadata": {},
   "outputs": [],
   "source": [
    "# Create dataset\n",
    "dataset = HydroDataset(\n",
    "    time_series_df=camels.get_time_series(),\n",
    "    static_df=camels.get_static_attributes(),\n",
    "    input_length=365,\n",
    "    output_length=5,\n",
    "    features=[\"discharge_spec(mm/d)\", \"precipitation(mm/d)\", \"temperature_mean(degC)\"],\n",
    "    target=\"discharge_spec(mm/d)\",\n",
    "    static_features=[\"elev_mean\", \"slope_mean\"],\n",
    ")\n",
    "\n",
    "# Test dataset\n",
    "print(f\"Dataset size: {len(dataset)}\")\n",
    "sample = dataset[0]\n",
    "print(\"\\nSample shapes:\")\n",
    "print(f\"X: {sample['X'].shape}\")\n",
    "print(f\"y: {sample['y'].shape}\")\n",
    "print(f\"static: {sample['static'].shape}\")\n",
    "print(f\"gauge_id: {sample['gauge_id']}\")"
   ]
  },
  {
   "cell_type": "code",
   "execution_count": null,
   "metadata": {},
   "outputs": [],
   "source": [
    "sample['static']"
   ]
  },
  {
   "cell_type": "markdown",
   "metadata": {},
   "source": [
    "## Make the dataset iterable by creating a DataLoader"
   ]
  },
  {
   "cell_type": "code",
   "execution_count": null,
   "metadata": {},
   "outputs": [],
   "source": []
  },
  {
   "cell_type": "code",
   "execution_count": null,
   "metadata": {},
   "outputs": [],
   "source": []
  }
 ],
 "metadata": {
  "kernelspec": {
   "display_name": ".venv",
   "language": "python",
   "name": "python3"
  },
  "language_info": {
   "codemirror_mode": {
    "name": "ipython",
    "version": 3
   },
   "file_extension": ".py",
   "mimetype": "text/x-python",
   "name": "python",
   "nbconvert_exporter": "python",
   "pygments_lexer": "ipython3",
   "version": "3.12.8"
  }
 },
 "nbformat": 4,
 "nbformat_minor": 2
}
