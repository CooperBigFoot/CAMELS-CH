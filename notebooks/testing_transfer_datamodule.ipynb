{
 "cells": [
  {
   "cell_type": "code",
   "execution_count": 1,
   "metadata": {},
   "outputs": [],
   "source": [
    "import sys\n",
    "from pathlib import Path\n",
    "sys.path.append(str(Path().absolute().parent))\n",
    "import time"
   ]
  },
  {
   "cell_type": "code",
   "execution_count": 2,
   "metadata": {},
   "outputs": [],
   "source": [
    "from pytorch_lightning.callbacks import (\n",
    "    ModelCheckpoint,\n",
    "    EarlyStopping,\n",
    "    LearningRateMonitor,\n",
    ")\n",
    "import torch\n",
    "from torch.nn import MSELoss\n",
    "from torch.optim import Adam\n",
    "import matplotlib.pyplot as plt\n",
    "import numpy as np\n",
    "\n",
    "import matplotlib.pyplot as plt\n",
    "import seaborn as sns\n",
    "\n",
    "import pandas as pd\n",
    "import glob\n",
    "from pathlib import Path\n",
    "\n",
    "from src.data_models.camels_ch import CamelsCH, CamelsCHConfig, get_all_gauge_ids\n",
    "from src.data_models.dataset import HydroDataset\n",
    "from src.data_models.preprocessing import (\n",
    "    scale_time_series,\n",
    "    scale_static_attributes,\n",
    "    inverse_scale_static_attributes,\n",
    "    inverse_scale_time_series,\n",
    ")\n",
    "from src.data_models.caravanify import Caravanify, CaravanifyConfig\n",
    "\n",
    "from utils.metrics import nash_sutcliffe_efficiency\n",
    "from src.data_models.datamodule import HydroTransferDataModule, HydroDataModule\n",
    "\n",
    "from sklearn.pipeline import Pipeline\n",
    "from sklearn.compose import ColumnTransformer\n",
    "from sklearn.preprocessing import StandardScaler\n",
    "\n",
    "from src.preprocessing.transformers import GroupedTransformer, LogTransformer"
   ]
  },
  {
   "cell_type": "code",
   "execution_count": 3,
   "metadata": {},
   "outputs": [],
   "source": [
    "from src.models.lstm import LitLSTM\n",
    "from src.models.ealstm import LitEALSTM\n",
    "from src.models.TSMixer import LitTSMixer, TSMixerConfig\n",
    "from src.models.TSMixerDomainAdaptation import LitTSMixerDomainAdaptation\n",
    "from src.models.evaluators import TSForecastEvaluator\n",
    "from torch.optim import Adam\n",
    "from torch.nn import MSELoss"
   ]
  },
  {
   "cell_type": "markdown",
   "metadata": {},
   "source": [
    "---"
   ]
  },
  {
   "cell_type": "markdown",
   "metadata": {},
   "source": [
    "## Central Asia"
   ]
  },
  {
   "cell_type": "code",
   "execution_count": 4,
   "metadata": {},
   "outputs": [
    {
     "name": "stdout",
     "output_type": "stream",
     "text": [
      "Total number of stations: 3\n"
     ]
    }
   ],
   "source": [
    "# Configuration for loading Central Asian (CA) hydrology data\n",
    "CA_config = CaravanifyConfig(\n",
    "    attributes_dir=\"/Users/cooper/Desktop/CAMELS-CH/data/CARAVANIFY/CA/post_processed/attributes\",\n",
    "    timeseries_dir=\"/Users/cooper/Desktop/CAMELS-CH/data/CARAVANIFY/CA/post_processed/timeseries/csv\",\n",
    "    gauge_id_prefix=\"CA\",\n",
    "    use_hydroatlas_attributes=True,\n",
    "    use_caravan_attributes=True,\n",
    "    use_other_attributes=True,\n",
    ")\n",
    "\n",
    "# Initialize Caravan data loader and load first 3 stations for training\n",
    "CA_caravan = Caravanify(CA_config)\n",
    "ids_for_training = CA_caravan.get_all_gauge_ids()[:3]\n",
    "print(f\"Total number of stations: {len(ids_for_training)}\")\n",
    "CA_caravan.load_stations(ids_for_training)\n",
    "\n",
    "# Get time series and static data\n",
    "CA_ts_data = CA_caravan.get_time_series()\n",
    "CA_static_data = CA_caravan.get_static_attributes()\n",
    "\n",
    "# Process time series data\n",
    "CA_ts_data[\"date\"] = pd.to_datetime(CA_ts_data[\"date\"])\n",
    "CA_ts_data[\"julian_day\"] = CA_ts_data[\"date\"].dt.dayofyear\n",
    "\n",
    "# Select relevant time series features\n",
    "ts_columns = [\"streamflow\", \"total_precipitation_sum\"]\n",
    "CA_ts_data = CA_ts_data[ts_columns + [\"gauge_id\", \"date\"]]\n",
    "\n",
    "# Select relevant static features that characterize catchment properties\n",
    "static_columns = [\n",
    "    \"gauge_id\", \"p_mean\", \"area\", \"ele_mt_sav\", \"high_prec_dur\",\n",
    "    \"frac_snow\", \"high_prec_freq\", \"slp_dg_sav\", \"cly_pc_sav\",\n",
    "    \"aridity_ERA5_LAND\", \"aridity_FAO_PM\"\n",
    "]\n",
    "CA_static_data = CA_static_data[static_columns]\n",
    "\n",
    "# Separate features from target variable\n",
    "features = [col for col in CA_ts_data.columns if col not in [\"gauge_id\", \"date\", \"streamflow\"]]\n",
    "ts_columns = features + [\"streamflow\"]\n",
    "\n",
    "feature_pipeline = Pipeline([\n",
    "    (\"log\", LogTransformer()), \n",
    "    (\"scaler\", StandardScaler())\n",
    "])\n",
    "\n",
    "target_pipeline = GroupedTransformer(\n",
    "    Pipeline([(\"log\", LogTransformer()), (\"scaler\", StandardScaler())]),\n",
    "    columns=[\"streamflow\"],\n",
    "    group_identifier=\"gauge_id\",\n",
    ")\n",
    "\n",
    "static_pipeline = Pipeline([(\"scaler\", StandardScaler())])\n",
    "\n",
    "preprocessing_configs = {\n",
    "    \"features\": {\"pipeline\": feature_pipeline},\n",
    "    \"target\": {\"pipeline\": target_pipeline},\n",
    "    \"static_features\": {\"pipeline\": static_pipeline},\n",
    "}"
   ]
  },
  {
   "cell_type": "code",
   "execution_count": 5,
   "metadata": {},
   "outputs": [
    {
     "name": "stdout",
     "output_type": "stream",
     "text": [
      "Original basins: 3\n",
      "Retained basins: 2\n",
      "Domain target: Created 13284 valid sequences from 2 catchments\n",
      "Domain target: Created 652 valid sequences from 2 catchments\n",
      "Domain target: Created 2114 valid sequences from 2 catchments\n"
     ]
    },
    {
     "name": "stderr",
     "output_type": "stream",
     "text": [
      "/Users/cooper/Desktop/CAMELS-CH/src/data_models/datamodule.py:354: SettingWithCopyWarning: \n",
      "A value is trying to be set on a copy of a slice from a DataFrame.\n",
      "Try using .loc[row_indexer,col_indexer] = value instead\n",
      "\n",
      "See the caveats in the documentation: https://pandas.pydata.org/pandas-docs/stable/user_guide/indexing.html#returning-a-view-versus-a-copy\n",
      "  self.processed_static[col] = transformed[:, i]\n"
     ]
    }
   ],
   "source": [
    "batch_size = 3\n",
    "output_length = 10\n",
    "input_length = 30\n",
    "hidden_size = 15\n",
    "\n",
    "# Create data module with the trial's batch size and input length\n",
    "CA_data_module = HydroDataModule(\n",
    "    time_series_df=CA_ts_data,\n",
    "    static_df=CA_static_data,\n",
    "    group_identifier=\"gauge_id\",\n",
    "    preprocessing_config=preprocessing_configs,\n",
    "    batch_size=batch_size,  # Use trial's batch size\n",
    "    input_length=input_length,  # Use trial's input length\n",
    "    output_length=output_length,\n",
    "    num_workers=4,\n",
    "    features=ts_columns,\n",
    "    static_features=static_columns,\n",
    "    target=\"streamflow\",\n",
    "    min_train_years=2,\n",
    "    val_years=1,\n",
    "    test_years=3,\n",
    "    max_missing_pct=10,\n",
    "    domain_id=\"target\",\n",
    ")\n",
    "\n",
    "CA_data_module.prepare_data()\n",
    "CA_data_module.setup()"
   ]
  },
  {
   "cell_type": "markdown",
   "metadata": {},
   "source": [
    "## Switzerland "
   ]
  },
  {
   "cell_type": "code",
   "execution_count": 6,
   "metadata": {},
   "outputs": [
    {
     "name": "stdout",
     "output_type": "stream",
     "text": [
      "Total number of stations: 3\n"
     ]
    }
   ],
   "source": [
    "# Configuration for loading Central Asian (CA) hydrology data\n",
    "CH_config = CaravanifyConfig(\n",
    "    attributes_dir=\"/Users/cooper/Desktop/CAMELS-CH/data/CARAVANIFY/CH/post_processed/attributes\",\n",
    "    timeseries_dir=\"/Users/cooper/Desktop/CAMELS-CH/data/CARAVANIFY/CH/post_processed/timeseries/csv\",\n",
    "    gauge_id_prefix=\"CH\",\n",
    "    use_hydroatlas_attributes=True,\n",
    "    use_caravan_attributes=True,\n",
    "    use_other_attributes=True,\n",
    ")\n",
    "\n",
    "# Initialize Caravan data loader and load first 3 stations for training\n",
    "CH_caravan = Caravanify(CH_config)\n",
    "ids_for_training = CH_caravan.get_all_gauge_ids()[:3]\n",
    "print(f\"Total number of stations: {len(ids_for_training)}\")\n",
    "CH_caravan.load_stations(ids_for_training)\n",
    "\n",
    "# Get time series and static data\n",
    "CH_ts_data = CH_caravan.get_time_series()\n",
    "CH_static_data = CH_caravan.get_static_attributes()\n",
    "\n",
    "# Process time series data\n",
    "CH_ts_data[\"date\"] = pd.to_datetime(CH_ts_data[\"date\"])\n",
    "CH_ts_data[\"julian_day\"] = CH_ts_data[\"date\"].dt.dayofyear\n",
    "\n",
    "# Select relevant time series features\n",
    "ts_columns = [\"streamflow\", \"total_precipitation_sum\"]\n",
    "CH_ts_data = CH_ts_data[ts_columns + [\"gauge_id\", \"date\"]]\n",
    "\n",
    "# Select relevant static features that characterize catchment properties\n",
    "static_columns = [\n",
    "    \"gauge_id\", \"p_mean\", \"area\", \"ele_mt_sav\", \"high_prec_dur\",\n",
    "    \"frac_snow\", \"high_prec_freq\", \"slp_dg_sav\", \"cly_pc_sav\",\n",
    "    \"aridity_ERA5_LAND\", \"aridity_FAO_PM\"\n",
    "]\n",
    "CH_static_data = CH_static_data[static_columns]\n",
    "\n",
    "# Separate features from target variable\n",
    "features = [col for col in CH_ts_data.columns if col not in [\n",
    "    \"gauge_id\", \"date\", \"streamflow\"]]\n",
    "ts_columns = features + [\"streamflow\"]\n",
    "\n",
    "# Define preprocessing pipelines:\n",
    "# 1. Feature pipeline: Log transform followed by standardization\n",
    "feature_pipeline = Pipeline([\n",
    "    (\"log\", LogTransformer()),\n",
    "    (\"scaler\", StandardScaler())\n",
    "])\n",
    "\n",
    "# 2. Target pipeline: Log transform and standardization per catchment\n",
    "target_pipeline = GroupedTransformer(\n",
    "    Pipeline([(\"log\", LogTransformer()), (\"scaler\", StandardScaler())]),\n",
    "    columns=[\"streamflow\"],\n",
    "    group_identifier=\"gauge_id\",\n",
    ")\n",
    "\n",
    "# 3. Static feature pipeline: Only standardization needed\n",
    "static_pipeline = Pipeline([(\"scaler\", StandardScaler())])\n",
    "\n",
    "# Combine all preprocessing configurations\n",
    "preprocessing_configs = {\n",
    "    \"features\": {\"pipeline\": feature_pipeline},\n",
    "    \"target\": {\"pipeline\": target_pipeline},\n",
    "    \"static_features\": {\"pipeline\": static_pipeline},\n",
    "}"
   ]
  },
  {
   "cell_type": "code",
   "execution_count": 7,
   "metadata": {},
   "outputs": [
    {
     "name": "stdout",
     "output_type": "stream",
     "text": [
      "Original basins: 3\n",
      "Retained basins: 3\n",
      "Domain source: Created 39327 valid sequences from 3 catchments\n",
      "Domain source: Created 978 valid sequences from 3 catchments\n",
      "Domain source: Created 3171 valid sequences from 3 catchments\n"
     ]
    }
   ],
   "source": [
    "CH_data_module = HydroDataModule(\n",
    "    time_series_df=CH_ts_data,\n",
    "    static_df=CH_static_data,\n",
    "    group_identifier=\"gauge_id\",\n",
    "    preprocessing_config=preprocessing_configs,\n",
    "    batch_size=batch_size,  # Use trial's batch size\n",
    "    input_length=input_length,  # Use trial's input length\n",
    "    output_length=output_length,\n",
    "    num_workers=4,\n",
    "    features=ts_columns,\n",
    "    static_features=static_columns,\n",
    "    target=\"streamflow\",\n",
    "    min_train_years=2,\n",
    "    val_years=1,\n",
    "    test_years=3,\n",
    "    max_missing_pct=10,\n",
    "    domain_id=\"source\",\n",
    ")\n",
    "\n",
    "CH_data_module.prepare_data()\n",
    "CH_data_module.setup()\n",
    "\n"
   ]
  },
  {
   "cell_type": "markdown",
   "metadata": {},
   "source": [
    "## Testing combined DataModule"
   ]
  },
  {
   "cell_type": "code",
   "execution_count": 8,
   "metadata": {},
   "outputs": [
    {
     "name": "stdout",
     "output_type": "stream",
     "text": [
      "\n",
      "Mixed Batch 0:\n",
      "X shape: torch.Size([3, 30, 2])\n",
      "y shape: torch.Size([3, 10])\n",
      "static shape: torch.Size([3, 10])\n",
      "domain_id shape: torch.Size([3, 1])\n",
      "Slice indeces: [tensor([4867,  332, 9930]), tensor([4868,  333, 9931]), tensor([ 6210, 33155, 25791]), tensor([ 6211, 33156, 25792]), tensor([ 6212, 33157, 25793]), tensor([ 6213, 33158, 25794]), tensor([ 6214, 33159, 25795]), tensor([ 6215, 33160, 25796]), tensor([ 6216, 33161, 25797]), tensor([ 6217, 33162, 25798]), tensor([ 6218, 33163, 25799]), tensor([ 6219, 33164, 25800]), tensor([ 6220, 33165, 25801]), tensor([ 6221, 33166, 25802]), tensor([ 6222, 33167, 25803]), tensor([ 6223, 33168, 25804]), tensor([ 6224, 33169, 25805]), tensor([ 6225, 33170, 25806]), tensor([ 6226, 33171, 25807]), tensor([ 6227, 33172, 25808]), tensor([ 6228, 33173, 25809]), tensor([ 6229, 33174, 25810]), tensor([ 6230, 33175, 25811]), tensor([ 6231, 33176, 25812]), tensor([ 6232, 33177, 25813]), tensor([ 6233, 33178, 25814]), tensor([ 6234, 33179, 25815]), tensor([ 6235, 33180, 25816]), tensor([ 6236, 33181, 25817]), tensor([ 6237, 33182, 25818]), tensor([ 6238, 33183, 25819]), tensor([ 6239, 33184, 25820]), tensor([ 6240, 33185, 25821]), tensor([ 6241, 33186, 25822]), tensor([ 6242, 33187, 25823]), tensor([ 6243, 33188, 25824]), tensor([ 6244, 33189, 25825]), tensor([ 6245, 33190, 25826]), tensor([ 6246, 33191, 25827]), tensor([ 6247, 33192, 25828])]\n",
      "Distribution:\n",
      "- Source (CH): 1 samples\n",
      "- Target (CA): 2 samples\n",
      "- Total: 3 samples\n",
      "Domain IDs: [tensor([1.]), tensor([1.]), tensor([0.])]\n",
      "\n",
      "Mixed Batch 1:\n",
      "X shape: torch.Size([3, 30, 2])\n",
      "y shape: torch.Size([3, 10])\n",
      "static shape: torch.Size([3, 10])\n",
      "domain_id shape: torch.Size([3, 1])\n",
      "Slice indeces: [tensor([13169,  2494, 13560]), tensor([13170,  2495, 13561]), tensor([12708,   509, 33081]), tensor([12709,   510, 33082]), tensor([12710,   511, 33083]), tensor([12711,   512, 33084]), tensor([12712,   513, 33085]), tensor([12713,   514, 33086]), tensor([12714,   515, 33087]), tensor([12715,   516, 33088]), tensor([12716,   517, 33089]), tensor([12717,   518, 33090]), tensor([12718,   519, 33091]), tensor([12719,   520, 33092]), tensor([12720,   521, 33093]), tensor([12721,   522, 33094]), tensor([12722,   523, 33095]), tensor([12723,   524, 33096]), tensor([12724,   525, 33097]), tensor([12725,   526, 33098]), tensor([12726,   527, 33099]), tensor([12727,   528, 33100]), tensor([12728,   529, 33101]), tensor([12729,   530, 33102]), tensor([12730,   531, 33103]), tensor([12731,   532, 33104]), tensor([12732,   533, 33105]), tensor([12733,   534, 33106]), tensor([12734,   535, 33107]), tensor([12735,   536, 33108]), tensor([12736,   537, 33109]), tensor([12737,   538, 33110]), tensor([12738,   539, 33111]), tensor([12739,   540, 33112]), tensor([12740,   541, 33113]), tensor([12741,   542, 33114]), tensor([12742,   543, 33115]), tensor([12743,   544, 33116]), tensor([12744,   545, 33117]), tensor([12745,   546, 33118])]\n",
      "Distribution:\n",
      "- Source (CH): 1 samples\n",
      "- Target (CA): 2 samples\n",
      "- Total: 3 samples\n",
      "Domain IDs: [tensor([1.]), tensor([1.]), tensor([0.])]\n",
      "\n",
      "Mixed Batch 2:\n",
      "X shape: torch.Size([3, 30, 2])\n",
      "y shape: torch.Size([3, 10])\n",
      "static shape: torch.Size([3, 10])\n",
      "domain_id shape: torch.Size([3, 1])\n",
      "Slice indeces: [tensor([2743, 7103, 8603]), tensor([2744, 7104, 8604]), tensor([ 3913, 36098, 17819]), tensor([ 3914, 36099, 17820]), tensor([ 3915, 36100, 17821]), tensor([ 3916, 36101, 17822]), tensor([ 3917, 36102, 17823]), tensor([ 3918, 36103, 17824]), tensor([ 3919, 36104, 17825]), tensor([ 3920, 36105, 17826]), tensor([ 3921, 36106, 17827]), tensor([ 3922, 36107, 17828]), tensor([ 3923, 36108, 17829]), tensor([ 3924, 36109, 17830]), tensor([ 3925, 36110, 17831]), tensor([ 3926, 36111, 17832]), tensor([ 3927, 36112, 17833]), tensor([ 3928, 36113, 17834]), tensor([ 3929, 36114, 17835]), tensor([ 3930, 36115, 17836]), tensor([ 3931, 36116, 17837]), tensor([ 3932, 36117, 17838]), tensor([ 3933, 36118, 17839]), tensor([ 3934, 36119, 17840]), tensor([ 3935, 36120, 17841]), tensor([ 3936, 36121, 17842]), tensor([ 3937, 36122, 17843]), tensor([ 3938, 36123, 17844]), tensor([ 3939, 36124, 17845]), tensor([ 3940, 36125, 17846]), tensor([ 3941, 36126, 17847]), tensor([ 3942, 36127, 17848]), tensor([ 3943, 36128, 17849]), tensor([ 3944, 36129, 17850]), tensor([ 3945, 36130, 17851]), tensor([ 3946, 36131, 17852]), tensor([ 3947, 36132, 17853]), tensor([ 3948, 36133, 17854]), tensor([ 3949, 36134, 17855]), tensor([ 3950, 36135, 17856])]\n",
      "Distribution:\n",
      "- Source (CH): 1 samples\n",
      "- Target (CA): 2 samples\n",
      "- Total: 3 samples\n",
      "Domain IDs: [tensor([1.]), tensor([1.]), tensor([0.])]\n",
      "\n",
      "Mixed Batch 3:\n",
      "X shape: torch.Size([3, 30, 2])\n",
      "y shape: torch.Size([3, 10])\n",
      "static shape: torch.Size([3, 10])\n",
      "domain_id shape: torch.Size([3, 1])\n",
      "Slice indeces: [tensor([1806, 1961, 1529]), tensor([1807, 1962, 1530]), tensor([ 5718, 37255,  2144]), tensor([ 5719, 37256,  2145]), tensor([ 5720, 37257,  2146]), tensor([ 5721, 37258,  2147]), tensor([ 5722, 37259,  2148]), tensor([ 5723, 37260,  2149]), tensor([ 5724, 37261,  2150]), tensor([ 5725, 37262,  2151]), tensor([ 5726, 37263,  2152]), tensor([ 5727, 37264,  2153]), tensor([ 5728, 37265,  2154]), tensor([ 5729, 37266,  2155]), tensor([ 5730, 37267,  2156]), tensor([ 5731, 37268,  2157]), tensor([ 5732, 37269,  2158]), tensor([ 5733, 37270,  2159]), tensor([ 5734, 37271,  2160]), tensor([ 5735, 37272,  2161]), tensor([ 5736, 37273,  2162]), tensor([ 5737, 37274,  2163]), tensor([ 5738, 37275,  2164]), tensor([ 5739, 37276,  2165]), tensor([ 5740, 37277,  2166]), tensor([ 5741, 37278,  2167]), tensor([ 5742, 37279,  2168]), tensor([ 5743, 37280,  2169]), tensor([ 5744, 37281,  2170]), tensor([ 5745, 37282,  2171]), tensor([ 5746, 37283,  2172]), tensor([ 5747, 37284,  2173]), tensor([ 5748, 37285,  2174]), tensor([ 5749, 37286,  2175]), tensor([ 5750, 37287,  2176]), tensor([ 5751, 37288,  2177]), tensor([ 5752, 37289,  2178]), tensor([ 5753, 37290,  2179]), tensor([ 5754, 37291,  2180]), tensor([ 5755, 37292,  2181])]\n",
      "Distribution:\n",
      "- Source (CH): 1 samples\n",
      "- Target (CA): 2 samples\n",
      "- Total: 3 samples\n",
      "Domain IDs: [tensor([1.]), tensor([1.]), tensor([0.])]\n",
      "\n",
      "Mixed Batch 4:\n",
      "X shape: torch.Size([3, 30, 2])\n",
      "y shape: torch.Size([3, 10])\n",
      "static shape: torch.Size([3, 10])\n",
      "domain_id shape: torch.Size([3, 1])\n",
      "Slice indeces: [tensor([ 6208, 33153, 25789]), tensor([ 6209, 33154, 25790]), tensor([4869,  334, 9932]), tensor([4870,  335, 9933]), tensor([4871,  336, 9934]), tensor([4872,  337, 9935]), tensor([4873,  338, 9936]), tensor([4874,  339, 9937]), tensor([4875,  340, 9938]), tensor([4876,  341, 9939]), tensor([4877,  342, 9940]), tensor([4878,  343, 9941]), tensor([4879,  344, 9942]), tensor([4880,  345, 9943]), tensor([4881,  346, 9944]), tensor([4882,  347, 9945]), tensor([4883,  348, 9946]), tensor([4884,  349, 9947]), tensor([4885,  350, 9948]), tensor([4886,  351, 9949]), tensor([4887,  352, 9950]), tensor([4888,  353, 9951]), tensor([4889,  354, 9952]), tensor([4890,  355, 9953]), tensor([4891,  356, 9954]), tensor([4892,  357, 9955]), tensor([4893,  358, 9956]), tensor([4894,  359, 9957]), tensor([4895,  360, 9958]), tensor([4896,  361, 9959]), tensor([4897,  362, 9960]), tensor([4898,  363, 9961]), tensor([4899,  364, 9962]), tensor([4900,  365, 9963]), tensor([4901,  366, 9964]), tensor([4902,  367, 9965]), tensor([4903,  368, 9966]), tensor([4904,  369, 9967]), tensor([4905,  370, 9968]), tensor([4906,  371, 9969])]\n",
      "Distribution:\n",
      "- Source (CH): 2 samples\n",
      "- Target (CA): 1 samples\n",
      "- Total: 3 samples\n",
      "Domain IDs: [tensor([0.]), tensor([0.]), tensor([1.])]\n",
      "\n",
      "Mixed Batch 5:\n",
      "X shape: torch.Size([3, 30, 2])\n",
      "y shape: torch.Size([3, 10])\n",
      "static shape: torch.Size([3, 10])\n",
      "domain_id shape: torch.Size([3, 1])\n",
      "Slice indeces: [tensor([12706,   507, 33079]), tensor([12707,   508, 33080]), tensor([13171,  2496, 13562]), tensor([13172,  2497, 13563]), tensor([13173,  2498, 13564]), tensor([13174,  2499, 13565]), tensor([13175,  2500, 13566]), tensor([13176,  2501, 13567]), tensor([13177,  2502, 13568]), tensor([13178,  2503, 13569]), tensor([13179,  2504, 13570]), tensor([13180,  2505, 13571]), tensor([13181,  2506, 13572]), tensor([13182,  2507, 13573]), tensor([13183,  2508, 13574]), tensor([13184,  2509, 13575]), tensor([13185,  2510, 13576]), tensor([13186,  2511, 13577]), tensor([13187,  2512, 13578]), tensor([13188,  2513, 13579]), tensor([13189,  2514, 13580]), tensor([13190,  2515, 13581]), tensor([13191,  2516, 13582]), tensor([13192,  2517, 13583]), tensor([13193,  2518, 13584]), tensor([13194,  2519, 13585]), tensor([13195,  2520, 13586]), tensor([13196,  2521, 13587]), tensor([13197,  2522, 13588]), tensor([13198,  2523, 13589]), tensor([13199,  2524, 13590]), tensor([13200,  2525, 13591]), tensor([13201,  2526, 13592]), tensor([13202,  2527, 13593]), tensor([13203,  2528, 13594]), tensor([13204,  2529, 13595]), tensor([13205,  2530, 13596]), tensor([13206,  2531, 13597]), tensor([13207,  2532, 13598]), tensor([13208,  2533, 13599])]\n",
      "Distribution:\n",
      "- Source (CH): 2 samples\n",
      "- Target (CA): 1 samples\n",
      "- Total: 3 samples\n",
      "Domain IDs: [tensor([0.]), tensor([0.]), tensor([1.])]\n"
     ]
    }
   ],
   "source": [
    "# Create transfer datamodule\n",
    "transfer_dm = HydroTransferDataModule(\n",
    "    source_datamodule=CA_data_module,\n",
    "    target_datamodule=CH_data_module,\n",
    "    num_workers=4\n",
    ")\n",
    "\n",
    "# Setup and get training loader\n",
    "transfer_dm.setup(\"fit\")\n",
    "train_loader = transfer_dm.train_dataloader()\n",
    "\n",
    "for i, batch in enumerate(train_loader):\n",
    "    if i >= 6:  # Look at first 6 batches\n",
    "        break\n",
    "    print(f\"\\nMixed Batch {i}:\")\n",
    "    print(f\"X shape: {batch['X'].shape}\")\n",
    "    print(f\"y shape: {batch['y'].shape}\")\n",
    "    print(f\"static shape: {batch['static'].shape}\")\n",
    "    print(f\"domain_id shape: {batch['domain_id'].shape}\")\n",
    "\n",
    "    print(f\"Slice indeces: {batch['slice_idx']}\")\n",
    "\n",
    "    # Count samples from each domain using float tensor comparison\n",
    "    source_samples = (batch['domain_id'] == 0.0).sum().item()\n",
    "    target_samples = (batch['domain_id'] == 1.0).sum().item()\n",
    "\n",
    "    print(f\"Distribution:\")\n",
    "    print(f\"- Source (CH): {source_samples} samples\")\n",
    "    print(f\"- Target (CA): {target_samples} samples\")\n",
    "    print(f\"- Total: {source_samples + target_samples} samples\")\n",
    "\n",
    "    # Print domain IDs\n",
    "    print(f\"Domain IDs: {list(batch['domain_id'])}\")\n",
    "\n",
    "    "
   ]
  },
  {
   "cell_type": "code",
   "execution_count": 9,
   "metadata": {},
   "outputs": [
    {
     "name": "stderr",
     "output_type": "stream",
     "text": [
      "GPU available: True (mps), used: False\n",
      "TPU available: False, using: 0 TPU cores\n",
      "HPU available: False, using: 0 HPUs\n",
      "/Users/cooper/Desktop/CAMELS-CH/.venv/lib/python3.12/site-packages/pytorch_lightning/trainer/setup.py:177: GPU available but not used. You can set it by doing `Trainer(accelerator='gpu')`.\n",
      "\n",
      "  | Name                 | Type                | Params | Mode \n",
      "---------------------------------------------------------------------\n",
      "0 | model                | TSMixer             | 39.6 K | train\n",
      "1 | mse_criterion        | MSELoss             | 0      | train\n",
      "2 | domain_discriminator | DomainDiscriminator | 126 K  | train\n",
      "3 | domain_criterion     | BCELoss             | 0      | train\n",
      "---------------------------------------------------------------------\n",
      "166 K     Trainable params\n",
      "0         Non-trainable params\n",
      "166 K     Total params\n",
      "0.666     Total estimated model params size (MB)\n",
      "50        Modules in train mode\n",
      "0         Modules in eval mode\n"
     ]
    },
    {
     "data": {
      "application/vnd.jupyter.widget-view+json": {
       "model_id": "5afa4bbfe2a744b6bfa283daff7c3d49",
       "version_major": 2,
       "version_minor": 0
      },
      "text/plain": [
       "Sanity Checking: |          | 0/? [00:00<?, ?it/s]"
      ]
     },
     "metadata": {},
     "output_type": "display_data"
    },
    {
     "name": "stderr",
     "output_type": "stream",
     "text": [
      "/Users/cooper/Desktop/CAMELS-CH/.venv/lib/python3.12/site-packages/pytorch_lightning/utilities/data.py:123: Your `IterableDataset` has `__len__` defined. In combination with multi-process data loading (when num_workers > 1), `__len__` could be inaccurate if each worker is not configured independently to avoid having duplicate data.\n",
      "/Users/cooper/Desktop/CAMELS-CH/.venv/lib/python3.12/site-packages/pytorch_lightning/utilities/data.py:79: Trying to infer the `batch_size` from an ambiguous collection. The batch size we found is 3. To avoid any miscalculations, use `self.log(..., batch_size=batch_size)`.\n"
     ]
    },
    {
     "data": {
      "application/vnd.jupyter.widget-view+json": {
       "model_id": "b1ee14ad29bc40049432f085ced99139",
       "version_major": 2,
       "version_minor": 0
      },
      "text/plain": [
       "Training: |          | 0/? [00:00<?, ?it/s]"
      ]
     },
     "metadata": {},
     "output_type": "display_data"
    },
    {
     "data": {
      "application/vnd.jupyter.widget-view+json": {
       "model_id": "9179aa953dfc4fb3b18fc44b70ce19ec",
       "version_major": 2,
       "version_minor": 0
      },
      "text/plain": [
       "Validation: |          | 0/? [00:00<?, ?it/s]"
      ]
     },
     "metadata": {},
     "output_type": "display_data"
    },
    {
     "name": "stderr",
     "output_type": "stream",
     "text": [
      "`Trainer.fit` stopped: `max_epochs=1` reached.\n"
     ]
    }
   ],
   "source": [
    "import pytorch_lightning as pl\n",
    "from pytorch_lightning.callbacks import EarlyStopping\n",
    "\n",
    "# 1. Initialize the model with domain adaptation\n",
    "model = LitTSMixerDomainAdaptation(\n",
    "    config=TSMixerConfig(\n",
    "        input_len=input_length,\n",
    "        output_len=output_length,\n",
    "        input_size=2,\n",
    "        static_size=10,\n",
    "        hidden_size=hidden_size\n",
    "    ),\n",
    "    lambda_adv=1.0,\n",
    "    domain_loss_weight=0.5,\n",
    "    group_identifier=\"gauge_id\",\n",
    ")\n",
    "\n",
    "trainer = pl.Trainer(\n",
    "    max_epochs=1,\n",
    "    accelerator=\"cpu\",\n",
    "    devices=1,\n",
    "    callbacks=[EarlyStopping(monitor=\"val_loss\", patience=3)],\n",
    "    enable_progress_bar=True\n",
    ")\n",
    "\n",
    "trainer.fit(model, transfer_dm)"
   ]
  },
  {
   "cell_type": "code",
   "execution_count": 10,
   "metadata": {},
   "outputs": [
    {
     "name": "stdout",
     "output_type": "stream",
     "text": [
      "Original basins: 3\n",
      "Retained basins: 2\n",
      "Domain target: Created 2114 valid sequences from 2 catchments\n"
     ]
    },
    {
     "name": "stderr",
     "output_type": "stream",
     "text": [
      "/Users/cooper/Desktop/CAMELS-CH/src/data_models/datamodule.py:354: SettingWithCopyWarning: \n",
      "A value is trying to be set on a copy of a slice from a DataFrame.\n",
      "Try using .loc[row_indexer,col_indexer] = value instead\n",
      "\n",
      "See the caveats in the documentation: https://pandas.pydata.org/pandas-docs/stable/user_guide/indexing.html#returning-a-view-versus-a-copy\n",
      "  self.processed_static[col] = transformed[:, i]\n"
     ]
    },
    {
     "data": {
      "application/vnd.jupyter.widget-view+json": {
       "model_id": "1a59eda3d9ba4c0cb81f3725f64533cb",
       "version_major": 2,
       "version_minor": 0
      },
      "text/plain": [
       "Testing: |          | 0/? [00:00<?, ?it/s]"
      ]
     },
     "metadata": {},
     "output_type": "display_data"
    },
    {
     "name": "stderr",
     "output_type": "stream",
     "text": [
      "/Users/cooper/Desktop/CAMELS-CH/.venv/lib/python3.12/site-packages/pytorch_lightning/utilities/data.py:79: Trying to infer the `batch_size` from an ambiguous collection. The batch size we found is 2. To avoid any miscalculations, use `self.log(..., batch_size=batch_size)`.\n"
     ]
    },
    {
     "name": "stdout",
     "output_type": "stream",
     "text": [
      "────────────────────────────────────────────────────────────────────────────────────────────────────────────────────────\n",
      "       Test metric             DataLoader 0\n",
      "────────────────────────────────────────────────────────────────────────────────────────────────────────────────────────\n",
      "        test_loss           0.16808149218559265\n",
      "────────────────────────────────────────────────────────────────────────────────────────────────────────────────────────\n"
     ]
    }
   ],
   "source": [
    "trainer.test(model, CA_data_module)\n",
    "raw_results = model.test_results\n",
    "\n",
    "# Create evaluator and get metrics\n",
    "evaluator = TSForecastEvaluator(\n",
    "    CA_data_module, horizons=list(range(1, model.config.output_len + 1))\n",
    ")\n",
    "results_df, overall_metrics, basin_metrics = evaluator.evaluate(raw_results)\n",
    "\n",
    "# Get overall summary\n",
    "overall_summary = evaluator.summarize_metrics(overall_metrics)\n",
    "\n",
    "# Get per-basin summary\n",
    "basin_summary = evaluator.summarize_metrics(basin_metrics, per_basin=True)"
   ]
  },
  {
   "cell_type": "code",
   "execution_count": 11,
   "metadata": {},
   "outputs": [
    {
     "data": {
      "image/png": "[encoded data removed]",
      "text/plain": [
       "<Figure size 1000x600 with 1 Axes>"
      ]
     },
     "metadata": {},
     "output_type": "display_data"
    },
    {
     "data": {
      "image/png": "[encoded data removed]",
      "text/plain": [
       "<Figure size 1200x600 with 1 Axes>"
      ]
     },
     "metadata": {},
     "output_type": "display_data"
    }
   ],
   "source": [
    "import matplotlib.pyplot as plt\n",
    "import seaborn as sns\n",
    "\n",
    "\n",
    "def plot_metric_summary(\n",
    "    summary_df: pd.DataFrame, metric: str, per_basin: bool = False, figsize=(10, 6)\n",
    "):\n",
    "    plt.figure(figsize=figsize)\n",
    "\n",
    "    if per_basin:\n",
    "        df_plot = summary_df[metric].unstack(level=0)\n",
    "\n",
    "        # Sort basins based on first horizon values\n",
    "        first_horizon_values = df_plot.iloc[0]\n",
    "        sorted_basins = first_horizon_values.sort_values(ascending=False).index\n",
    "        df_plot = df_plot[sorted_basins]\n",
    "\n",
    "        sns.barplot(\n",
    "            data=df_plot.melt(ignore_index=False).reset_index(),\n",
    "            x=\"horizon\",\n",
    "            y=\"value\",\n",
    "            hue=\"basin_id\",\n",
    "            palette=\"Blues\",\n",
    "        )\n",
    "        plt.title(f\"{metric} by Basin and Horizon\")\n",
    "        plt.legend(bbox_to_anchor=(1.05, 1), loc=\"upper left\", title=\"Basin ID\")\n",
    "\n",
    "    else:\n",
    "        ax = sns.barplot(x=summary_df.index, y=summary_df[metric], color=\"steelblue\")\n",
    "        plt.title(f\"Overall {metric} by Horizon\")\n",
    "\n",
    "        for i, v in enumerate(summary_df[metric]):\n",
    "            ax.text(i, v, f\"{v:.2f}\", ha=\"center\", va=\"bottom\")\n",
    "\n",
    "    plt.xlabel(\"Forecast Horizon\")\n",
    "    plt.ylabel(metric)\n",
    "    plt.tight_layout()\n",
    "    sns.despine()\n",
    "    plt.show()\n",
    "\n",
    "\n",
    "# Usage example:\n",
    "plot_metric_summary(overall_summary, \"NSE\")  # Plot overall NSE\n",
    "plot_metric_summary(\n",
    "    basin_summary, \"NSE\", per_basin=True, figsize=(12, 6)\n",
    ")  "
   ]
  },
  {
   "cell_type": "markdown",
   "metadata": {},
   "source": [
    "## Now with lambda set to 0"
   ]
  },
  {
   "cell_type": "code",
   "execution_count": 12,
   "metadata": {},
   "outputs": [
    {
     "name": "stderr",
     "output_type": "stream",
     "text": [
      "GPU available: True (mps), used: False\n",
      "TPU available: False, using: 0 TPU cores\n",
      "HPU available: False, using: 0 HPUs\n",
      "/Users/cooper/Desktop/CAMELS-CH/.venv/lib/python3.12/site-packages/pytorch_lightning/trainer/setup.py:177: GPU available but not used. You can set it by doing `Trainer(accelerator='gpu')`.\n",
      "\n",
      "  | Name                 | Type                | Params | Mode \n",
      "---------------------------------------------------------------------\n",
      "0 | model                | TSMixer             | 39.6 K | train\n",
      "1 | mse_criterion        | MSELoss             | 0      | train\n",
      "2 | domain_discriminator | DomainDiscriminator | 126 K  | train\n",
      "3 | domain_criterion     | BCELoss             | 0      | train\n",
      "---------------------------------------------------------------------\n",
      "166 K     Trainable params\n",
      "0         Non-trainable params\n",
      "166 K     Total params\n",
      "0.666     Total estimated model params size (MB)\n",
      "50        Modules in train mode\n",
      "0         Modules in eval mode\n"
     ]
    },
    {
     "data": {
      "application/vnd.jupyter.widget-view+json": {
       "model_id": "22ebb9e0366e4897ab037cb63b3f1e7b",
       "version_major": 2,
       "version_minor": 0
      },
      "text/plain": [
       "Sanity Checking: |          | 0/? [00:00<?, ?it/s]"
      ]
     },
     "metadata": {},
     "output_type": "display_data"
    },
    {
     "name": "stderr",
     "output_type": "stream",
     "text": [
      "/Users/cooper/Desktop/CAMELS-CH/.venv/lib/python3.12/site-packages/pytorch_lightning/utilities/data.py:123: Your `IterableDataset` has `__len__` defined. In combination with multi-process data loading (when num_workers > 1), `__len__` could be inaccurate if each worker is not configured independently to avoid having duplicate data.\n"
     ]
    },
    {
     "data": {
      "application/vnd.jupyter.widget-view+json": {
       "model_id": "38ceae7f20a947988b8a4885a42eca18",
       "version_major": 2,
       "version_minor": 0
      },
      "text/plain": [
       "Training: |          | 0/? [00:00<?, ?it/s]"
      ]
     },
     "metadata": {},
     "output_type": "display_data"
    },
    {
     "data": {
      "application/vnd.jupyter.widget-view+json": {
       "model_id": "48408d708b664506b276b1ebe548f3d4",
       "version_major": 2,
       "version_minor": 0
      },
      "text/plain": [
       "Validation: |          | 0/? [00:00<?, ?it/s]"
      ]
     },
     "metadata": {},
     "output_type": "display_data"
    },
    {
     "name": "stderr",
     "output_type": "stream",
     "text": [
      "`Trainer.fit` stopped: `max_epochs=1` reached.\n"
     ]
    }
   ],
   "source": [
    "import pytorch_lightning as pl\n",
    "from pytorch_lightning.callbacks import EarlyStopping\n",
    "\n",
    "# 1. Initialize the model with domain adaptation\n",
    "model = LitTSMixerDomainAdaptation(\n",
    "    config=TSMixerConfig(\n",
    "        input_len=input_length,\n",
    "        output_len=output_length,\n",
    "        input_size=2,\n",
    "        static_size=10,\n",
    "        hidden_size=hidden_size\n",
    "    ),\n",
    "    lambda_adv=0.0,\n",
    "    domain_loss_weight=0.0,\n",
    "    group_identifier=\"gauge_id\",\n",
    ")\n",
    "\n",
    "trainer = pl.Trainer(\n",
    "    max_epochs=1,\n",
    "    accelerator=\"cpu\",\n",
    "    devices=1,\n",
    "    callbacks=[EarlyStopping(monitor=\"val_loss\", patience=3)],\n",
    "    enable_progress_bar=True\n",
    ")\n",
    "\n",
    "trainer.fit(model, transfer_dm)"
   ]
  },
  {
   "cell_type": "code",
   "execution_count": 13,
   "metadata": {},
   "outputs": [
    {
     "name": "stdout",
     "output_type": "stream",
     "text": [
      "Original basins: 3\n",
      "Retained basins: 2\n",
      "Domain target: Created 2114 valid sequences from 2 catchments\n"
     ]
    },
    {
     "name": "stderr",
     "output_type": "stream",
     "text": [
      "/Users/cooper/Desktop/CAMELS-CH/src/data_models/datamodule.py:354: SettingWithCopyWarning: \n",
      "A value is trying to be set on a copy of a slice from a DataFrame.\n",
      "Try using .loc[row_indexer,col_indexer] = value instead\n",
      "\n",
      "See the caveats in the documentation: https://pandas.pydata.org/pandas-docs/stable/user_guide/indexing.html#returning-a-view-versus-a-copy\n",
      "  self.processed_static[col] = transformed[:, i]\n"
     ]
    },
    {
     "data": {
      "application/vnd.jupyter.widget-view+json": {
       "model_id": "8125292dea6947cea50e05858d5a091a",
       "version_major": 2,
       "version_minor": 0
      },
      "text/plain": [
       "Testing: |          | 0/? [00:00<?, ?it/s]"
      ]
     },
     "metadata": {},
     "output_type": "display_data"
    },
    {
     "name": "stdout",
     "output_type": "stream",
     "text": [
      "────────────────────────────────────────────────────────────────────────────────────────────────────────────────────────\n",
      "       Test metric             DataLoader 0\n",
      "────────────────────────────────────────────────────────────────────────────────────────────────────────────────────────\n",
      "        test_loss           0.14508730173110962\n",
      "────────────────────────────────────────────────────────────────────────────────────────────────────────────────────────\n"
     ]
    }
   ],
   "source": [
    "trainer.test(model, CA_data_module)\n",
    "raw_results = model.test_results\n",
    "\n",
    "# Create evaluator and get metrics\n",
    "evaluator = TSForecastEvaluator(\n",
    "    CA_data_module, horizons=list(range(1, model.config.output_len + 1))\n",
    ")\n",
    "results_df, overall_metrics, basin_metrics = evaluator.evaluate(raw_results)\n",
    "\n",
    "# Get overall summary\n",
    "overall_summary = evaluator.summarize_metrics(overall_metrics)\n",
    "\n",
    "# Get per-basin summary\n",
    "basin_summary = evaluator.summarize_metrics(basin_metrics, per_basin=True)"
   ]
  },
  {
   "cell_type": "code",
   "execution_count": 14,
   "metadata": {},
   "outputs": [
    {
     "data": {
      "image/png": "[encoded data removed]",
      "text/plain": [
       "<Figure size 1000x600 with 1 Axes>"
      ]
     },
     "metadata": {},
     "output_type": "display_data"
    },
    {
     "data": {
      "image/png": "[encoded data removed]",
      "text/plain": [
       "<Figure size 1200x600 with 1 Axes>"
      ]
     },
     "metadata": {},
     "output_type": "display_data"
    }
   ],
   "source": [
    "import matplotlib.pyplot as plt\n",
    "import seaborn as sns\n",
    "\n",
    "\n",
    "def plot_metric_summary(\n",
    "    summary_df: pd.DataFrame, metric: str, per_basin: bool = False, figsize=(10, 6)\n",
    "):\n",
    "    plt.figure(figsize=figsize)\n",
    "\n",
    "    if per_basin:\n",
    "        df_plot = summary_df[metric].unstack(level=0)\n",
    "\n",
    "        # Sort basins based on first horizon values\n",
    "        first_horizon_values = df_plot.iloc[0]\n",
    "        sorted_basins = first_horizon_values.sort_values(ascending=False).index\n",
    "        df_plot = df_plot[sorted_basins]\n",
    "\n",
    "        sns.barplot(\n",
    "            data=df_plot.melt(ignore_index=False).reset_index(),\n",
    "            x=\"horizon\",\n",
    "            y=\"value\",\n",
    "            hue=\"basin_id\",\n",
    "            palette=\"Blues\",\n",
    "        )\n",
    "        plt.title(f\"{metric} by Basin and Horizon\")\n",
    "        plt.legend(bbox_to_anchor=(1.05, 1), loc=\"upper left\", title=\"Basin ID\")\n",
    "\n",
    "    else:\n",
    "        ax = sns.barplot(x=summary_df.index, y=summary_df[metric], color=\"steelblue\")\n",
    "        plt.title(f\"Overall {metric} by Horizon\")\n",
    "\n",
    "        for i, v in enumerate(summary_df[metric]):\n",
    "            ax.text(i, v, f\"{v:.2f}\", ha=\"center\", va=\"bottom\")\n",
    "\n",
    "    plt.xlabel(\"Forecast Horizon\")\n",
    "    plt.ylabel(metric)\n",
    "    plt.tight_layout()\n",
    "    sns.despine()\n",
    "    plt.show()\n",
    "\n",
    "\n",
    "# Usage example:\n",
    "plot_metric_summary(overall_summary, \"NSE\")  # Plot overall NSE\n",
    "plot_metric_summary(\n",
    "    basin_summary, \"NSE\", per_basin=True, figsize=(12, 6)\n",
    ")  "
   ]
  }
 ],
 "metadata": {
  "kernelspec": {
   "display_name": ".venv",
   "language": "python",
   "name": "python3"
  },
  "language_info": {
   "codemirror_mode": {
    "name": "ipython",
    "version": 3
   },
   "file_extension": ".py",
   "mimetype": "text/x-python",
   "name": "python",
   "nbconvert_exporter": "python",
   "pygments_lexer": "ipython3",
   "version": "3.12.8"
  }
 },
 "nbformat": 4,
 "nbformat_minor": 2
}
