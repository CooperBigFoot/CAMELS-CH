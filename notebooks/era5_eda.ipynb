{
 "cells": [
  {
   "cell_type": "code",
   "execution_count": 1,
   "metadata": {},
   "outputs": [],
   "source": [
    "import cdsapi\n",
    "import geopandas as gpd\n",
    "from time import sleep"
   ]
  },
  {
   "cell_type": "markdown",
   "metadata": {},
   "source": [
    "---"
   ]
  },
  {
   "cell_type": "code",
   "execution_count": 2,
   "metadata": {},
   "outputs": [
    {
     "name": "stderr",
     "output_type": "stream",
     "text": [
      "2025-02-10 18:20:55,762 INFO [2024-09-26T00:00:00] Watch our [Forum](https://forum.ecmwf.int/) for Announcements, news and other discussed topics.\n",
      "2025-02-10 18:20:55,762 WARNING [2024-06-16T00:00:00] CDS API syntax is changed and some keys or parameter names may have also changed. To avoid requests failing, please use the \"Show API request code\" tool on the dataset Download Form to check you are using the correct syntax for your API request.\n"
     ]
    }
   ],
   "source": [
    "client = cdsapi.Client()"
   ]
  },
  {
   "cell_type": "code",
   "execution_count": 3,
   "metadata": {},
   "outputs": [],
   "source": [
    "path_to_shapefiles = \"/Users/cooper/Desktop/CAMELS-CH/data/catchment_delineations/CAMELS_CH_catchments.shp\"\n",
    "\n",
    "gdf = gpd.read_file(path_to_shapefiles).to_crs(epsg=4326)"
   ]
  },
  {
   "cell_type": "code",
   "execution_count": 4,
   "metadata": {},
   "outputs": [
    {
     "data": {
      "text/plain": [
       "(np.float64(48.02963712004707),\n",
       " np.float64(5.860068506597615),\n",
       " np.float64(45.68298143391117),\n",
       " np.float64(10.596744444353288))"
      ]
     },
     "execution_count": 4,
     "metadata": {},
     "output_type": "execute_result"
    }
   ],
   "source": [
    "def get_bounding_box(gdf):\n",
    "    \"\"\"\n",
    "    Get the bounding box coordinates for a GeoDataFrame.\n",
    "    \n",
    "    Args:\n",
    "        gdf (gpd.GeoDataFrame): GeoDataFrame containing geometries\n",
    "        \n",
    "    Returns:\n",
    "        tuple: Bounding box coordinates in format (North, West, South, East)\n",
    "        \n",
    "    Example:\n",
    "        >>> bbox = get_bounding_box(gdf)\n",
    "        >>> print(bbox)\n",
    "        (47.808, 5.956, 45.817, 10.492)\n",
    "    \"\"\"\n",
    "    total_bounds = gdf.total_bounds\n",
    "    # total_bounds returns (minx, miny, maxx, maxy)\n",
    "    # Convert to (North, West, South, East) format\n",
    "    west = total_bounds[0]\n",
    "    south = total_bounds[1]\n",
    "    east = total_bounds[2]\n",
    "    north = total_bounds[3]\n",
    "    \n",
    "    return (north, west, south, east)\n",
    "\n",
    "bbox = get_bounding_box(gdf)\n",
    "bbox"
   ]
  },
  {
   "cell_type": "code",
   "execution_count": 5,
   "metadata": {},
   "outputs": [
    {
     "name": "stderr",
     "output_type": "stream",
     "text": [
      "2025-02-10 18:20:57,530 INFO Request ID is cfa8b319-f92e-42a9-a5d9-5c1a56d6e371\n",
      "2025-02-10 18:20:57,575 INFO status has been updated to accepted\n",
      "2025-02-10 18:21:06,775 INFO status has been updated to running\n",
      "2025-02-10 18:27:22,373 INFO status has been updated to successful\n"
     ]
    },
    {
     "data": {
      "application/vnd.jupyter.widget-view+json": {
       "model_id": "1e235a1f9e924a4baba9db7cdef7e188",
       "version_major": 2,
       "version_minor": 0
      },
      "text/plain": [
       "8afd5b247fa2c1a7e453dac00210f1db.zip:   0%|          | 0.00/3.19M [00:00<?, ?B/s]"
      ]
     },
     "metadata": {},
     "output_type": "display_data"
    },
    {
     "name": "stderr",
     "output_type": "stream",
     "text": [
      "2025-02-10 18:27:22,999 INFO Request ID is 151f1b25-4484-4ada-98f8-fcc65839b08a\n",
      "2025-02-10 18:27:23,469 INFO status has been updated to accepted\n",
      "2025-02-10 18:27:37,433 INFO status has been updated to running\n",
      "2025-02-10 18:29:18,220 INFO status has been updated to successful\n"
     ]
    },
    {
     "data": {
      "application/vnd.jupyter.widget-view+json": {
       "model_id": "eb034f22279b4b58af49168167656228",
       "version_major": 2,
       "version_minor": 0
      },
      "text/plain": [
       "e502dd027b3758a6cd7b54c0b1699932.zip:   0%|          | 0.00/1.07M [00:00<?, ?B/s]"
      ]
     },
     "metadata": {},
     "output_type": "display_data"
    },
    {
     "name": "stderr",
     "output_type": "stream",
     "text": [
      "2025-02-10 18:29:23,857 INFO Request ID is 10d4921c-016f-4b71-b0fd-5425eae575a7\n",
      "2025-02-10 18:29:23,966 INFO status has been updated to accepted\n",
      "2025-02-10 18:29:32,290 INFO status has been updated to running\n",
      "2025-02-10 18:39:47,980 INFO status has been updated to successful\n"
     ]
    },
    {
     "data": {
      "application/vnd.jupyter.widget-view+json": {
       "model_id": "567c3ebaf99347269ed44faf026caf0d",
       "version_major": 2,
       "version_minor": 0
      },
      "text/plain": [
       "9dc5f840a347d1c70a99ff52ecca49c8.zip:   0%|          | 0.00/3.18M [00:00<?, ?B/s]"
      ]
     },
     "metadata": {},
     "output_type": "display_data"
    },
    {
     "name": "stderr",
     "output_type": "stream",
     "text": [
      "2025-02-10 18:39:48,587 INFO Request ID is 8cd2a582-157e-4742-a606-3bcd2c16d255\n",
      "2025-02-10 18:39:48,620 INFO status has been updated to accepted\n",
      "2025-02-10 18:40:10,292 INFO status has been updated to running\n",
      "2025-02-10 18:41:43,794 INFO status has been updated to successful\n"
     ]
    },
    {
     "data": {
      "application/vnd.jupyter.widget-view+json": {
       "model_id": "bc3f110dab6d47feb7bfd109b3b713d4",
       "version_major": 2,
       "version_minor": 0
      },
      "text/plain": [
       "56bda1d5075f7efdba222773f6c5eeae.zip:   0%|          | 0.00/1.08M [00:00<?, ?B/s]"
      ]
     },
     "metadata": {},
     "output_type": "display_data"
    },
    {
     "name": "stderr",
     "output_type": "stream",
     "text": [
      "2025-02-10 18:41:49,503 INFO Request ID is d04a8ae6-7e6d-4fe1-a632-fd89e8d9bd98\n",
      "2025-02-10 18:41:49,540 INFO status has been updated to accepted\n",
      "2025-02-10 18:41:57,933 INFO status has been updated to running\n",
      "2025-02-10 18:48:08,372 INFO status has been updated to successful\n"
     ]
    },
    {
     "data": {
      "application/vnd.jupyter.widget-view+json": {
       "model_id": "97ee05db3c2f4cfd8b83b32d8579957c",
       "version_major": 2,
       "version_minor": 0
      },
      "text/plain": [
       "3e383de5c482134061c526d59686e0de.zip:   0%|          | 0.00/3.18M [00:00<?, ?B/s]"
      ]
     },
     "metadata": {},
     "output_type": "display_data"
    },
    {
     "name": "stderr",
     "output_type": "stream",
     "text": [
      "2025-02-10 18:48:09,191 INFO Request ID is 89fc583f-1c71-44b1-87bc-bb4af73f7167\n",
      "2025-02-10 18:48:09,249 INFO status has been updated to accepted\n",
      "2025-02-10 18:48:14,111 INFO status has been updated to running\n",
      "2025-02-10 18:50:03,300 INFO status has been updated to successful\n"
     ]
    },
    {
     "data": {
      "application/vnd.jupyter.widget-view+json": {
       "model_id": "33e38e8f4bb1442fbea1a5aea7e41de5",
       "version_major": 2,
       "version_minor": 0
      },
      "text/plain": [
       "d167266f1fee6d402cb82e79500096c2.zip:   0%|          | 0.00/1.11M [00:00<?, ?B/s]"
      ]
     },
     "metadata": {},
     "output_type": "display_data"
    },
    {
     "name": "stderr",
     "output_type": "stream",
     "text": [
      "2025-02-10 18:50:08,869 INFO Request ID is 611e413f-f378-4e4b-b975-0c502c980432\n",
      "2025-02-10 18:50:08,904 INFO status has been updated to accepted\n",
      "2025-02-10 18:50:41,435 INFO status has been updated to running\n",
      "2025-02-10 18:58:37,588 INFO status has been updated to successful\n"
     ]
    },
    {
     "data": {
      "application/vnd.jupyter.widget-view+json": {
       "model_id": "5641df66fd24490da7130cf71735f536",
       "version_major": 2,
       "version_minor": 0
      },
      "text/plain": [
       "e78e2f3161a82b24b1ade06889086265.zip:   0%|          | 0.00/3.18M [00:00<?, ?B/s]"
      ]
     },
     "metadata": {},
     "output_type": "display_data"
    },
    {
     "name": "stderr",
     "output_type": "stream",
     "text": [
      "2025-02-10 18:58:38,689 INFO Request ID is 31b31d64-d3b9-4f29-95a3-1156076018aa\n",
      "2025-02-10 18:58:38,743 INFO status has been updated to accepted\n",
      "2025-02-10 18:58:43,679 INFO status has been updated to running\n",
      "2025-02-10 19:01:30,469 INFO status has been updated to successful\n"
     ]
    },
    {
     "data": {
      "application/vnd.jupyter.widget-view+json": {
       "model_id": "8856a4aac64341bca541cd8b8ea1fabd",
       "version_major": 2,
       "version_minor": 0
      },
      "text/plain": [
       "515942e90c24cca83cf5136d6e4ee2dc.zip:   0%|          | 0.00/1.10M [00:00<?, ?B/s]"
      ]
     },
     "metadata": {},
     "output_type": "display_data"
    },
    {
     "name": "stderr",
     "output_type": "stream",
     "text": [
      "2025-02-10 19:01:35,960 INFO Request ID is a4035aa4-d0e6-43a5-ae1e-2a27a938ef10\n",
      "2025-02-10 19:01:35,998 INFO status has been updated to accepted\n",
      "2025-02-10 19:01:41,032 INFO status has been updated to running\n",
      "2025-02-10 19:16:00,404 INFO status has been updated to successful\n"
     ]
    },
    {
     "data": {
      "application/vnd.jupyter.widget-view+json": {
       "model_id": "3f3f7a06845c4ca08e6d9f11925e6daa",
       "version_major": 2,
       "version_minor": 0
      },
      "text/plain": [
       "7e7a69b7271d7164aa44ee749bf9928b.zip:   0%|          | 0.00/3.19M [00:00<?, ?B/s]"
      ]
     },
     "metadata": {},
     "output_type": "display_data"
    },
    {
     "name": "stderr",
     "output_type": "stream",
     "text": [
      "2025-02-10 19:16:01,079 INFO Request ID is 8b061d96-3d1a-46f6-87ca-a327c9591c6f\n",
      "2025-02-10 19:16:01,114 INFO status has been updated to accepted\n",
      "2025-02-10 19:16:14,534 INFO status has been updated to running\n",
      "2025-02-10 19:16:22,190 INFO status has been updated to accepted\n",
      "2025-02-10 19:16:33,643 INFO status has been updated to running\n",
      "2025-02-10 19:17:55,063 INFO status has been updated to successful\n"
     ]
    },
    {
     "data": {
      "application/vnd.jupyter.widget-view+json": {
       "model_id": "760c8b5d215540c89e3978252a36822f",
       "version_major": 2,
       "version_minor": 0
      },
      "text/plain": [
       "977aa8d53cf0bca9acbce6d851aa9d83.zip:   0%|          | 0.00/1.10M [00:00<?, ?B/s]"
      ]
     },
     "metadata": {},
     "output_type": "display_data"
    },
    {
     "name": "stderr",
     "output_type": "stream",
     "text": [
      "2025-02-10 19:18:00,724 INFO Request ID is 7b4ed786-847f-4def-9a3e-34cb2865f3c1\n",
      "2025-02-10 19:18:00,884 INFO status has been updated to accepted\n",
      "2025-02-10 19:18:09,369 INFO status has been updated to running\n",
      "2025-02-10 19:24:24,567 INFO status has been updated to successful\n"
     ]
    },
    {
     "data": {
      "application/vnd.jupyter.widget-view+json": {
       "model_id": "51b91fd95ee44bc78d5980dd050fc490",
       "version_major": 2,
       "version_minor": 0
      },
      "text/plain": [
       "755dd8cb28afed5978344ee420b2dbee.zip:   0%|          | 0.00/3.18M [00:00<?, ?B/s]"
      ]
     },
     "metadata": {},
     "output_type": "display_data"
    },
    {
     "name": "stderr",
     "output_type": "stream",
     "text": [
      "2025-02-10 19:24:25,307 INFO Request ID is 10f5f6da-69b5-413e-8228-daf5a7a3cba7\n",
      "2025-02-10 19:24:25,369 INFO status has been updated to accepted\n",
      "2025-02-10 19:24:33,706 INFO status has been updated to running\n",
      "2025-02-10 19:26:19,290 INFO status has been updated to successful\n"
     ]
    },
    {
     "data": {
      "application/vnd.jupyter.widget-view+json": {
       "model_id": "d743c5e4b7e54ff49fbe881704051128",
       "version_major": 2,
       "version_minor": 0
      },
      "text/plain": [
       "6cebc7328381d07ee38e1d987d41d526.zip:   0%|          | 0.00/1.04M [00:00<?, ?B/s]"
      ]
     },
     "metadata": {},
     "output_type": "display_data"
    },
    {
     "name": "stderr",
     "output_type": "stream",
     "text": [
      "2025-02-10 19:26:24,976 INFO Request ID is 86d91c60-3129-42b3-ab0a-b4ef1e79780a\n",
      "2025-02-10 19:26:25,053 INFO status has been updated to accepted\n",
      "2025-02-10 19:26:46,263 INFO status has been updated to running\n",
      "2025-02-10 19:32:48,795 INFO status has been updated to successful\n"
     ]
    },
    {
     "data": {
      "application/vnd.jupyter.widget-view+json": {
       "model_id": "af3a8da651634a7795d9a71266cd713e",
       "version_major": 2,
       "version_minor": 0
      },
      "text/plain": [
       "ece24f83fa8cf35443ee4484637a1deb.zip:   0%|          | 0.00/3.18M [00:00<?, ?B/s]"
      ]
     },
     "metadata": {},
     "output_type": "display_data"
    },
    {
     "name": "stderr",
     "output_type": "stream",
     "text": [
      "2025-02-10 19:32:49,409 INFO Request ID is 42a9f9eb-0330-4fc7-ab13-2121615bfcd0\n",
      "2025-02-10 19:32:49,455 INFO status has been updated to accepted\n",
      "2025-02-10 19:32:57,736 INFO status has been updated to running\n",
      "2025-02-10 19:34:43,626 INFO status has been updated to successful\n"
     ]
    },
    {
     "data": {
      "application/vnd.jupyter.widget-view+json": {
       "model_id": "f91058309b4242a8ba325b660eedd625",
       "version_major": 2,
       "version_minor": 0
      },
      "text/plain": [
       "1f9f2c242b7ee90a170fc74da39865aa.zip:   0%|          | 0.00/1.06M [00:00<?, ?B/s]"
      ]
     },
     "metadata": {},
     "output_type": "display_data"
    },
    {
     "name": "stderr",
     "output_type": "stream",
     "text": [
      "2025-02-10 19:34:49,180 INFO Request ID is 08150d83-223b-4699-9962-2d43b26ac551\n",
      "2025-02-10 19:34:49,213 INFO status has been updated to accepted\n",
      "2025-02-10 19:34:57,662 INFO status has been updated to running\n",
      "2025-02-10 19:41:08,471 INFO status has been updated to successful\n"
     ]
    },
    {
     "data": {
      "application/vnd.jupyter.widget-view+json": {
       "model_id": "c7882ccb17974327b8a3bb9cdb11b08c",
       "version_major": 2,
       "version_minor": 0
      },
      "text/plain": [
       "36ec1cd568cda71d6d48f5100f043799.zip:   0%|          | 0.00/3.18M [00:00<?, ?B/s]"
      ]
     },
     "metadata": {},
     "output_type": "display_data"
    },
    {
     "name": "stderr",
     "output_type": "stream",
     "text": [
      "2025-02-10 19:41:09,545 INFO Request ID is 93ee8feb-badd-4ba7-bf7f-d53128cba41d\n",
      "2025-02-10 19:41:09,584 INFO status has been updated to accepted\n",
      "2025-02-10 19:41:18,223 INFO status has been updated to running\n",
      "2025-02-10 19:43:03,771 INFO status has been updated to successful\n"
     ]
    },
    {
     "data": {
      "application/vnd.jupyter.widget-view+json": {
       "model_id": "1d20f0c26eb645328b857e8810d89311",
       "version_major": 2,
       "version_minor": 0
      },
      "text/plain": [
       "ba02b83532b03d34e7e058d759c869ee.zip:   0%|          | 0.00/1.11M [00:00<?, ?B/s]"
      ]
     },
     "metadata": {},
     "output_type": "display_data"
    },
    {
     "name": "stderr",
     "output_type": "stream",
     "text": [
      "2025-02-10 19:43:09,465 INFO Request ID is 7adbe780-742a-4414-afb3-b3ea82032b05\n",
      "2025-02-10 19:43:09,540 INFO status has been updated to accepted\n",
      "2025-02-10 19:43:18,263 INFO status has been updated to running\n",
      "2025-02-10 19:49:28,839 INFO status has been updated to successful\n"
     ]
    },
    {
     "data": {
      "application/vnd.jupyter.widget-view+json": {
       "model_id": "24819bc3b933461c9ae21b52ee9295b0",
       "version_major": 2,
       "version_minor": 0
      },
      "text/plain": [
       "b447b1d991113fe2d305965c4a475ae1.zip:   0%|          | 0.00/3.19M [00:00<?, ?B/s]"
      ]
     },
     "metadata": {},
     "output_type": "display_data"
    },
    {
     "name": "stderr",
     "output_type": "stream",
     "text": [
      "2025-02-10 19:49:29,543 INFO Request ID is 9cc74d94-6081-43e9-879f-a66fcb4d6946\n",
      "2025-02-10 19:49:29,585 INFO status has been updated to accepted\n",
      "2025-02-10 19:49:37,941 INFO status has been updated to running\n",
      "2025-02-10 19:51:23,633 INFO status has been updated to successful\n"
     ]
    },
    {
     "data": {
      "application/vnd.jupyter.widget-view+json": {
       "model_id": "4287e2d15a4f4c52836120ca3c35b410",
       "version_major": 2,
       "version_minor": 0
      },
      "text/plain": [
       "66fdce22131b970d9cf6a6e4e5a09a3f.zip:   0%|          | 0.00/1.10M [00:00<?, ?B/s]"
      ]
     },
     "metadata": {},
     "output_type": "display_data"
    },
    {
     "name": "stderr",
     "output_type": "stream",
     "text": [
      "2025-02-10 19:51:29,186 INFO Request ID is e4202ddb-8423-4049-b9f8-4fe07d7f1ac0\n",
      "2025-02-10 19:51:29,260 INFO status has been updated to accepted\n",
      "2025-02-10 19:51:37,675 INFO status has been updated to running\n",
      "2025-02-10 19:57:52,829 INFO status has been updated to successful\n"
     ]
    },
    {
     "data": {
      "application/vnd.jupyter.widget-view+json": {
       "model_id": "15c9a02e1b5f4807abdee31e472895f2",
       "version_major": 2,
       "version_minor": 0
      },
      "text/plain": [
       "e31920981da66955194c842f4ad9b5ec.zip:   0%|          | 0.00/3.18M [00:00<?, ?B/s]"
      ]
     },
     "metadata": {},
     "output_type": "display_data"
    },
    {
     "name": "stderr",
     "output_type": "stream",
     "text": [
      "2025-02-10 19:57:53,541 INFO Request ID is 1aef0c32-7161-400e-86ab-138801666c60\n",
      "2025-02-10 19:57:53,601 INFO status has been updated to accepted\n",
      "2025-02-10 19:58:01,917 INFO status has been updated to running\n",
      "2025-02-10 19:59:47,478 INFO status has been updated to successful\n"
     ]
    },
    {
     "data": {
      "application/vnd.jupyter.widget-view+json": {
       "model_id": "b32dd9a2a5ed4672891d901d808e00ae",
       "version_major": 2,
       "version_minor": 0
      },
      "text/plain": [
       "d2642d148dae305304e1298a86655bc9.zip:   0%|          | 0.00/1.11M [00:00<?, ?B/s]"
      ]
     },
     "metadata": {},
     "output_type": "display_data"
    },
    {
     "name": "stderr",
     "output_type": "stream",
     "text": [
      "2025-02-10 19:59:53,018 INFO Request ID is 0e744930-634c-43ee-a664-7d683ba4336d\n",
      "2025-02-10 19:59:53,092 INFO status has been updated to accepted\n",
      "2025-02-10 20:00:01,549 INFO status has been updated to running\n",
      "2025-02-10 20:06:12,353 INFO status has been updated to successful\n"
     ]
    },
    {
     "data": {
      "application/vnd.jupyter.widget-view+json": {
       "model_id": "4cf758203a224641ad0ec52b63943e80",
       "version_major": 2,
       "version_minor": 0
      },
      "text/plain": [
       "4bc4e3840099975ed7c3c6b5b92350c6.zip:   0%|          | 0.00/3.18M [00:00<?, ?B/s]"
      ]
     },
     "metadata": {},
     "output_type": "display_data"
    },
    {
     "name": "stderr",
     "output_type": "stream",
     "text": [
      "2025-02-10 20:06:13,464 INFO Request ID is 9c467b11-593d-40a5-baf3-6a8be44c96a1\n",
      "2025-02-10 20:06:13,604 INFO status has been updated to accepted\n",
      "2025-02-10 20:06:27,096 INFO status has been updated to running\n",
      "2025-02-10 20:09:05,297 INFO status has been updated to successful\n"
     ]
    },
    {
     "data": {
      "application/vnd.jupyter.widget-view+json": {
       "model_id": "7ac8c3da696845b6a58ffcee50755639",
       "version_major": 2,
       "version_minor": 0
      },
      "text/plain": [
       "751c5bd1fbe6cb504db145381f8235dd.zip:   0%|          | 0.00/1.09M [00:00<?, ?B/s]"
      ]
     },
     "metadata": {},
     "output_type": "display_data"
    },
    {
     "name": "stderr",
     "output_type": "stream",
     "text": [
      "2025-02-10 20:09:11,007 INFO Request ID is 2e0e82be-3d2c-48a6-8546-f019c2c142aa\n",
      "2025-02-10 20:09:11,048 INFO status has been updated to accepted\n",
      "2025-02-10 20:09:19,536 INFO status has been updated to running\n",
      "2025-02-10 20:15:49,822 INFO status has been updated to successful\n"
     ]
    },
    {
     "data": {
      "application/vnd.jupyter.widget-view+json": {
       "model_id": "dda967a9ffef4aafb67a2a6aa366de68",
       "version_major": 2,
       "version_minor": 0
      },
      "text/plain": [
       "243daa27e5445103904a34ed06f9a0eb.zip:   0%|          | 0.00/3.18M [00:00<?, ?B/s]"
      ]
     },
     "metadata": {},
     "output_type": "display_data"
    },
    {
     "name": "stderr",
     "output_type": "stream",
     "text": [
      "2025-02-10 20:15:50,402 INFO Request ID is 7c891b48-ed97-4dfc-b9ac-a9bbc4028af5\n",
      "2025-02-10 20:15:50,450 INFO status has been updated to accepted\n",
      "2025-02-10 20:16:03,960 INFO status has been updated to running\n",
      "2025-02-10 20:17:44,476 INFO status has been updated to successful\n"
     ]
    },
    {
     "data": {
      "application/vnd.jupyter.widget-view+json": {
       "model_id": "01b9a130423344e6a8c236ef415e435e",
       "version_major": 2,
       "version_minor": 0
      },
      "text/plain": [
       "cdbfe0fd39570ec73d0ef38ef9ddd7b8.zip:   0%|          | 0.00/1.03M [00:00<?, ?B/s]"
      ]
     },
     "metadata": {},
     "output_type": "display_data"
    },
    {
     "name": "stderr",
     "output_type": "stream",
     "text": [
      "2025-02-10 20:17:50,239 INFO Request ID is 00f04c0b-d540-4e2c-81ad-22a575b9a155\n",
      "2025-02-10 20:17:50,288 INFO status has been updated to accepted\n",
      "2025-02-10 20:17:58,637 INFO status has been updated to running\n",
      "2025-02-10 20:18:03,749 INFO status has been updated to accepted\n",
      "2025-02-10 20:18:22,916 INFO status has been updated to running\n",
      "2025-02-10 20:24:09,179 INFO status has been updated to successful\n"
     ]
    },
    {
     "data": {
      "application/vnd.jupyter.widget-view+json": {
       "model_id": "b679d7ea748c4c92b1c16c5e9204ada0",
       "version_major": 2,
       "version_minor": 0
      },
      "text/plain": [
       "926b97e228d1b026f4032abce8081d03.zip:   0%|          | 0.00/3.18M [00:00<?, ?B/s]"
      ]
     },
     "metadata": {},
     "output_type": "display_data"
    },
    {
     "name": "stderr",
     "output_type": "stream",
     "text": [
      "2025-02-10 20:24:10,199 INFO Request ID is 3c7b3378-b715-4f08-8e11-ddbc5d74a4b8\n",
      "2025-02-10 20:24:10,230 INFO status has been updated to accepted\n",
      "2025-02-10 20:24:19,538 INFO status has been updated to running\n",
      "2025-02-10 20:27:07,950 INFO status has been updated to successful\n"
     ]
    },
    {
     "data": {
      "application/vnd.jupyter.widget-view+json": {
       "model_id": "ea8b8dd944314e74a1a74739293bccc8",
       "version_major": 2,
       "version_minor": 0
      },
      "text/plain": [
       "2de740c1612b59ac6ffb57fa64210dd6.zip:   0%|          | 0.00/1.08M [00:00<?, ?B/s]"
      ]
     },
     "metadata": {},
     "output_type": "display_data"
    },
    {
     "name": "stderr",
     "output_type": "stream",
     "text": [
      "2025-02-10 20:27:13,606 INFO Request ID is 560385ed-cc64-4ae5-a8a0-04af2190df52\n",
      "2025-02-10 20:27:13,650 INFO status has been updated to accepted\n",
      "2025-02-10 20:27:22,264 INFO status has been updated to running\n",
      "2025-02-10 20:33:38,391 INFO status has been updated to successful\n"
     ]
    },
    {
     "data": {
      "application/vnd.jupyter.widget-view+json": {
       "model_id": "0aaeb8ac522e497f999049643a787f2d",
       "version_major": 2,
       "version_minor": 0
      },
      "text/plain": [
       "9574ce1999c1451cef5f8a501b3a1e40.zip:   0%|          | 0.00/3.18M [00:00<?, ?B/s]"
      ]
     },
     "metadata": {},
     "output_type": "display_data"
    },
    {
     "name": "stderr",
     "output_type": "stream",
     "text": [
      "2025-02-10 20:33:40,176 INFO Request ID is 7c0c18b4-b4ba-47ce-9445-67f40c5dea15\n",
      "2025-02-10 20:33:40,231 INFO status has been updated to accepted\n",
      "2025-02-10 20:33:48,641 INFO status has been updated to running\n",
      "2025-02-10 20:35:34,583 INFO status has been updated to successful\n"
     ]
    },
    {
     "data": {
      "application/vnd.jupyter.widget-view+json": {
       "model_id": "48fcdf1c6489407c8b7746e1e41233c4",
       "version_major": 2,
       "version_minor": 0
      },
      "text/plain": [
       "fdcf52c0945bd40a03efd552c2c7c1d.zip:   0%|          | 0.00/1.09M [00:00<?, ?B/s]"
      ]
     },
     "metadata": {},
     "output_type": "display_data"
    },
    {
     "name": "stderr",
     "output_type": "stream",
     "text": [
      "2025-02-10 20:35:40,278 INFO Request ID is fc4f76e9-dcda-4b0f-ae70-33e9b02a560e\n",
      "2025-02-10 20:35:40,371 INFO status has been updated to accepted\n",
      "2025-02-10 20:35:48,784 INFO status has been updated to running\n",
      "2025-02-10 20:42:03,974 INFO status has been updated to successful\n"
     ]
    },
    {
     "data": {
      "application/vnd.jupyter.widget-view+json": {
       "model_id": "037c70173a694a10ac033b10c23ba539",
       "version_major": 2,
       "version_minor": 0
      },
      "text/plain": [
       "eea61ce52bc811267ba435270e003798.zip:   0%|          | 0.00/3.18M [00:00<?, ?B/s]"
      ]
     },
     "metadata": {},
     "output_type": "display_data"
    },
    {
     "name": "stderr",
     "output_type": "stream",
     "text": [
      "2025-02-10 20:42:04,620 INFO Request ID is cfaa2e07-562c-4507-971f-b6550ddc509c\n",
      "2025-02-10 20:42:04,671 INFO status has been updated to accepted\n",
      "2025-02-10 20:42:13,077 INFO status has been updated to running\n",
      "2025-02-10 20:46:24,325 INFO status has been updated to successful\n"
     ]
    },
    {
     "data": {
      "application/vnd.jupyter.widget-view+json": {
       "model_id": "8b48613799a3440dae79b8cf00343f7a",
       "version_major": 2,
       "version_minor": 0
      },
      "text/plain": [
       "26360f03c49e5692057b41c11093285f.zip:   0%|          | 0.00/1.08M [00:00<?, ?B/s]"
      ]
     },
     "metadata": {},
     "output_type": "display_data"
    },
    {
     "name": "stderr",
     "output_type": "stream",
     "text": [
      "2025-02-10 20:46:29,976 INFO Request ID is 6bd0eafb-7f7c-48bf-b5a6-af0f85760b1e\n",
      "2025-02-10 20:46:30,017 INFO status has been updated to accepted\n",
      "2025-02-10 20:46:38,343 INFO status has been updated to running\n",
      "2025-02-10 20:50:53,331 INFO status has been updated to successful\n"
     ]
    },
    {
     "data": {
      "application/vnd.jupyter.widget-view+json": {
       "model_id": "316890a182e6432a9b5f3a6bac1fe504",
       "version_major": 2,
       "version_minor": 0
      },
      "text/plain": [
       "f040cd0890b4a6e0d174ab842f6d6984.zip:   0%|          | 0.00/3.18M [00:00<?, ?B/s]"
      ]
     },
     "metadata": {},
     "output_type": "display_data"
    },
    {
     "name": "stderr",
     "output_type": "stream",
     "text": [
      "2025-02-10 20:50:53,925 INFO Request ID is e4bc8158-14de-425f-954d-5bcb803e06a4\n",
      "2025-02-10 20:50:53,969 INFO status has been updated to accepted\n",
      "2025-02-10 20:51:02,367 INFO status has been updated to running\n",
      "2025-02-10 20:52:48,077 INFO status has been updated to successful\n"
     ]
    },
    {
     "data": {
      "application/vnd.jupyter.widget-view+json": {
       "model_id": "1439c3367ae047a2822736ca57655c6f",
       "version_major": 2,
       "version_minor": 0
      },
      "text/plain": [
       "db9a00162ab66552eef75e25aa07cc4a.zip:   0%|          | 0.00/1.08M [00:00<?, ?B/s]"
      ]
     },
     "metadata": {},
     "output_type": "display_data"
    },
    {
     "name": "stderr",
     "output_type": "stream",
     "text": [
      "2025-02-10 20:52:53,728 INFO Request ID is 6d6123dc-5711-48d8-baff-f1c2fb011184\n",
      "2025-02-10 20:52:53,797 INFO status has been updated to accepted\n",
      "2025-02-10 20:53:07,408 INFO status has been updated to running\n",
      "2025-02-10 20:59:17,446 INFO status has been updated to successful\n"
     ]
    },
    {
     "data": {
      "application/vnd.jupyter.widget-view+json": {
       "model_id": "1ca3822bf7bf420ead615e2e85ec1050",
       "version_major": 2,
       "version_minor": 0
      },
      "text/plain": [
       "97f7d9a4cc1a06467b1951462b4c466a.zip:   0%|          | 0.00/3.19M [00:00<?, ?B/s]"
      ]
     },
     "metadata": {},
     "output_type": "display_data"
    },
    {
     "name": "stderr",
     "output_type": "stream",
     "text": [
      "2025-02-10 20:59:18,027 INFO Request ID is e08264dd-872f-42f0-993e-ed01228532dc\n",
      "2025-02-10 20:59:18,080 INFO status has been updated to accepted\n",
      "2025-02-10 20:59:26,454 INFO status has been updated to running\n",
      "2025-02-10 21:01:19,635 INFO status has been updated to successful\n"
     ]
    },
    {
     "data": {
      "application/vnd.jupyter.widget-view+json": {
       "model_id": "42275b6a4c7e4ddf8ee91a5dcc924391",
       "version_major": 2,
       "version_minor": 0
      },
      "text/plain": [
       "ce9dad86c14ffd254014829b8410036d.zip:   0%|          | 0.00/1.10M [00:00<?, ?B/s]"
      ]
     },
     "metadata": {},
     "output_type": "display_data"
    },
    {
     "name": "stderr",
     "output_type": "stream",
     "text": [
      "2025-02-10 21:01:25,572 INFO Request ID is e734fc60-99a5-4a61-b830-8e1e46b9932c\n",
      "2025-02-10 21:01:26,117 INFO status has been updated to accepted\n",
      "2025-02-10 21:01:59,763 INFO status has been updated to running\n",
      "2025-02-10 21:07:55,816 INFO status has been updated to successful\n"
     ]
    },
    {
     "data": {
      "application/vnd.jupyter.widget-view+json": {
       "model_id": "c42fd94b918d4b039573f9ad379c9169",
       "version_major": 2,
       "version_minor": 0
      },
      "text/plain": [
       "4114ea5dfcfe05fcf3ee5106af6f481c.zip:   0%|          | 0.00/3.18M [00:00<?, ?B/s]"
      ]
     },
     "metadata": {},
     "output_type": "display_data"
    },
    {
     "name": "stderr",
     "output_type": "stream",
     "text": [
      "2025-02-10 21:07:56,547 INFO Request ID is 83cdb837-5d3f-4bd6-97e1-62a3469c93b0\n",
      "2025-02-10 21:07:56,607 INFO status has been updated to accepted\n",
      "2025-02-10 21:08:04,972 INFO status has been updated to running\n",
      "2025-02-10 21:10:48,447 INFO status has been updated to successful\n"
     ]
    },
    {
     "data": {
      "application/vnd.jupyter.widget-view+json": {
       "model_id": "f09213676aad41af9fb37e4b275c9af8",
       "version_major": 2,
       "version_minor": 0
      },
      "text/plain": [
       "4caaabfd11e251f40abc91a949cc34d3.zip:   0%|          | 0.00/1.11M [00:00<?, ?B/s]"
      ]
     },
     "metadata": {},
     "output_type": "display_data"
    },
    {
     "name": "stderr",
     "output_type": "stream",
     "text": [
      "2025-02-10 21:10:53,949 INFO Request ID is 8e226fc9-a554-4693-b712-be6907626d65\n",
      "2025-02-10 21:10:53,995 INFO status has been updated to accepted\n",
      "2025-02-10 21:11:07,444 INFO status has been updated to running\n",
      "2025-02-10 21:17:17,991 INFO status has been updated to successful\n"
     ]
    },
    {
     "data": {
      "application/vnd.jupyter.widget-view+json": {
       "model_id": "e7db330ea97140568d1719488e3aeb50",
       "version_major": 2,
       "version_minor": 0
      },
      "text/plain": [
       "830ed4059db2c781fc39086057614a99.zip:   0%|          | 0.00/3.18M [00:00<?, ?B/s]"
      ]
     },
     "metadata": {},
     "output_type": "display_data"
    },
    {
     "name": "stderr",
     "output_type": "stream",
     "text": [
      "2025-02-10 21:17:19,222 INFO Request ID is 8f886f5e-8f67-48a5-9db9-ed65e0d2123d\n",
      "2025-02-10 21:17:19,356 INFO status has been updated to accepted\n",
      "2025-02-10 21:17:32,806 INFO status has been updated to running\n",
      "2025-02-10 21:19:13,246 INFO status has been updated to successful\n"
     ]
    },
    {
     "data": {
      "application/vnd.jupyter.widget-view+json": {
       "model_id": "470a7920ad8f4b42b867c562d18664ec",
       "version_major": 2,
       "version_minor": 0
      },
      "text/plain": [
       "95321f0766f3a72a0836425409686e47.zip:   0%|          | 0.00/1.12M [00:00<?, ?B/s]"
      ]
     },
     "metadata": {},
     "output_type": "display_data"
    },
    {
     "name": "stderr",
     "output_type": "stream",
     "text": [
      "2025-02-10 21:19:18,874 INFO Request ID is ad54ff3d-069d-4bff-b36b-6868aa1c8ba3\n",
      "2025-02-10 21:19:18,918 INFO status has been updated to accepted\n",
      "2025-02-10 21:19:27,256 INFO status has been updated to running\n",
      "2025-02-10 21:23:42,553 INFO status has been updated to successful\n"
     ]
    },
    {
     "data": {
      "application/vnd.jupyter.widget-view+json": {
       "model_id": "0f96b1ce87c84920bc38212c7a21485e",
       "version_major": 2,
       "version_minor": 0
      },
      "text/plain": [
       "8da642ef917c4690ff8eaf39726f222.zip:   0%|          | 0.00/3.18M [00:00<?, ?B/s]"
      ]
     },
     "metadata": {},
     "output_type": "display_data"
    },
    {
     "name": "stderr",
     "output_type": "stream",
     "text": [
      "2025-02-10 21:23:43,233 INFO Request ID is 0729724f-7b10-4b62-a6bf-bd961c389661\n",
      "2025-02-10 21:23:43,305 INFO status has been updated to accepted\n",
      "2025-02-10 21:23:51,627 INFO status has been updated to running\n",
      "2025-02-10 21:25:37,126 INFO status has been updated to successful\n"
     ]
    },
    {
     "data": {
      "application/vnd.jupyter.widget-view+json": {
       "model_id": "0143f1cc10f04e9385a6cc8b1a31beec",
       "version_major": 2,
       "version_minor": 0
      },
      "text/plain": [
       "c1e656d61ed170f64306bf9604e85f5.zip:   0%|          | 0.00/1.05M [00:00<?, ?B/s]"
      ]
     },
     "metadata": {},
     "output_type": "display_data"
    },
    {
     "name": "stderr",
     "output_type": "stream",
     "text": [
      "2025-02-10 21:25:42,692 INFO Request ID is d7140bba-8919-4086-af9a-aad13a988f5e\n",
      "2025-02-10 21:25:42,739 INFO status has been updated to accepted\n",
      "2025-02-10 21:25:51,182 INFO status has been updated to running\n",
      "2025-02-10 21:32:12,105 INFO status has been updated to successful\n"
     ]
    },
    {
     "data": {
      "application/vnd.jupyter.widget-view+json": {
       "model_id": "1715cd1a61ef4d0f94ae62ab85ae3ac9",
       "version_major": 2,
       "version_minor": 0
      },
      "text/plain": [
       "eaa944e967df917d3ff483634e7aa7ae.zip:   0%|          | 0.00/3.19M [00:00<?, ?B/s]"
      ]
     },
     "metadata": {},
     "output_type": "display_data"
    },
    {
     "name": "stderr",
     "output_type": "stream",
     "text": [
      "2025-02-10 21:32:12,810 INFO Request ID is 76570dea-7533-47c7-86ee-633d61d22516\n",
      "2025-02-10 21:32:12,888 INFO status has been updated to accepted\n",
      "2025-02-10 21:32:26,360 INFO status has been updated to running\n",
      "2025-02-10 21:35:10,127 INFO status has been updated to successful\n"
     ]
    },
    {
     "data": {
      "application/vnd.jupyter.widget-view+json": {
       "model_id": "6ca2924b076942d890cb10a43bbeb5d9",
       "version_major": 2,
       "version_minor": 0
      },
      "text/plain": [
       "839d24a5a0b83c49fac78d9fabfde728.zip:   0%|          | 0.00/1.09M [00:00<?, ?B/s]"
      ]
     },
     "metadata": {},
     "output_type": "display_data"
    },
    {
     "name": "stderr",
     "output_type": "stream",
     "text": [
      "2025-02-10 21:35:15,698 INFO Request ID is 1866efee-5df3-422c-8cfa-723046328659\n",
      "2025-02-10 21:35:15,755 INFO status has been updated to accepted\n",
      "2025-02-10 21:35:24,117 INFO status has been updated to running\n",
      "2025-02-10 21:41:34,284 INFO status has been updated to successful\n"
     ]
    },
    {
     "data": {
      "application/vnd.jupyter.widget-view+json": {
       "model_id": "07b986540d6c4029aae9d56b394a290d",
       "version_major": 2,
       "version_minor": 0
      },
      "text/plain": [
       "cf31fee2cf51379c086d08c217d4e72.zip:   0%|          | 0.00/3.18M [00:00<?, ?B/s]"
      ]
     },
     "metadata": {},
     "output_type": "display_data"
    },
    {
     "name": "stderr",
     "output_type": "stream",
     "text": [
      "2025-02-10 21:41:35,034 INFO Request ID is 922f1328-491e-4cb2-8a4f-74950ab8dca2\n",
      "2025-02-10 21:41:35,084 INFO status has been updated to accepted\n",
      "2025-02-10 21:41:56,210 INFO status has been updated to running\n",
      "2025-02-10 21:44:26,842 INFO status has been updated to successful\n"
     ]
    },
    {
     "data": {
      "application/vnd.jupyter.widget-view+json": {
       "model_id": "0efd90cf02e0411fb25a9a572f3b6405",
       "version_major": 2,
       "version_minor": 0
      },
      "text/plain": [
       "d78a44b93e3549da30d394a82c220a2c.zip:   0%|          | 0.00/1.10M [00:00<?, ?B/s]"
      ]
     },
     "metadata": {},
     "output_type": "display_data"
    },
    {
     "name": "stderr",
     "output_type": "stream",
     "text": [
      "2025-02-10 21:44:32,513 INFO Request ID is 46213b56-28e9-458f-b46f-274adf27feda\n",
      "2025-02-10 21:44:32,554 INFO status has been updated to accepted\n",
      "2025-02-10 21:44:46,078 INFO status has been updated to running\n",
      "2025-02-10 21:50:56,203 INFO status has been updated to successful\n"
     ]
    },
    {
     "data": {
      "application/vnd.jupyter.widget-view+json": {
       "model_id": "c658c3a0d08b4291bf9c26c2965ae699",
       "version_major": 2,
       "version_minor": 0
      },
      "text/plain": [
       "2655dbed6248f85a3ef1c0f716b7e6d2.zip:   0%|          | 0.00/3.18M [00:00<?, ?B/s]"
      ]
     },
     "metadata": {},
     "output_type": "display_data"
    },
    {
     "name": "stderr",
     "output_type": "stream",
     "text": [
      "2025-02-10 21:50:56,939 INFO Request ID is 89259ee4-11d1-4723-b711-c4695c09d6d4\n",
      "2025-02-10 21:50:56,997 INFO status has been updated to accepted\n",
      "2025-02-10 21:51:10,541 INFO status has been updated to running\n",
      "2025-02-10 21:52:51,105 INFO status has been updated to successful\n"
     ]
    },
    {
     "data": {
      "application/vnd.jupyter.widget-view+json": {
       "model_id": "cb093a71d51f40d689f2e30240b3c838",
       "version_major": 2,
       "version_minor": 0
      },
      "text/plain": [
       "e951414c854a26d0565f7e69c65a20c0.zip:   0%|          | 0.00/1.10M [00:00<?, ?B/s]"
      ]
     },
     "metadata": {},
     "output_type": "display_data"
    },
    {
     "name": "stderr",
     "output_type": "stream",
     "text": [
      "2025-02-10 21:52:56,646 INFO Request ID is 70794e8b-b40a-4f70-aed2-032bb44cbc54\n",
      "2025-02-10 21:52:56,684 INFO status has been updated to accepted\n",
      "2025-02-10 21:53:10,163 INFO status has been updated to running\n",
      "2025-02-10 21:59:20,213 INFO status has been updated to successful\n"
     ]
    },
    {
     "data": {
      "application/vnd.jupyter.widget-view+json": {
       "model_id": "d5bc5722b3c7440e86110b7ff6f9a2e9",
       "version_major": 2,
       "version_minor": 0
      },
      "text/plain": [
       "2caa75eabaad8992aad1c2eadf68b2db.zip:   0%|          | 0.00/3.18M [00:00<?, ?B/s]"
      ]
     },
     "metadata": {},
     "output_type": "display_data"
    },
    {
     "name": "stderr",
     "output_type": "stream",
     "text": [
      "2025-02-10 21:59:20,869 INFO Request ID is b7632ed4-4090-4b0f-a4ee-04c5bbc0ccdd\n",
      "2025-02-10 21:59:20,911 INFO status has been updated to accepted\n",
      "2025-02-10 21:59:29,185 INFO status has been updated to running\n",
      "2025-02-10 22:01:16,369 INFO status has been updated to successful\n"
     ]
    },
    {
     "data": {
      "application/vnd.jupyter.widget-view+json": {
       "model_id": "5ef328bed2e94b7da7904e797a8fba2d",
       "version_major": 2,
       "version_minor": 0
      },
      "text/plain": [
       "1a3e546787b7134422b0eeba06f4b70.zip:   0%|          | 0.00/1.04M [00:00<?, ?B/s]"
      ]
     },
     "metadata": {},
     "output_type": "display_data"
    },
    {
     "name": "stderr",
     "output_type": "stream",
     "text": [
      "2025-02-10 22:01:22,119 INFO Request ID is e6dbb639-3505-4430-8416-17d804a65956\n",
      "2025-02-10 22:01:22,159 INFO status has been updated to accepted\n",
      "2025-02-10 22:01:35,738 INFO status has been updated to running\n",
      "2025-02-10 22:07:51,189 INFO status has been updated to successful\n"
     ]
    },
    {
     "data": {
      "application/vnd.jupyter.widget-view+json": {
       "model_id": "fc59841fe12e45ee88cc68ea70b9c990",
       "version_major": 2,
       "version_minor": 0
      },
      "text/plain": [
       "3b9a4bac59efdb9d64f61f6dcfb2d244.zip:   0%|          | 0.00/3.19M [00:00<?, ?B/s]"
      ]
     },
     "metadata": {},
     "output_type": "display_data"
    },
    {
     "name": "stderr",
     "output_type": "stream",
     "text": [
      "2025-02-10 22:07:51,693 INFO Request ID is 6e796316-3faa-41b9-bb36-ed016b42ca81\n",
      "2025-02-10 22:07:51,742 INFO status has been updated to accepted\n",
      "2025-02-10 22:08:00,070 INFO status has been updated to running\n",
      "2025-02-10 22:09:45,577 INFO status has been updated to successful\n"
     ]
    },
    {
     "data": {
      "application/vnd.jupyter.widget-view+json": {
       "model_id": "ab19a8806e884ad5807b46a52fe79ee7",
       "version_major": 2,
       "version_minor": 0
      },
      "text/plain": [
       "6ac2e1cbc57287db36dcc380d81e34e3.zip:   0%|          | 0.00/1.08M [00:00<?, ?B/s]"
      ]
     },
     "metadata": {},
     "output_type": "display_data"
    },
    {
     "name": "stderr",
     "output_type": "stream",
     "text": [
      "2025-02-10 22:09:51,184 INFO Request ID is c7de2166-7fec-462a-8dc6-9754fe8034a1\n",
      "2025-02-10 22:09:51,650 INFO status has been updated to accepted\n",
      "2025-02-10 22:10:24,219 INFO status has been updated to running\n",
      "2025-02-10 22:16:11,660 INFO status has been updated to successful\n"
     ]
    },
    {
     "data": {
      "application/vnd.jupyter.widget-view+json": {
       "model_id": "241fccdac8684bdc9440b4540ea6938b",
       "version_major": 2,
       "version_minor": 0
      },
      "text/plain": [
       "a85ea18c2e70661ce6d863007dea0aa2.zip:   0%|          | 0.00/3.18M [00:00<?, ?B/s]"
      ]
     },
     "metadata": {},
     "output_type": "display_data"
    },
    {
     "name": "stderr",
     "output_type": "stream",
     "text": [
      "2025-02-10 22:16:12,299 INFO Request ID is 2905e334-dcf4-44bf-8aa1-89c97cfa0e58\n",
      "2025-02-10 22:16:12,347 INFO status has been updated to accepted\n",
      "2025-02-10 22:16:25,792 INFO status has been updated to running\n",
      "2025-02-10 22:18:06,863 INFO status has been updated to successful\n"
     ]
    },
    {
     "data": {
      "application/vnd.jupyter.widget-view+json": {
       "model_id": "734f4554ee2d470d8046f436dde7635f",
       "version_major": 2,
       "version_minor": 0
      },
      "text/plain": [
       "dd61a0e0abb74a6f9cd25d361c532c58.zip:   0%|          | 0.00/1.06M [00:00<?, ?B/s]"
      ]
     },
     "metadata": {},
     "output_type": "display_data"
    },
    {
     "name": "stderr",
     "output_type": "stream",
     "text": [
      "2025-02-10 22:18:12,564 INFO Request ID is 7a6a31cc-c0b5-42bb-98d4-fea8df14394f\n",
      "2025-02-10 22:18:12,598 INFO status has been updated to accepted\n",
      "2025-02-10 22:18:21,048 INFO status has been updated to running\n",
      "2025-02-10 22:26:41,849 INFO status has been updated to successful\n"
     ]
    },
    {
     "data": {
      "application/vnd.jupyter.widget-view+json": {
       "model_id": "c31866183e9d4e33a3fcd932e7a48ce5",
       "version_major": 2,
       "version_minor": 0
      },
      "text/plain": [
       "69595353da0e12f1d50959b8223329c1.zip:   0%|          | 0.00/3.18M [00:00<?, ?B/s]"
      ]
     },
     "metadata": {},
     "output_type": "display_data"
    },
    {
     "name": "stderr",
     "output_type": "stream",
     "text": [
      "2025-02-10 22:26:42,551 INFO Request ID is 50ca78d1-5c9e-4159-be6c-436fb108cf60\n",
      "2025-02-10 22:26:42,602 INFO status has been updated to accepted\n",
      "2025-02-10 22:26:51,026 INFO status has been updated to running\n",
      "2025-02-10 22:28:36,665 INFO status has been updated to successful\n"
     ]
    },
    {
     "data": {
      "application/vnd.jupyter.widget-view+json": {
       "model_id": "80f5ce46b24f44d685499fed65906e1d",
       "version_major": 2,
       "version_minor": 0
      },
      "text/plain": [
       "96a6b4fd54f7fd155a7cd48f5e87fb3e.zip:   0%|          | 0.00/1.10M [00:00<?, ?B/s]"
      ]
     },
     "metadata": {},
     "output_type": "display_data"
    },
    {
     "name": "stderr",
     "output_type": "stream",
     "text": [
      "2025-02-10 22:28:42,438 INFO Request ID is 57eb027a-0d06-40a9-a791-947eea73dfeb\n",
      "2025-02-10 22:28:42,473 INFO status has been updated to accepted\n",
      "2025-02-10 22:28:56,153 INFO status has been updated to running\n",
      "2025-02-10 22:35:02,699 INFO status has been updated to successful\n"
     ]
    },
    {
     "data": {
      "application/vnd.jupyter.widget-view+json": {
       "model_id": "2207290dd20d4f2c8e5b8a65d4469df4",
       "version_major": 2,
       "version_minor": 0
      },
      "text/plain": [
       "d71720604eaf346da0a3119b24b061c6.zip:   0%|          | 0.00/3.18M [00:00<?, ?B/s]"
      ]
     },
     "metadata": {},
     "output_type": "display_data"
    },
    {
     "name": "stderr",
     "output_type": "stream",
     "text": [
      "2025-02-10 22:35:03,569 INFO Request ID is 3ca806fb-21b4-446b-afc1-d6bef217787a\n",
      "2025-02-10 22:35:03,621 INFO status has been updated to accepted\n",
      "2025-02-10 22:35:11,991 INFO status has been updated to running\n",
      "2025-02-10 22:36:57,576 INFO status has been updated to successful\n"
     ]
    },
    {
     "data": {
      "application/vnd.jupyter.widget-view+json": {
       "model_id": "50483bf0fad645de8385ae20861e0462",
       "version_major": 2,
       "version_minor": 0
      },
      "text/plain": [
       "e0da82f1a89fc8f98cda298ada1cb8c3.zip:   0%|          | 0.00/1.05M [00:00<?, ?B/s]"
      ]
     },
     "metadata": {},
     "output_type": "display_data"
    }
   ],
   "source": [
    "north, west, south, east = bbox\n",
    "\n",
    "for year in range(1992, 2020):\n",
    "    temp_request = {\n",
    "        \"format\": \"netcdf\",\n",
    "        \"download_format\": \"zip\",\n",
    "        \"variable\": \"2m_temperature\",\n",
    "        \"year\": [str(year)],\n",
    "        \"month\": [f\"{i:02d}\" for i in range(1, 13)],\n",
    "        \"day\": [f\"{i:02d}\" for i in range(1, 32)],\n",
    "        \"time\": [\"00:00\", \"06:00\", \"12:00\", \"18:00\"],\n",
    "        \"area\": [north, west, south, east],\n",
    "    }\n",
    "\n",
    "    precip_request = {\n",
    "        \"format\": \"netcdf\",\n",
    "        \"download_format\": \"zip\",\n",
    "        \"variable\": \"total_precipitation\",\n",
    "        \"year\": [str(year)],\n",
    "        \"month\": [f\"{i:02d}\" for i in range(1, 13)],\n",
    "        \"day\": [f\"{i:02d}\" for i in range(1, 32)],\n",
    "        \"time\": [\"00:00\"],\n",
    "        \"area\": [north, west, south, east],\n",
    "    }\n",
    "\n",
    "    client.retrieve(\n",
    "        \"reanalysis-era5-land\",\n",
    "        temp_request,\n",
    "        f\"/Users/cooper/Desktop/CAMELS-CH/data/ERA5_land_1981-2020/2m_temperature_{year}.nc\",\n",
    "    )\n",
    "\n",
    "    client.retrieve(\n",
    "        \"reanalysis-era5-land\",\n",
    "        precip_request,\n",
    "        f\"/Users/cooper/Desktop/CAMELS-CH/data/ERA5_land_1981-2020/total_precipitation_{year}.nc\",\n",
    "    )\n",
    "\n",
    "    sleep(5)"
   ]
  },
  {
   "cell_type": "code",
   "execution_count": null,
   "metadata": {},
   "outputs": [],
   "source": []
  }
 ],
 "metadata": {
  "kernelspec": {
   "display_name": ".venv",
   "language": "python",
   "name": "python3"
  },
  "language_info": {
   "codemirror_mode": {
    "name": "ipython",
    "version": 3
   },
   "file_extension": ".py",
   "mimetype": "text/x-python",
   "name": "python",
   "nbconvert_exporter": "python",
   "pygments_lexer": "ipython3",
   "version": "3.12.8"
  }
 },
 "nbformat": 4,
 "nbformat_minor": 2
}
