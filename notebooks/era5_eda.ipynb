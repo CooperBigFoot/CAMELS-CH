{
 "cells": [
  {
   "cell_type": "code",
   "execution_count": 1,
   "metadata": {},
   "outputs": [],
   "source": [
    "import cdsapi\n",
    "import geopandas as gpd\n",
    "from time import sleep"
   ]
  },
  {
   "cell_type": "markdown",
   "metadata": {},
   "source": [
    "---"
   ]
  },
  {
   "cell_type": "code",
   "execution_count": 2,
   "metadata": {},
   "outputs": [
    {
     "name": "stderr",
     "output_type": "stream",
     "text": [
      "2025-02-10 15:14:00,375 INFO [2024-09-26T00:00:00] Watch our [Forum](https://forum.ecmwf.int/) for Announcements, news and other discussed topics.\n",
      "2025-02-10 15:14:00,376 WARNING [2024-06-16T00:00:00] CDS API syntax is changed and some keys or parameter names may have also changed. To avoid requests failing, please use the \"Show API request code\" tool on the dataset Download Form to check you are using the correct syntax for your API request.\n"
     ]
    }
   ],
   "source": [
    "client = cdsapi.Client()"
   ]
  },
  {
   "cell_type": "code",
   "execution_count": 3,
   "metadata": {},
   "outputs": [],
   "source": [
    "path_to_shapefiles = \"/Users/cooper/Desktop/CAMELS-CH/data/catchment_delineations/CAMELS_CH_catchments.shp\"\n",
    "\n",
    "gdf = gpd.read_file(path_to_shapefiles).to_crs(epsg=4326)"
   ]
  },
  {
   "cell_type": "code",
   "execution_count": 4,
   "metadata": {},
   "outputs": [
    {
     "data": {
      "text/plain": [
       "(np.float64(48.02963712004707),\n",
       " np.float64(5.860068506597615),\n",
       " np.float64(45.68298143391117),\n",
       " np.float64(10.596744444353288))"
      ]
     },
     "execution_count": 4,
     "metadata": {},
     "output_type": "execute_result"
    }
   ],
   "source": [
    "def get_bounding_box(gdf):\n",
    "    \"\"\"\n",
    "    Get the bounding box coordinates for a GeoDataFrame.\n",
    "    \n",
    "    Args:\n",
    "        gdf (gpd.GeoDataFrame): GeoDataFrame containing geometries\n",
    "        \n",
    "    Returns:\n",
    "        tuple: Bounding box coordinates in format (North, West, South, East)\n",
    "        \n",
    "    Example:\n",
    "        >>> bbox = get_bounding_box(gdf)\n",
    "        >>> print(bbox)\n",
    "        (47.808, 5.956, 45.817, 10.492)\n",
    "    \"\"\"\n",
    "    total_bounds = gdf.total_bounds\n",
    "    # total_bounds returns (minx, miny, maxx, maxy)\n",
    "    # Convert to (North, West, South, East) format\n",
    "    west = total_bounds[0]\n",
    "    south = total_bounds[1]\n",
    "    east = total_bounds[2]\n",
    "    north = total_bounds[3]\n",
    "    \n",
    "    return (north, west, south, east)\n",
    "\n",
    "bbox = get_bounding_box(gdf)\n",
    "bbox"
   ]
  },
  {
   "cell_type": "code",
   "execution_count": 5,
   "metadata": {},
   "outputs": [
    {
     "name": "stderr",
     "output_type": "stream",
     "text": [
      "2025-02-10 15:14:02,119 INFO Request ID is 93d86fa8-3d2b-45b1-97a8-8ce330fbf17b\n",
      "2025-02-10 15:14:02,188 INFO status has been updated to accepted\n",
      "2025-02-10 15:14:10,652 INFO status has been updated to running\n",
      "2025-02-10 15:22:21,110 INFO status has been updated to successful\n",
      "2025-02-10 15:22:22,113 INFO Request ID is 11aebc4f-04a6-4737-8e65-eb1a323eb063           \n",
      "2025-02-10 15:22:22,223 INFO status has been updated to accepted\n",
      "2025-02-10 15:22:35,679 INFO status has been updated to running\n",
      "2025-02-10 15:24:16,066 INFO status has been updated to successful\n",
      "2025-02-10 15:24:21,870 INFO Request ID is 928bf6be-8730-4212-ba84-d48af99b0601           \n",
      "2025-02-10 15:24:21,920 INFO status has been updated to accepted\n",
      "2025-02-10 15:24:30,553 INFO status has been updated to running\n",
      "2025-02-10 15:30:46,344 INFO status has been updated to successful\n",
      "2025-02-10 15:30:48,565 INFO Request ID is c2b471d3-75fe-4f44-81fc-3f3490d52282           \n",
      "2025-02-10 15:30:50,613 INFO status has been updated to accepted\n",
      "2025-02-10 15:30:59,670 INFO status has been updated to running\n",
      "2025-02-10 15:32:47,043 INFO status has been updated to successful\n",
      "2025-02-10 15:32:52,581 INFO Request ID is f6c7f988-b760-4f93-8593-d1c91776276d          \n",
      "2025-02-10 15:32:52,650 INFO status has been updated to accepted\n",
      "2025-02-10 15:33:25,253 INFO status has been updated to running\n",
      "2025-02-10 15:39:22,429 INFO status has been updated to successful\n",
      "2025-02-10 15:39:23,174 INFO Request ID is 84abe039-57ea-41ca-9842-aa1f4e07fb65           \n",
      "2025-02-10 15:39:23,207 INFO status has been updated to accepted\n",
      "2025-02-10 15:39:31,594 INFO status has been updated to running\n",
      "2025-02-10 15:41:19,449 INFO status has been updated to successful\n",
      "2025-02-10 15:41:25,940 INFO Request ID is cfe3a104-2399-45c4-a584-6c89cf65413d           \n",
      "2025-02-10 15:41:26,040 INFO status has been updated to accepted\n",
      "2025-02-10 15:41:34,833 INFO status has been updated to running\n",
      "2025-02-10 15:50:00,567 INFO status has been updated to successful\n",
      "2025-02-10 15:50:01,648 INFO Request ID is c960ce97-cbe4-4dd0-8b46-c010c2f88f1e           \n",
      "2025-02-10 15:50:01,746 INFO status has been updated to accepted\n",
      "2025-02-10 15:50:10,173 INFO status has been updated to running\n",
      "2025-02-10 15:54:25,432 INFO status has been updated to successful\n",
      "2025-02-10 15:54:30,979 INFO Request ID is e714c05e-6fd8-4376-a027-810ae424f48b           \n",
      "2025-02-10 15:54:31,022 INFO status has been updated to accepted\n",
      "2025-02-10 15:54:39,374 INFO status has been updated to running\n",
      "2025-02-10 16:00:54,813 INFO status has been updated to successful\n",
      "2025-02-10 16:00:55,643 INFO Request ID is 5515ae12-8c55-4105-87a8-b1f8bd2b4e14           \n",
      "2025-02-10 16:00:55,726 INFO status has been updated to accepted\n",
      "2025-02-10 16:01:04,541 INFO status has been updated to running\n",
      "2025-02-10 16:01:17,309 INFO status has been updated to accepted\n",
      "2025-02-10 16:01:28,740 INFO status has been updated to running\n",
      "2025-02-10 16:03:48,156 INFO status has been updated to successful\n",
      "2025-02-10 16:03:53,853 INFO Request ID is 5137303e-9b80-4937-84cf-9ac06cb498fb           \n",
      "2025-02-10 16:03:53,918 INFO status has been updated to accepted\n",
      "2025-02-10 16:03:59,299 INFO status has been updated to running\n",
      "2025-02-10 16:10:18,040 INFO status has been updated to successful\n",
      "2025-02-10 16:10:18,784 INFO Request ID is 76076827-ad4d-4f63-821b-5f5d5bcc4885           \n",
      "2025-02-10 16:10:18,827 INFO status has been updated to accepted\n",
      "2025-02-10 16:10:27,127 INFO status has been updated to running\n",
      "2025-02-10 16:12:12,746 INFO status has been updated to successful\n",
      "2025-02-10 16:12:18,364 INFO Request ID is ba0b04ab-20bf-40cf-9b66-6bdfef206afc           \n",
      "2025-02-10 16:12:18,429 INFO status has been updated to accepted\n",
      "2025-02-10 16:12:26,756 INFO status has been updated to running\n",
      "2025-02-10 16:18:37,147 INFO status has been updated to successful\n"
     ]
    },
    {
     "data": {
      "application/vnd.jupyter.widget-view+json": {
       "model_id": "41830c86c916481d8e2fd6554ab8f2a3",
       "version_major": 2,
       "version_minor": 0
      },
      "text/plain": [
       "d37e4f69b1fee10dfc73f05312414d3e.zip:   0%|          | 0.00/3.19M [00:00<?, ?B/s]"
      ]
     },
     "metadata": {},
     "output_type": "display_data"
    },
    {
     "name": "stderr",
     "output_type": "stream",
     "text": [
      "2025-02-10 16:18:38,528 INFO Request ID is 266fb58a-d78e-48a2-8bf3-4f523f79c928\n",
      "2025-02-10 16:18:38,581 INFO status has been updated to accepted\n",
      "2025-02-10 16:18:52,034 INFO status has been updated to running\n",
      "2025-02-10 16:20:32,423 INFO status has been updated to successful\n"
     ]
    },
    {
     "data": {
      "application/vnd.jupyter.widget-view+json": {
       "model_id": "7c50ad7ad27b4c258a255f6c7642776c",
       "version_major": 2,
       "version_minor": 0
      },
      "text/plain": [
       "ea8880351030642de76d77145a9362a1.zip:   0%|          | 0.00/1.12M [00:00<?, ?B/s]"
      ]
     },
     "metadata": {},
     "output_type": "display_data"
    },
    {
     "name": "stderr",
     "output_type": "stream",
     "text": [
      "2025-02-10 16:20:38,078 INFO Request ID is 135b1815-2216-4985-87c3-f070f109e75f\n",
      "2025-02-10 16:20:38,132 INFO status has been updated to accepted\n",
      "2025-02-10 16:20:51,523 INFO status has been updated to running\n",
      "2025-02-10 16:20:59,149 INFO status has been updated to accepted\n",
      "2025-02-10 16:21:10,819 INFO status has been updated to running\n",
      "2025-02-10 16:26:56,846 INFO status has been updated to successful\n"
     ]
    },
    {
     "data": {
      "application/vnd.jupyter.widget-view+json": {
       "model_id": "7cd517f60f9745c4aa8834666da0f495",
       "version_major": 2,
       "version_minor": 0
      },
      "text/plain": [
       "b868da34ef871e220b6a0a0bc61ee64c.zip:   0%|          | 0.00/3.18M [00:00<?, ?B/s]"
      ]
     },
     "metadata": {},
     "output_type": "display_data"
    },
    {
     "name": "stderr",
     "output_type": "stream",
     "text": [
      "2025-02-10 16:26:58,069 INFO Request ID is 43eaf325-0a73-436b-b405-a725b5b63d95\n",
      "2025-02-10 16:26:58,112 INFO status has been updated to accepted\n",
      "2025-02-10 16:27:06,868 INFO status has been updated to running\n",
      "2025-02-10 16:28:52,481 INFO status has been updated to successful\n"
     ]
    },
    {
     "data": {
      "application/vnd.jupyter.widget-view+json": {
       "model_id": "75cbd7fdbddc478cb78ce83ed65cb44e",
       "version_major": 2,
       "version_minor": 0
      },
      "text/plain": [
       "6d26f3f9893cd8a5d2469fec332fca66.zip:   0%|          | 0.00/1.00M [00:00<?, ?B/s]"
      ]
     },
     "metadata": {},
     "output_type": "display_data"
    },
    {
     "name": "stderr",
     "output_type": "stream",
     "text": [
      "2025-02-10 16:28:58,172 INFO Request ID is 1dfcf0da-01d2-4fa8-ba68-0478d3f634d3\n",
      "2025-02-10 16:28:58,227 INFO status has been updated to accepted\n",
      "2025-02-10 16:29:12,779 INFO status has been updated to running\n",
      "2025-02-10 16:35:18,000 INFO status has been updated to successful\n"
     ]
    },
    {
     "data": {
      "application/vnd.jupyter.widget-view+json": {
       "model_id": "84e054506e544ea681097d6767c2ccf6",
       "version_major": 2,
       "version_minor": 0
      },
      "text/plain": [
       "dfa6d76ac9ac64d5aa0f01de0b4e6dff.zip:   0%|          | 0.00/3.18M [00:00<?, ?B/s]"
      ]
     },
     "metadata": {},
     "output_type": "display_data"
    },
    {
     "name": "stderr",
     "output_type": "stream",
     "text": [
      "2025-02-10 16:35:18,879 INFO Request ID is da00bc5a-3c54-4764-8bef-f5d4fed628fe\n",
      "2025-02-10 16:35:18,925 INFO status has been updated to accepted\n",
      "2025-02-10 16:35:27,259 INFO status has been updated to running\n",
      "2025-02-10 16:38:11,118 INFO status has been updated to successful\n"
     ]
    },
    {
     "data": {
      "application/vnd.jupyter.widget-view+json": {
       "model_id": "2c6b9cc87b4247ccb32cd53a13fdd32c",
       "version_major": 2,
       "version_minor": 0
      },
      "text/plain": [
       "e4f186e23cbe0b5f1321d5c00da57176.zip:   0%|          | 0.00/1.04M [00:00<?, ?B/s]"
      ]
     },
     "metadata": {},
     "output_type": "display_data"
    },
    {
     "name": "stderr",
     "output_type": "stream",
     "text": [
      "2025-02-10 16:38:16,689 INFO Request ID is bf769563-83d1-4d6a-b6b3-5a82af470596\n",
      "2025-02-10 16:38:16,972 INFO status has been updated to accepted\n",
      "2025-02-10 16:38:25,273 INFO status has been updated to running\n",
      "2025-02-10 16:44:40,391 INFO status has been updated to successful\n"
     ]
    },
    {
     "data": {
      "application/vnd.jupyter.widget-view+json": {
       "model_id": "a214d532282e4bc499f51a6d80e27ab6",
       "version_major": 2,
       "version_minor": 0
      },
      "text/plain": [
       "2d23fee2bafb5602e9d3d2af74c9e5a.zip:   0%|          | 0.00/3.18M [00:00<?, ?B/s]"
      ]
     },
     "metadata": {},
     "output_type": "display_data"
    },
    {
     "name": "stderr",
     "output_type": "stream",
     "text": [
      "2025-02-10 16:44:41,137 INFO Request ID is 1041f43b-6381-45d4-b192-0b5b35960aa0\n",
      "2025-02-10 16:44:41,197 INFO status has been updated to accepted\n",
      "2025-02-10 16:44:49,999 INFO status has been updated to running\n",
      "2025-02-10 16:45:14,206 INFO status has been updated to accepted\n",
      "2025-02-10 16:45:31,354 INFO status has been updated to running\n",
      "2025-02-10 16:46:35,585 INFO status has been updated to successful\n"
     ]
    },
    {
     "data": {
      "application/vnd.jupyter.widget-view+json": {
       "model_id": "1c07dc5cf1f7453cb3cac02e04ac650f",
       "version_major": 2,
       "version_minor": 0
      },
      "text/plain": [
       "b84ed3b6be70926b220ca8b99cf29900.zip:   0%|          | 0.00/1.05M [00:00<?, ?B/s]"
      ]
     },
     "metadata": {},
     "output_type": "display_data"
    }
   ],
   "source": [
    "north, west, south, east = bbox\n",
    "\n",
    "for year in range(1982, 1992):\n",
    "    temp_request = {\n",
    "        \"format\": \"netcdf\",\n",
    "        \"download_format\": \"zip\",\n",
    "        \"variable\": \"2m_temperature\",\n",
    "        \"year\": [str(year)],\n",
    "        \"month\": [f\"{i:02d}\" for i in range(1, 13)],\n",
    "        \"day\": [f\"{i:02d}\" for i in range(1, 32)],\n",
    "        \"time\": [\"00:00\", \"06:00\", \"12:00\", \"18:00\"],\n",
    "        \"area\": [north, west, south, east],\n",
    "    }\n",
    "\n",
    "    precip_request = {\n",
    "        \"format\": \"netcdf\",\n",
    "        \"download_format\": \"zip\",\n",
    "        \"variable\": \"total_precipitation\",\n",
    "        \"year\": [str(year)],\n",
    "        \"month\": [f\"{i:02d}\" for i in range(1, 13)],\n",
    "        \"day\": [f\"{i:02d}\" for i in range(1, 32)],\n",
    "        \"time\": [\"00:00\"],\n",
    "        \"area\": [north, west, south, east],\n",
    "    }\n",
    "\n",
    "    client.retrieve(\n",
    "        \"reanalysis-era5-land\",\n",
    "        temp_request,\n",
    "        f\"/Users/cooper/Desktop/CAMELS-CH/data/ERA5_land_1981-2020/2m_temperature_{year}.nc\",\n",
    "    )\n",
    "\n",
    "    client.retrieve(\n",
    "        \"reanalysis-era5-land\",\n",
    "        precip_request,\n",
    "        f\"/Users/cooper/Desktop/CAMELS-CH/data/ERA5_land_1981-2020/total_precipitation_{year}.nc\",\n",
    "    )\n",
    "\n",
    "    sleep(5)"
   ]
  },
  {
   "cell_type": "code",
   "execution_count": null,
   "metadata": {},
   "outputs": [],
   "source": []
  }
 ],
 "metadata": {
  "kernelspec": {
   "display_name": ".venv",
   "language": "python",
   "name": "python3"
  },
  "language_info": {
   "codemirror_mode": {
    "name": "ipython",
    "version": 3
   },
   "file_extension": ".py",
   "mimetype": "text/x-python",
   "name": "python",
   "nbconvert_exporter": "python",
   "pygments_lexer": "ipython3",
   "version": "3.12.8"
  }
 },
 "nbformat": 4,
 "nbformat_minor": 2
}
