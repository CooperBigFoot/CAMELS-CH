{
 "cells": [
  {
   "cell_type": "code",
   "execution_count": null,
   "metadata": {},
   "outputs": [],
   "source": [
    "import cdsapi\n",
    "import geopandas as gpd\n",
    "from time import sleep"
   ]
  },
  {
   "cell_type": "markdown",
   "metadata": {},
   "source": [
    "---"
   ]
  },
  {
   "cell_type": "code",
   "execution_count": null,
   "metadata": {},
   "outputs": [],
   "source": [
    "client = cdsapi.Client()"
   ]
  },
  {
   "cell_type": "code",
   "execution_count": null,
   "metadata": {},
   "outputs": [],
   "source": [
    "path_to_shapefiles = \"/Users/cooper/Desktop/CAMELS-CH/data/catchment_delineations/CAMELS_CH_catchments.shp\"\n",
    "\n",
    "gdf = gpd.read_file(path_to_shapefiles).to_crs(epsg=4326)"
   ]
  },
  {
   "cell_type": "code",
   "execution_count": null,
   "metadata": {},
   "outputs": [],
   "source": [
    "def get_bounding_box(gdf):\n",
    "    \"\"\"\n",
    "    Get the bounding box coordinates for a GeoDataFrame.\n",
    "\n",
    "    Args:\n",
    "        gdf (gpd.GeoDataFrame): GeoDataFrame containing geometries\n",
    "\n",
    "    Returns:\n",
    "        tuple: Bounding box coordinates in format (North, West, South, East)\n",
    "\n",
    "    Example:\n",
    "        >>> bbox = get_bounding_box(gdf)\n",
    "        >>> print(bbox)\n",
    "        (47.808, 5.956, 45.817, 10.492)\n",
    "    \"\"\"\n",
    "    total_bounds = gdf.total_bounds\n",
    "    # total_bounds returns (minx, miny, maxx, maxy)\n",
    "    # Convert to (North, West, South, East) format\n",
    "    west = total_bounds[0]\n",
    "    south = total_bounds[1]\n",
    "    east = total_bounds[2]\n",
    "    north = total_bounds[3]\n",
    "\n",
    "    return (north, west, south, east)\n",
    "\n",
    "\n",
    "bbox = get_bounding_box(gdf)\n",
    "bbox"
   ]
  },
  {
   "cell_type": "code",
   "execution_count": null,
   "metadata": {},
   "outputs": [],
   "source": [
    "north, west, south, east = bbox\n",
    "\n",
    "for year in range(1992, 2020):\n",
    "    temp_request = {\n",
    "        \"format\": \"netcdf\",\n",
    "        \"download_format\": \"zip\",\n",
    "        \"variable\": \"2m_temperature\",\n",
    "        \"year\": [str(year)],\n",
    "        \"month\": [f\"{i:02d}\" for i in range(1, 13)],\n",
    "        \"day\": [f\"{i:02d}\" for i in range(1, 32)],\n",
    "        \"time\": [\"00:00\", \"06:00\", \"12:00\", \"18:00\"],\n",
    "        \"area\": [north, west, south, east],\n",
    "    }\n",
    "\n",
    "    precip_request = {\n",
    "        \"format\": \"netcdf\",\n",
    "        \"download_format\": \"zip\",\n",
    "        \"variable\": \"total_precipitation\",\n",
    "        \"year\": [str(year)],\n",
    "        \"month\": [f\"{i:02d}\" for i in range(1, 13)],\n",
    "        \"day\": [f\"{i:02d}\" for i in range(1, 32)],\n",
    "        \"time\": [\"00:00\"],\n",
    "        \"area\": [north, west, south, east],\n",
    "    }\n",
    "\n",
    "    client.retrieve(\n",
    "        \"reanalysis-era5-land\",\n",
    "        temp_request,\n",
    "        f\"/Users/cooper/Desktop/CAMELS-CH/data/ERA5_land_1981-2020/2m_temperature_{year}.nc\",\n",
    "    )\n",
    "\n",
    "    client.retrieve(\n",
    "        \"reanalysis-era5-land\",\n",
    "        precip_request,\n",
    "        f\"/Users/cooper/Desktop/CAMELS-CH/data/ERA5_land_1981-2020/total_precipitation_{year}.nc\",\n",
    "    )\n",
    "\n",
    "    sleep(5)"
   ]
  },
  {
   "cell_type": "code",
   "execution_count": null,
   "metadata": {},
   "outputs": [],
   "source": []
  }
 ],
 "metadata": {
  "kernelspec": {
   "display_name": ".venv",
   "language": "python",
   "name": "python3"
  },
  "language_info": {
   "codemirror_mode": {
    "name": "ipython",
    "version": 3
   },
   "file_extension": ".py",
   "mimetype": "text/x-python",
   "name": "python",
   "nbconvert_exporter": "python",
   "pygments_lexer": "ipython3",
   "version": "3.12.8"
  }
 },
 "nbformat": 4,
 "nbformat_minor": 2
}
